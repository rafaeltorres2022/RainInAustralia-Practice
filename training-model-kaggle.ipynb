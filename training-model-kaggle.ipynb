{
 "cells": [
  {
   "cell_type": "markdown",
   "id": "a49773c6",
   "metadata": {
    "papermill": {
     "duration": 0.013057,
     "end_time": "2023-11-20T16:01:52.538740",
     "exception": false,
     "start_time": "2023-11-20T16:01:52.525683",
     "status": "completed"
    },
    "tags": []
   },
   "source": [
    "# Imports"
   ]
  },
  {
   "cell_type": "code",
   "execution_count": 1,
   "id": "cde9d3b7",
   "metadata": {
    "execution": {
     "iopub.execute_input": "2023-11-20T16:01:52.560619Z",
     "iopub.status.busy": "2023-11-20T16:01:52.560170Z",
     "iopub.status.idle": "2023-11-20T16:01:57.325039Z",
     "shell.execute_reply": "2023-11-20T16:01:57.323852Z"
    },
    "papermill": {
     "duration": 4.779083,
     "end_time": "2023-11-20T16:01:57.327986",
     "exception": false,
     "start_time": "2023-11-20T16:01:52.548903",
     "status": "completed"
    },
    "tags": []
   },
   "outputs": [],
   "source": [
    "from time import time\n",
    "import warnings\n",
    "import pandas as pd\n",
    "from math import isnan\n",
    "import seaborn as sns\n",
    "import numpy as np\n",
    "import matplotlib.pyplot as plt\n",
    "from skopt import BayesSearchCV\n",
    "from skopt.space import Real, Integer, Categorical\n",
    "from imblearn.over_sampling import SMOTE\n",
    "from imblearn.under_sampling import CondensedNearestNeighbour\n",
    "from sklearn.pipeline import make_pipeline, Pipeline\n",
    "from scipy.stats import pointbiserialr\n",
    "from sklearn.model_selection import GridSearchCV\n",
    "from sklearn.metrics import matthews_corrcoef, classification_report, roc_auc_score, roc_curve, f1_score, make_scorer, accuracy_score\n",
    "from sklearn.preprocessing import OneHotEncoder, LabelBinarizer, LabelEncoder\n",
    "from sklearn.feature_selection import mutual_info_classif, chi2, SelectKBest, SelectPercentile\n",
    "from sklearn.linear_model import SGDClassifier\n",
    "from sklearn.model_selection import train_test_split, cross_val_score\n",
    "from sklearn.preprocessing import StandardScaler, MinMaxScaler, RobustScaler\n",
    "from sklearn.feature_selection import SelectFromModel\n",
    "from sklearn.linear_model import LogisticRegression\n",
    "from sklearn.compose import make_column_transformer, ColumnTransformer\n",
    "from sklearn.ensemble import BaggingClassifier, AdaBoostClassifier, GradientBoostingClassifier, RandomForestClassifier, HistGradientBoostingClassifier\n",
    "from sklearn.neural_network import MLPClassifier\n",
    "from sklearn.decomposition import PCA\n",
    "from xgboost import XGBClassifier\n",
    "from sklearn.impute import SimpleImputer, KNNImputer\n",
    "from catboost import CatBoostClassifier\n",
    "from lightgbm import LGBMClassifier"
   ]
  },
  {
   "cell_type": "code",
   "execution_count": 2,
   "id": "a238cc44",
   "metadata": {
    "execution": {
     "iopub.execute_input": "2023-11-20T16:01:57.349941Z",
     "iopub.status.busy": "2023-11-20T16:01:57.349514Z",
     "iopub.status.idle": "2023-11-20T16:01:58.124042Z",
     "shell.execute_reply": "2023-11-20T16:01:58.122649Z"
    },
    "papermill": {
     "duration": 0.788928,
     "end_time": "2023-11-20T16:01:58.127033",
     "exception": false,
     "start_time": "2023-11-20T16:01:57.338105",
     "status": "completed"
    },
    "tags": []
   },
   "outputs": [],
   "source": [
    "data = pd.read_csv('/kaggle/input/weather-dataset-rattle-package/weatherAUS.csv')"
   ]
  },
  {
   "cell_type": "markdown",
   "id": "3653029d",
   "metadata": {
    "papermill": {
     "duration": 0.00973,
     "end_time": "2023-11-20T16:01:58.147683",
     "exception": false,
     "start_time": "2023-11-20T16:01:58.137953",
     "status": "completed"
    },
    "tags": []
   },
   "source": [
    "<p>Evaporation and Sunshine have more than 50% as NA, so I decided to drop it"
   ]
  },
  {
   "cell_type": "code",
   "execution_count": 3,
   "id": "0c9c4132",
   "metadata": {
    "execution": {
     "iopub.execute_input": "2023-11-20T16:01:58.170379Z",
     "iopub.status.busy": "2023-11-20T16:01:58.169977Z",
     "iopub.status.idle": "2023-11-20T16:01:58.507351Z",
     "shell.execute_reply": "2023-11-20T16:01:58.505994Z"
    },
    "papermill": {
     "duration": 0.352133,
     "end_time": "2023-11-20T16:01:58.510279",
     "exception": false,
     "start_time": "2023-11-20T16:01:58.158146",
     "status": "completed"
    },
    "tags": []
   },
   "outputs": [],
   "source": [
    "data.drop('Date', axis=1, inplace=True)\n",
    "data.drop(['Evaporation', 'Sunshine'], axis=1, inplace=True)\n",
    "data.drop(['WindGustDir', 'WindDir9am', 'WindDir3pm'], axis=1, inplace=True)\n",
    "data.dropna(subset=['RainTomorrow'], inplace=True)\n",
    "data.RainToday = data.RainToday.replace({'No':0, 'Yes':1})\n",
    "data.RainTomorrow = data.RainTomorrow.replace({'No':0, 'Yes':1})"
   ]
  },
  {
   "cell_type": "markdown",
   "id": "f38a43f6",
   "metadata": {
    "papermill": {
     "duration": 0.010651,
     "end_time": "2023-11-20T16:01:58.531088",
     "exception": false,
     "start_time": "2023-11-20T16:01:58.520437",
     "status": "completed"
    },
    "tags": []
   },
   "source": [
    "# Filling NAs"
   ]
  },
  {
   "cell_type": "code",
   "execution_count": 4,
   "id": "795754e5",
   "metadata": {
    "execution": {
     "iopub.execute_input": "2023-11-20T16:01:58.553984Z",
     "iopub.status.busy": "2023-11-20T16:01:58.553315Z",
     "iopub.status.idle": "2023-11-20T16:02:03.124499Z",
     "shell.execute_reply": "2023-11-20T16:02:03.123478Z"
    },
    "papermill": {
     "duration": 4.586344,
     "end_time": "2023-11-20T16:02:03.127401",
     "exception": false,
     "start_time": "2023-11-20T16:01:58.541057",
     "status": "completed"
    },
    "tags": []
   },
   "outputs": [],
   "source": [
    "def fillna_raintoday(row):\n",
    "    if pd.isna(row.RainToday):\n",
    "        if row.Rainfall > 1:\n",
    "            return 1\n",
    "        else: \n",
    "            return 0\n",
    "    else :\n",
    "        return row.RainToday\n",
    "data.RainToday = data.apply(lambda row : fillna_raintoday(row), axis = 1)"
   ]
  },
  {
   "cell_type": "code",
   "execution_count": 5,
   "id": "a8d4bb23",
   "metadata": {
    "execution": {
     "iopub.execute_input": "2023-11-20T16:02:03.149375Z",
     "iopub.status.busy": "2023-11-20T16:02:03.148995Z",
     "iopub.status.idle": "2023-11-20T16:02:03.163907Z",
     "shell.execute_reply": "2023-11-20T16:02:03.162771Z"
    },
    "papermill": {
     "duration": 0.028633,
     "end_time": "2023-11-20T16:02:03.166555",
     "exception": false,
     "start_time": "2023-11-20T16:02:03.137922",
     "status": "completed"
    },
    "tags": []
   },
   "outputs": [],
   "source": [
    "data['DiffHumidityFromPrevDay3pm'] = data.Humidity3pm.diff(1)\n",
    "data['DiffHumidityFromPrevDay9am'] = data.Humidity9am.diff(1)\n",
    "data['VarHumiditySameDay'] =  data.Humidity3pm - data.Humidity9am\n",
    "data['DiffStrongestWindToTheDayAvg'] = data.WindGustSpeed - ((data.WindSpeed3pm + data.WindSpeed9am)/2)"
   ]
  },
  {
   "cell_type": "code",
   "execution_count": 6,
   "id": "f7bd38b1",
   "metadata": {
    "execution": {
     "iopub.execute_input": "2023-11-20T16:02:03.188560Z",
     "iopub.status.busy": "2023-11-20T16:02:03.188126Z",
     "iopub.status.idle": "2023-11-20T16:02:26.282709Z",
     "shell.execute_reply": "2023-11-20T16:02:26.281451Z"
    },
    "papermill": {
     "duration": 23.108568,
     "end_time": "2023-11-20T16:02:26.285650",
     "exception": false,
     "start_time": "2023-11-20T16:02:03.177082",
     "status": "completed"
    },
    "tags": []
   },
   "outputs": [
    {
     "name": "stderr",
     "output_type": "stream",
     "text": [
      "/opt/conda/lib/python3.10/site-packages/numpy/lib/nanfunctions.py:1215: RuntimeWarning: Mean of empty slice\n",
      "  return np.nanmean(a, axis, out=out, keepdims=keepdims)\n",
      "/opt/conda/lib/python3.10/site-packages/numpy/lib/nanfunctions.py:1215: RuntimeWarning: Mean of empty slice\n",
      "  return np.nanmean(a, axis, out=out, keepdims=keepdims)\n",
      "/opt/conda/lib/python3.10/site-packages/numpy/lib/nanfunctions.py:1215: RuntimeWarning: Mean of empty slice\n",
      "  return np.nanmean(a, axis, out=out, keepdims=keepdims)\n",
      "/opt/conda/lib/python3.10/site-packages/numpy/lib/nanfunctions.py:1215: RuntimeWarning: Mean of empty slice\n",
      "  return np.nanmean(a, axis, out=out, keepdims=keepdims)\n",
      "/opt/conda/lib/python3.10/site-packages/numpy/lib/nanfunctions.py:1215: RuntimeWarning: Mean of empty slice\n",
      "  return np.nanmean(a, axis, out=out, keepdims=keepdims)\n",
      "/opt/conda/lib/python3.10/site-packages/numpy/lib/nanfunctions.py:1215: RuntimeWarning: Mean of empty slice\n",
      "  return np.nanmean(a, axis, out=out, keepdims=keepdims)\n",
      "/opt/conda/lib/python3.10/site-packages/numpy/lib/nanfunctions.py:1215: RuntimeWarning: Mean of empty slice\n",
      "  return np.nanmean(a, axis, out=out, keepdims=keepdims)\n",
      "/opt/conda/lib/python3.10/site-packages/numpy/lib/nanfunctions.py:1215: RuntimeWarning: Mean of empty slice\n",
      "  return np.nanmean(a, axis, out=out, keepdims=keepdims)\n",
      "/opt/conda/lib/python3.10/site-packages/numpy/lib/nanfunctions.py:1215: RuntimeWarning: Mean of empty slice\n",
      "  return np.nanmean(a, axis, out=out, keepdims=keepdims)\n",
      "/opt/conda/lib/python3.10/site-packages/numpy/lib/nanfunctions.py:1215: RuntimeWarning: Mean of empty slice\n",
      "  return np.nanmean(a, axis, out=out, keepdims=keepdims)\n",
      "/opt/conda/lib/python3.10/site-packages/numpy/lib/nanfunctions.py:1215: RuntimeWarning: Mean of empty slice\n",
      "  return np.nanmean(a, axis, out=out, keepdims=keepdims)\n",
      "/opt/conda/lib/python3.10/site-packages/numpy/lib/nanfunctions.py:1215: RuntimeWarning: Mean of empty slice\n",
      "  return np.nanmean(a, axis, out=out, keepdims=keepdims)\n",
      "/opt/conda/lib/python3.10/site-packages/numpy/lib/nanfunctions.py:1215: RuntimeWarning: Mean of empty slice\n",
      "  return np.nanmean(a, axis, out=out, keepdims=keepdims)\n",
      "/opt/conda/lib/python3.10/site-packages/numpy/lib/nanfunctions.py:1215: RuntimeWarning: Mean of empty slice\n",
      "  return np.nanmean(a, axis, out=out, keepdims=keepdims)\n",
      "/opt/conda/lib/python3.10/site-packages/numpy/lib/nanfunctions.py:1215: RuntimeWarning: Mean of empty slice\n",
      "  return np.nanmean(a, axis, out=out, keepdims=keepdims)\n",
      "/opt/conda/lib/python3.10/site-packages/numpy/lib/nanfunctions.py:1215: RuntimeWarning: Mean of empty slice\n",
      "  return np.nanmean(a, axis, out=out, keepdims=keepdims)\n",
      "/opt/conda/lib/python3.10/site-packages/numpy/lib/nanfunctions.py:1215: RuntimeWarning: Mean of empty slice\n",
      "  return np.nanmean(a, axis, out=out, keepdims=keepdims)\n",
      "/opt/conda/lib/python3.10/site-packages/numpy/lib/nanfunctions.py:1215: RuntimeWarning: Mean of empty slice\n",
      "  return np.nanmean(a, axis, out=out, keepdims=keepdims)\n",
      "/opt/conda/lib/python3.10/site-packages/numpy/lib/nanfunctions.py:1215: RuntimeWarning: Mean of empty slice\n",
      "  return np.nanmean(a, axis, out=out, keepdims=keepdims)\n",
      "/opt/conda/lib/python3.10/site-packages/numpy/lib/nanfunctions.py:1215: RuntimeWarning: Mean of empty slice\n",
      "  return np.nanmean(a, axis, out=out, keepdims=keepdims)\n",
      "/opt/conda/lib/python3.10/site-packages/numpy/lib/nanfunctions.py:1215: RuntimeWarning: Mean of empty slice\n",
      "  return np.nanmean(a, axis, out=out, keepdims=keepdims)\n",
      "/opt/conda/lib/python3.10/site-packages/numpy/lib/nanfunctions.py:1215: RuntimeWarning: Mean of empty slice\n",
      "  return np.nanmean(a, axis, out=out, keepdims=keepdims)\n",
      "/opt/conda/lib/python3.10/site-packages/numpy/lib/nanfunctions.py:1215: RuntimeWarning: Mean of empty slice\n",
      "  return np.nanmean(a, axis, out=out, keepdims=keepdims)\n",
      "/opt/conda/lib/python3.10/site-packages/numpy/lib/nanfunctions.py:1215: RuntimeWarning: Mean of empty slice\n",
      "  return np.nanmean(a, axis, out=out, keepdims=keepdims)\n"
     ]
    }
   ],
   "source": [
    "medians_humidity_9am = {}\n",
    "medians_humidity_3pm = {}\n",
    "medians_cloud_9am = {}\n",
    "medians_cloud_3pm = {}\n",
    "for location in data.Location.unique().tolist():\n",
    "    medians_humidity_9am[location] = data[data.Location == location].Humidity9am.median()\n",
    "    medians_humidity_3pm[location] = data[data.Location == location].Humidity3pm.median()\n",
    "    medians_cloud_9am[location] = data[data.Location == location].Cloud9am.median()\n",
    "    medians_cloud_3pm[location] = data[data.Location == location].Cloud3pm.median()\n",
    "with warnings.catch_warnings():\n",
    "    warnings.simplefilter(\"ignore\", category=RuntimeWarning)\n",
    "\n",
    "    data['VarFromLocalCloud9am'] = data.apply(\n",
    "        lambda row : row.Cloud9am - medians_cloud_9am[row.Location], axis=1)\n",
    "\n",
    "    data['VarFromLocalCloud3pm'] = data.apply(\n",
    "        lambda row : row.Cloud3pm - medians_cloud_3pm[row.Location], axis=1)\n",
    "\n",
    "    data['VarFromLocalHumidity9am'] = data.apply(\n",
    "        lambda row : row.Humidity9am - medians_humidity_9am[row.Location], axis=1)\n",
    "\n",
    "    data['VarFromLocalHumidity3pm'] = data.apply(\n",
    "        lambda row : row.Humidity3pm - medians_humidity_3pm[row.Location], axis=1)"
   ]
  },
  {
   "cell_type": "code",
   "execution_count": 7,
   "id": "21c51db1",
   "metadata": {
    "execution": {
     "iopub.execute_input": "2023-11-20T16:02:26.309520Z",
     "iopub.status.busy": "2023-11-20T16:02:26.308606Z",
     "iopub.status.idle": "2023-11-20T16:02:26.322752Z",
     "shell.execute_reply": "2023-11-20T16:02:26.321540Z"
    },
    "papermill": {
     "duration": 0.028648,
     "end_time": "2023-11-20T16:02:26.325293",
     "exception": false,
     "start_time": "2023-11-20T16:02:26.296645",
     "status": "completed"
    },
    "tags": []
   },
   "outputs": [],
   "source": [
    "data.drop('Location', axis=1, inplace=True)"
   ]
  },
  {
   "cell_type": "code",
   "execution_count": 8,
   "id": "b2c6d2c5",
   "metadata": {
    "execution": {
     "iopub.execute_input": "2023-11-20T16:02:26.349625Z",
     "iopub.status.busy": "2023-11-20T16:02:26.349218Z",
     "iopub.status.idle": "2023-11-20T16:02:26.364682Z",
     "shell.execute_reply": "2023-11-20T16:02:26.363819Z"
    },
    "papermill": {
     "duration": 0.030416,
     "end_time": "2023-11-20T16:02:26.367396",
     "exception": false,
     "start_time": "2023-11-20T16:02:26.336980",
     "status": "completed"
    },
    "tags": []
   },
   "outputs": [
    {
     "data": {
      "text/plain": [
       "MinTemp                           637\n",
       "MaxTemp                           322\n",
       "Rainfall                         1406\n",
       "WindGustSpeed                    9270\n",
       "WindSpeed9am                     1348\n",
       "WindSpeed3pm                     2630\n",
       "Humidity9am                      1774\n",
       "Humidity3pm                      3610\n",
       "Pressure9am                     14014\n",
       "Pressure3pm                     13981\n",
       "Cloud9am                        53657\n",
       "Cloud3pm                        57094\n",
       "Temp9am                           904\n",
       "Temp3pm                          2726\n",
       "RainToday                           0\n",
       "RainTomorrow                        0\n",
       "DiffHumidityFromPrevDay3pm       4289\n",
       "DiffHumidityFromPrevDay9am       2607\n",
       "VarHumiditySameDay               4286\n",
       "DiffStrongestWindToTheDayAvg     9844\n",
       "VarFromLocalCloud9am            53657\n",
       "VarFromLocalCloud3pm            57094\n",
       "VarFromLocalHumidity9am          1774\n",
       "VarFromLocalHumidity3pm          3610\n",
       "dtype: int64"
      ]
     },
     "execution_count": 8,
     "metadata": {},
     "output_type": "execute_result"
    }
   ],
   "source": [
    "data.isna().sum()"
   ]
  },
  {
   "cell_type": "code",
   "execution_count": 9,
   "id": "6e3cdd5d",
   "metadata": {
    "execution": {
     "iopub.execute_input": "2023-11-20T16:02:26.392272Z",
     "iopub.status.busy": "2023-11-20T16:02:26.391875Z",
     "iopub.status.idle": "2023-11-20T16:02:26.463140Z",
     "shell.execute_reply": "2023-11-20T16:02:26.461802Z"
    },
    "papermill": {
     "duration": 0.086621,
     "end_time": "2023-11-20T16:02:26.465940",
     "exception": false,
     "start_time": "2023-11-20T16:02:26.379319",
     "status": "completed"
    },
    "tags": []
   },
   "outputs": [],
   "source": [
    "X_train, X_test, y_train, y_test = train_test_split(data.drop('RainTomorrow', axis=1), data.RainTomorrow, test_size=0.33, random_state=42)"
   ]
  },
  {
   "cell_type": "markdown",
   "id": "461fb349",
   "metadata": {
    "papermill": {
     "duration": 0.010873,
     "end_time": "2023-11-20T16:02:26.488650",
     "exception": false,
     "start_time": "2023-11-20T16:02:26.477777",
     "status": "completed"
    },
    "tags": []
   },
   "source": [
    "# Feature Selection"
   ]
  },
  {
   "cell_type": "code",
   "execution_count": 10,
   "id": "b64783f7",
   "metadata": {
    "execution": {
     "iopub.execute_input": "2023-11-20T16:02:26.513295Z",
     "iopub.status.busy": "2023-11-20T16:02:26.512746Z",
     "iopub.status.idle": "2023-11-20T16:02:26.845504Z",
     "shell.execute_reply": "2023-11-20T16:02:26.844198Z"
    },
    "papermill": {
     "duration": 0.348857,
     "end_time": "2023-11-20T16:02:26.848416",
     "exception": false,
     "start_time": "2023-11-20T16:02:26.499559",
     "status": "completed"
    },
    "tags": []
   },
   "outputs": [],
   "source": [
    "X_train = SimpleImputer(strategy='median').fit_transform(X_train)"
   ]
  },
  {
   "cell_type": "code",
   "execution_count": 11,
   "id": "16a0065b",
   "metadata": {
    "execution": {
     "iopub.execute_input": "2023-11-20T16:02:26.872413Z",
     "iopub.status.busy": "2023-11-20T16:02:26.871964Z",
     "iopub.status.idle": "2023-11-20T16:02:59.510941Z",
     "shell.execute_reply": "2023-11-20T16:02:59.509675Z"
    },
    "papermill": {
     "duration": 32.654838,
     "end_time": "2023-11-20T16:02:59.514224",
     "exception": false,
     "start_time": "2023-11-20T16:02:26.859386",
     "status": "completed"
    },
    "tags": []
   },
   "outputs": [],
   "source": [
    "selector = SelectFromModel(RandomForestClassifier()).fit(X_train, y_train)"
   ]
  },
  {
   "cell_type": "code",
   "execution_count": 12,
   "id": "697c72be",
   "metadata": {
    "execution": {
     "iopub.execute_input": "2023-11-20T16:02:59.539381Z",
     "iopub.status.busy": "2023-11-20T16:02:59.538952Z",
     "iopub.status.idle": "2023-11-20T16:03:00.159958Z",
     "shell.execute_reply": "2023-11-20T16:03:00.158903Z"
    },
    "papermill": {
     "duration": 0.636297,
     "end_time": "2023-11-20T16:03:00.162334",
     "exception": false,
     "start_time": "2023-11-20T16:02:59.526037",
     "status": "completed"
    },
    "tags": []
   },
   "outputs": [
    {
     "data": {
      "image/png": "iVBORw0KGgoAAAANSUhEUgAAAuoAAAGdCAYAAABEqFZCAAAAOXRFWHRTb2Z0d2FyZQBNYXRwbG90bGliIHZlcnNpb24zLjcuMSwgaHR0cHM6Ly9tYXRwbG90bGliLm9yZy/bCgiHAAAACXBIWXMAAA9hAAAPYQGoP6dpAADiMUlEQVR4nOzdeVhVVfvw8e9hkHlQVBBBAZFBc7aULAUVIYecBxxRcZ7JUHxSIZwT5zELcDbLoVTESOXJeUrLHk2TJK0w0lQUBA/D+4cv++cRVFCOIOf+XBeX7rXXXmvt2+HcZ++111bl5ubmIoQQQgghhChV9Ep6AEIIIYQQQoj8JFEXQgghhBCiFJJEXQghhBBCiFJIEnUhhBBCCCFKIUnUhRBCCCGEKIUkURdCCCGEEKIUkkRdCCGEEEKIUkgSdSGEEEIIIUohg5IegBDixeTk5PDXX39hYWGBSqUq6eEIIYQQohByc3O5d+8e9vb26Ok9+5q5JOpCvKb++usvHB0dS3oYQgghhHgB169fx8HB4Zl1JFEX4jVlYWEBwJlZi7E2Minh0ZQtWSo4Y2dOoxv3Mcgt6dGULU/GtmJQz5IeUpmgVqv59ttvadOmDYaGhiU9nDJFYqs9uhrb1NRUHB0dlc/xZ5FEXYjXVN50F3NjEyyMJVEvTlkqMDU1xcIkWxL1YvZkbC0tLUt6SGWCWq3G1NQUS0tLnUp4XgWJrfboemwLM21VHiYVZY63tzfjx48v6WEIIYQQQrwUSdTFayEwMBCVSsXw4cPz7Rs5ciQqlYrAwEAAtm/fTkRERKHajYmJQaVSPfMnISGhGM9ECCGEEKJwJFEXrw1HR0e2bNnCgwcPlLKMjAw2b95MtWrVlLIKFSoUat4XQM+ePUlOTlZ+vLy8GDJkiEbZ22+/XeznIoQQQgjxPJKoi9dGw4YNqVatGtu3b1fKtm/fjqOjIw0aNFDKnpz64uTkxKxZsxg0aBAWFhZUq1aNTz/9FAATExPs7OyUn3LlymFqaqpsV6hQgY8++oiqVatiZmZGkyZNNK6wx8TEYG1tze7du3F3d8fU1JRu3bqRlpbG2rVrcXJyonz58owZM4bs7GyNMUVERNC7d2/Mzc2xt7dn6dKl2gueEEIIIV478jCpeK0MHDiQ6Oho+vTpA0BUVBSDBg167vSUyMhIIiIimDJlCl999RUjRoygefPmeHh4PLe/pKQktmzZgr29PTt27MDf35/z589Ts2ZNANLT01myZAlbtmzh3r17dOnShS5dumBtbU1sbCy//fYbXbt25Z133qFnz/9b4eKTTz5hypQphIWFsW/fPiZMmICHhwe+vr4FjiUzM5PMzExlOzU1FYBs1aMH9ETxyVZp/iqKz5OxVavVJTeYMiQvjhLP4iex1R5djW1RzlcSdfFa6devH6GhoSQlJaFSqThy5Ahbtmx5bqLetm1bRo4cCcCkSZNYuHAhCQkJz0zUExMT2bx5M3/88Qf29vYATJw4kbi4OKKjo5k1axbw6B/cypUrqVGjBgDdunVj/fr1/P3335ibm1OrVi18fHw4ePCgRqLerFkzJk+eDICbmxtHjhxh4cKFT03UZ8+eTXh4eL7yc7bmmJqaPvP8xYs5Y1e4KVSi6JTYxsaW7EDKmPj4+JIeQpklsdUeXYttenp6oetKoi5eKxUrVqRdu3asXbuW3Nxc2rVrR8WKFZ97XN26dZXfq1Qq7OzsSElJeeYxP/zwA7m5ubi5uWmUZ2ZmYmNjo2ybmpoqSTqAra0tTk5OmJuba5Q92Z+Xl1e+7UWLFj11PKGhoQQHByvbeeuw1v/7PtbG2U89ThRdtupRItnoxj30ZXnGYvVkbCsOlnXUi4NarSY+Ph5fX1+dXOZOmyS22qOrsc27I14YkqiL186gQYMYPXo0AMuXLy/UMU/+B6BSqcjJyXnmMTk5Oejr63PmzBn09fU19j2ehBfU9ov0l1fvaYyMjDAyMspXrp+LrPWtJRJb7cmLrS59OL8KhoaGElMtkdhqj67FtijnKom6eO34+/vz8OFDAPz8/LTWT4MGDcjOziYlJYV333232Ns/fvx4vu3nzZkXQgghhO6QRF28dvT19bl48aLye21xc3OjT58+9O/fn8jISBo0aMDNmzc5cOAAderUoW3bti/V/pEjR5g3bx6dOnUiPj6eL7/8kj179hTT6IUQQgjxupNEXbyWXtVrx6Ojo5kxYwYffPABf/75JzY2Nnh5eb10kg7wwQcfcObMGcLDw7GwsCAyMlKrdwiEEEII8XpR5ebmygxMIV4xJycnxo8fr7Hee1GlpqZiZWXFzZs3NR5uFS9PrVYTGxtL27ZtdWre5KsgsdUOiav2SGy1R1djm/f5fffu3edeeJQXHgkhhBBCCFEKSaIuhBBCCCFEKSRz1IUoAUlJScXW1j/rVpJlXK7Y2hOQpdKDKjVJ+XwxBrnPX1ZTPJ/tiJCSHoIQQrx25Iq6EEIIIYQQpZAk6kIIIYQQQpRCkqiLUikwMBCVSsXw4cPz7Rs5ciQqlYrAwMCX7icpKQmVSvXMn7CwsJfuRwghhBCiqGSOuii1HB0d2bJlCwsXLsTExASAjIwMNm/eTLVq1Yqtj+TkZGV7/vz5xMXF8d133yll5ubmxdKXEEIIIURRyBV1UWo1bNiQatWqsX37dqVs+/btODo60qBBA6UsLi6Od955B2tra2xsbGjfvj2JiYnK/nXr1mFubs6vv/6qlI0ZMwY3NzcyMjKws7NTfszNzTEwMNAo+/LLL/H09MTY2BgPDw9WrFihtJN3RX7r1q28++67mJiY8Oabb3L58mVOnTpF48aNMTc3x9/fn3/++Uc5LjAwkE6dOhEeHk7lypWxtLRk2LBhPHz4UFvhFEIIIcRrRq6oi1Jt4MCBREdH06dPHwCioqIYNGgQCQkJSp20tDSCg4OpU6cOaWlpTJs2jc6dO3Pu3Dn09PTo378/u3fvpk+fPhw9epTvvvuO1atXc+TIEczMzJ7Z/5o1a5g+fTrLli2jQYMGnD17liFDhmBmZsaAAQOUetOnT2fRokVUq1aNQYMGERAQgKWlJYsXL8bU1JQePXowbdo0Vq5cqRyzf/9+jI2NOXjwIElJSQwcOJCKFSsyc+bMAseSmZlJZmamsp2amgpAtkrv0Solothk//94Zktci41arS7wV1E8JK7aI7HVHl2NbVHOV95MKkqlwMBA7ty5w2effYaDgwO//PILKpUKDw8Prl+/TlBQENbW1sTExOQ79p9//qFy5cqcP3+eN954A4Dbt29Tt25dOnTowPbt2xkzZgz/+c9/8h0bFhbGzp07OXfuHADVqlVj7ty5BAQEKHVmzJhBbGwsR48eJSkpCWdnZz777DMGDx4MwJYtWwgICGD//v20bNkSgDlz5hATE8Mvv/yinN+uXbu4fv06pqamAKxatYoPP/yQu3fvoqeXP0EMCwsjPDw8X/mmTZuUNoQQQghRuqWnp9O7d+9CvZlUrqiLUq1ixYq0a9eOtWvXkpubS7t27ahYsaJGncTERKZOncrx48e5efMmOTmP1r2+du2akqiXL1+ezz//HD8/P95++20mT5783L7/+ecfrl+/zuDBgxkyZIhSnpWVhZWVlUbdunXrKr+3tbUFoE6dOhplKSkpGsfUq1dPI8H28vLi/v37XL9+nerVq+cbT2hoKMHBwcp2amoqjo6O1P37KtayjnqxylbpcdauBg1uJKIv66gXi8qDxwGPriTFx8fj6+urU68M1zaJq/ZIbLVHV2Obd0e8MCRRF6XeoEGDGD16NADLly/Pt79Dhw44OjqyZs0a7O3tycnJ4Y033sg33/v7779HX1+fv/76i7S0tOd+i81L+NesWUOTJk009unr62tsP/4fjEqlKrAsr73nyTv+SUZGRhgZGeUr18/NkZfyaInEtvg8+SFsaGioUx/Mr4rEVXskttqja7EtyrnKBExR6vn7+/Pw4UMePnyIn5+fxr5bt25x8eJFPvroI1q1aoWnpye3b9/O18bRo0eZN28eu3btwtLSkjFjxjy3X1tbW6pWrcpvv/2Gq6urxo+zs/NLn9ePP/7IgwcPlO3jx49jbm6Og4PDS7cthBBCiNefXFEXpZ6+vj4XL15Ufv+48uXLY2Njw6effkqVKlW4du1avmkt9+7do1+/fowZM4b33nuPatWq0bhxY9q3b0/37t2f2XdYWBhjx47F0tKS9957j8zMTE6fPs3t27c1pqG8iIcPHzJ48GA++ugjfv/9d6ZPn87o0aMLnJ8uhBBCCN0jibp4LTxtmoqenh5btmxh7NixvPHGG7i7u7NkyRK8vb2VOuPGjcPMzIxZs2YBULt2bebOncvw4cN5++23qVq16lP7DQoKwtTUlE8++YSQkBDMzMyoU6cO48ePf+lzatWqFTVr1qR58+ZkZmbSq1cvebmSEEIIIRSy6osQJSBvVZudO3e+cBupqalYWVlx8+ZNbGxsim9wArVaTWxsLG3bttWpeZOvgsRWOySu2iOx1R5djW3e53dhVn2Re+xCCCGEEEKUQpKoCyGEEEIIUQrJHHUhSkBBL2p6Udc/H8w942JrTgDZKkOo1pdrq3qjn6tbb8zTtrIWW6exO0t6CEKIMkyuqAshhBBCCFEKSaIuxBMCAwPp1KlTkY65ceMGvr6+mJmZYW1tXahjYmJiNOqGhYVRv379IvUrhBBCiLJLEnVRpgQGBqJSqVCpVBgYGFCtWjVGjBhR4EuQnmbx4sVFnpqycOFCkpOTOXfuHJcvXy7iqIUQQggh8pM56qLM8ff3Jzo6mqysLC5cuMCgQYO4c+cOmzdvLtTxVlZWRe4zMTGRRo0aUbNmzSIfK4QQQghRELmiLsocIyMj7OzscHBwoE2bNvTs2ZNvv/0WgOzsbAYPHoyzszMmJia4u7uzePFijeOfnPri7e3N2LFjCQkJoUKFCtjZ2Wm8mMjJyYlt27axbt06VCoVgYGBACxYsIA6depgZmaGo6MjI0eO5P79+9o+fSGEEEKUEXJFXZRpv/32G3FxccqLFHJycnBwcGDr1q1UrFiRo0ePMnToUKpUqUKPHj2e2s7atWsJDg7mxIkTHDt2jMDAQJo1a4avry+nTp2if//+WFpasnjxYkxMTIBHb01dsmQJTk5OXL16lZEjRxISEsKKFSte6FwyMzPJzMxUtlNTUx+dk8qQbNULNSmeIltlqPGrKD5lLbZqdelYuSZvHKVlPGWJxFZ7dDW2RTlfSdRFmbN7927Mzc3Jzs4mIyMDeHR1G8DQ0JDw8HClrrOzM0ePHmXr1q3PTNTr1q3L9OnTAahZsybLli1j//79+Pr6UqlSJYyMjDAxMcHOzk45Zvz48Rr9REREMGLEiBdO1GfPnq0x9jyXHLpgamr6Qm2KZ7vo2LOkh1BmlZXY/hwbW9JD0BAfH1/SQyizJLbao2uxTU9PL3RdSdRFmePj48PKlStJT0/ns88+4/Lly4wZM0bZv2rVKj777DN+//13Hjx4wMOHD5+72krdunU1tqtUqUJKSsozjzl48CCzZs3iwoULpKamkpWVRUZGBmlpaZiZmRX5vEJDQwkODla2U1NTcXR0xP2P7VjJOurFKltlyEXHnnhe/6JMrPVdmpS12FYbvqmkhwA8ukIXHx+Pr6+vTr2K/VWQ2GqPrsY27454YUiiLsocMzMzXF1dAViyZAk+Pj6Eh4cTERHB1q1bmTBhApGRkXh5eWFhYcEnn3zCiRMnntnmk/+BqFQqcnJynlr/999/p23btgwfPpyIiAgqVKjA4cOHGTx48Avf4jMyMsLIyChfuV6uGv3cF2pSPId+rrpMJJOlUVmJbWlLLgwNDUvdmMoKia326Fpsi3KukqiLMm/69Om89957jBgxgkOHDvH2228zcuRIZX9iYmKx93n69GmysrKIjIxET+/RM9tbt24t9n6EEEIIUXbJqi+izPP29qZ27drMmjULV1dXTp8+zb59+7h8+TJTp07l1KlTxd5njRo1yMrKYunSpfz222+sX7+eVatWFXs/QgghhCi7JFEXOiE4OJg1a9bQqVMnunTpQs+ePWnSpAm3bt3SuLpeXOrXr8+CBQuYO3cub7zxBhs3bmT27NnF3o8QQgghyi5Vbm6uzG4V4jWUmpqKlZUVN2/exMbGpqSHU6ao1WpiY2Np27atTs2bfBUkttohcdUeia326Gps8z6/7969i6Wl5TPryhV1IYQQQgghSiFJ1IUQQgghhCiFZNUXIV5zZzcMwELWUS9WOSpDsA3kdHQP9MrAEoKlSWFj22TY7lc4KiGEKJ3kiroQQgghhBClkCTqIp+EhARUKhV37tx5qXYCAwPp1KlTsYxJF6hUKnbu3FnSwxBCCCFEKSGJehm3atUqLCwsyMrKUsru37+PoaEh7777rkbdQ4cOoVKpsLe3Jzk5GSsrq2Ifz40bNxg3bhyurq4YGxtja2vLO++8w6pVq0hPTy+WPpKSklCpVJw7d06jPC0tjUmTJuHi4oKxsTGVKlXC29ub3bvlFrsQQgghSh+Zo17G+fj4cP/+fU6fPk3Tpk2BRwm5nZ0dp06dIj09HVNTU+DRlXR7e3vc3Ny0MpbffvuNZs2aYW1tzaxZs6hTpw5ZWVlcvnyZqKgo7O3tef/997XSN8Dw4cM5efIky5Yto1atWty6dYujR49y69YtrfUphBBCCPGi5Ip6Gefu7o69vT0JCQlKWUJCAh07dqRGjRocPXpUo9zHxyff1JeYmBisra3Zt28fnp6emJub4+/vT3JysnJsdnY2wcHBWFtbY2NjQ0hICE8u0T9y5EgMDAw4ffo0PXr0wNPTkzp16tC1a1f27NlDhw4dgIKviN+5cweVSqWcx+3bt+nTpw+VKlXCxMSEmjVrEh0dDYCzszMADRo0QKVS4e3tDcCuXbuYMmUKbdu2xcnJiUaNGjFmzBgGDBig9OPk5ERERAS9e/fG3Nwce3t7li5dqnEed+/eZejQoVSuXBlLS0tatmzJjz/+qFFn165dNGrUCGNjY1xcXAgPD9e4q/Hrr7/SvHlzjI2NqVWrFvHx8c/7oxRCCCGEjpEr6jrA29ubgwcPMnnyZAAOHjxISEgIOTk5HDx4kNatW/Pw4UOOHTuWLynNk56ezvz581m/fj16enr07duXiRMnsnHjRgAiIyOJiori888/p1atWkRGRrJjxw5atmwJwK1bt/j222+ZNWsWZmZmBfahUqkKfU5Tp07lwoUL7N27l4oVK3LlyhUePHgAwMmTJ3nrrbf47rvvqF27NuXKlQPAzs6O2NhYunTpgoWFxVPb/uSTT5gyZQphYWHs27ePCRMm4OHhga+vL7m5ubRr144KFSoQGxuLlZUVq1evplWrVly+fJkKFSqwb98++vbty5IlS3j33XdJTExk6NChAEyfPp2cnBy6dOlCxYoVOX78OKmpqYwfP/6555yZmUlmZqaynZqaCjxaRSOn8KEThZCjMtT4VRSfwsZWrZbVdooiL14St+InsdUeXY1tUc5XEnUd4O3tzYQJE8jKyuLBgwecPXuW5s2bk52dzZIlSwA4fvw4Dx48wMfHh2vXruVrQ61Ws2rVKmrUqAHA6NGj+fjjj5X9ixYtIjQ0lK5duwKP5sbv27dP2X/lyhVyc3Nxd3fXaLdixYpkZGQAMGrUKObOnVuoc7p27RoNGjSgcePGwKMr4XkqVaoEgI2NDXZ2dkr5p59+Sp8+fbCxsaFevXq88847dOvWjWbNmmm03axZM+VLjZubG0eOHGHhwoX4+vpy8OBBzp8/T0pKCkZGRgDMnz+fnTt38tVXXzF06FBmzpzJ5MmTlSv1Li4uREREEBISwvTp0/nuu++4ePEiSUlJODg4ADBr1izee++9Z57z7NmzCQ8Pz1d+q1IPHvz/6UuieN2s3Kekh1BmPS+2sbGxr2gkZYvcndMeia326Fpsi/JMniTqOsDHx4e0tDROnTrF7du3cXNzo3LlyrRo0YJ+/fqRlpZGQkIC1apVw8XFpcBE3dTUVEnSAapUqUJKSgrwaCpIcnIyXl5eyn4DAwMaN26cb/rLk1fNT548SU5ODn369NG4Wvw8I0aMoGvXrvzwww+0adOGTp068fbbbz/zmObNm/Pbb79x/Phxjhw5woEDB1i8eDHh4eFMnTpVqff4eeRtL1q0CIAzZ85w//59bGxsNOo8ePCAxMREpc6pU6eYOXOmsj87O5uMjAzS09O5ePEi1apVU5L0gvosSGhoKMHBwcp2amoqjo6O2PyzVdZRL2Y5KkNuVu5DxZSNso56MStsbBsP3PoKR/X6U6vVxMfH4+vrq1OvYn8VJLbao6uxzbsjXhiSqOsAV1dXHBwcOHjwILdv36ZFixbAo6kgzs7OHDlyhIMHDyrTVAry5D8glUqVLwl/3hhUKhW//PKLRrmLiwsAJiYmSpme3qNHJx5v/8nbRO+99x6///47e/bs4bvvvqNVq1aMGjWK+fPnP3MceavdvPvuu0yePJkZM2bw8ccfM2nSJGWKTEHyvmDk5ORQpUoVjTn/eaytrZU64eHhdOnSJV8dY2PjAuNWmGk/RkZGylX8x+nlqtEr/B+FKIJHsZVEXRueF1td+tAuToaGhhI7LZHYao+uxbYo5yoPk+qIvIdEExISlIcrAVq0aMG+ffs4fvw4Pj4+L9S2lZUVVapU4fjx40pZVlYWZ86cUbZtbGzw9fVl2bJlpKWlPbO9vKkrjz+s+uRSi3n1AgMD2bBhA4sWLeLTTz8FUBLu7Ozs5469Vq1aZGVlKdNvAI3zyNv28PAAoGHDhty4cQMDAwNcXV01fipWrKjUuXTpUr79rq6u6OnpUatWLa5du8Zff/2l9HHs2LHnjlUIIYQQukWuqOsIHx8fRo0ahVqtVq6ow6NEfcSIEWRkZLxwog4wbtw45syZQ82aNfH09GTBggX5Xpi0YsUKmjVrRuPGjQkLC6Nu3bro6elx6tQpfvnlFxo1agQ8urretGlT5syZg5OTEzdv3uSjjz7SaGvatGk0atSI2rVrk5mZye7du/H09ASgcuXKmJiYEBcXh4ODA8bGxlhZWeHt7U1AQACNGzfGxsaGCxcuMGXKFHx8fLC0tFTaPnLkCPPmzaNTp07Ex8fz5ZdfsmfPHgBat26Nl5cXnTp1Yu7cubi7u/PXX38RGxtLp06daNy4MdOmTaN9+/Y4OjrSvXt39PT0+Omnnzh//jwzZsygdevWuLu7079/fyIjI0lNTeU///nPC8deCCGEEGWTXFHXET4+Pjx48ABXV1dsbW2V8hYtWnDv3j1q1KiBo6PjC7f/wQcf0L9/fwIDA/Hy8sLCwoLOnTtr1KlRowZnz56ldevWhIaGUq9ePRo3bszSpUuZOHEiERERSt2oqCjUajWNGzdm3LhxzJgxQ6OtcuXKERoaSt26dWnevDn6+vps2bIFeDQ/fsmSJaxevRp7e3s6duwIgJ+fH2vXrqVNmzZ4enoyZswY/Pz82LpVcy7sBx98wJkzZ2jQoAERERFERkbi5+cHPJqiEhsbS/PmzRk0aBBubm706tWLpKQkJa5+fn7s3r2b+Ph43nzzTZo2bcqCBQuoXr068Ghqz44dO8jMzOStt94iKChIYz67EEIIIQSAKrcoE42FKOOcnJwYP358oZZLLGmpqalYWVlx8+bNfA+3ipejVquJjY2lbdu2OjVv8lWQ2GqHxFV7JLbao6uxzfv8vnv3rsYd/YLIFXUhhBBCCCFKIUnUhRBCCCGEKIXkYVIhHpOUlFTSQxBCCCGEACRRF+K1d3BLP8zkhUfFKldlCDaDiF/fDVUJr6P+3mB5Q6cQQugqmfoiniohIQGVSpVvmcWiCgwMpFOnTsUyJm1LSkpCpVIVuG67EEIIIcSrJIm6jli1ahUWFhZkZWUpZffv31fe1Pm4Q4cOoVKpsLe3Jzk5GSsrq2IdS0pKCsOGDaNatWoYGRlhZ2eHn59fqX3pz/79+3n77bexsLCgSpUqTJo0SSOOQgghhBDaIIm6jvDx8eH+/fucPn1aKTt06BB2dnacOnWK9PR0pTwhIQF7e3vc3Nyws7Mr1Ovti6Jr1678+OOPrF27lsuXL/PNN9/g7e3Nv//+W6z9FIeffvqJtm3b4u/vz9mzZ9myZQvffPMNkydPLumhCSGEEKKMk0RdR7i7u2Nvb09CQoJSlpCQQMeOHalRowZHjx7VKPfx8ck39SUmJgZra2v27duHp6cn5ubm+Pv7k5ycrBybnZ1NcHAw1tbW2NjYEBISwuNL9d+5c4fDhw8zd+5cfHx8qF69Om+99RahoaG0a9dOqadSqVi5ciXvvfceJiYmODs78+WXX2qc059//knPnj0pX748NjY2dOzYMd/DoNHR0Xh6emJsbIyHhwcrVqzQ2H/y5EkaNGiAsbExjRs35uzZsxr7t2zZQt26dZk2bRqurq60aNGC2bNns3z5cu7duwfArVu3CAgIwMHBAVNTU+rUqcPmzZs12vH29mbMmDGMHz+e8uXLY2try6effkpaWhoDBw7EwsKCGjVqsHfv3uf8SQohhBBCV8jDpDrE29ubgwcPKleDDx48SEhICDk5ORw8eJDWrVvz8OFDjh07xtKlSwtsIz09nfnz57N+/Xr09PTo27cvEydOZOPGjQBERkYSFRXF559/Tq1atYiMjGTHjh20bNkSAHNzc8zNzdm5cydNmzbFyMjoqeOdOnUqc+bMYfHixaxfv56AgADeeOMNPD09SU9Px8fHh3fffZfvv/8eAwMDZsyYgb+/Pz/99BPlypVjzZo1TJ8+nWXLltGgQQPOnj3LkCFDMDMzY8CAAaSlpdG+fXtatmzJhg0buHr1KuPGjdMYQ2ZmJsbGmk9qmpiYkJGRwZkzZ/D29iYjI4NGjRoxadIkLC0t2bNnD/369cPFxYUmTZoox61du5aQkBBOnjzJF198wYgRI9i5cyedO3dmypQpLFy4kH79+nHt2jVMTU3zxSMzM5PMzExlOzU1FXj04GNu8d700Hm5KkONX0uSWl2yD7MWt7zzKWvnVdIkrtojsdUeXY1tUc5X3kyqQ9asWcOECRO4c+cODx48oEKFCvz5558cPHiQJUuWcOTIEb7//ntatGhBYmIi165dw8fHh9u3b2NtbU1MTAwDBw7kypUr1KhRA4AVK1bw8ccfc+PGDQDs7e0ZN24ckyZNAiArKwtnZ2caNWrEzp07Adi2bRtDhgzhwYMHNGzYkBYtWtCrVy/q1q2rjFWlUjF8+HBWrlyplDVt2pSGDRuyYsUKoqKimDdvHhcvXlSm5jx8+BBra2t27txJmzZtqFatGnPnziUgIEBpY8aMGcTGxnL06FE+/fRTQkNDuX79upIYr1q1ihEjRnD27Fnq16/Pt99+y3vvvceGDRvo0aMHN27coFevXhw+fJhNmzZptP24du3a4enpyfz584FHX5Kys7M5dOgQ8OjOg5WVFV26dGHdunUA3LhxgypVqnDs2DGaNm2ar82wsDDCw8PzlW/atKnAxF4IIYQQpU96ejq9e/cu1JtJ5Yq6DvHx8SEtLY1Tp05x+/Zt3NzcqFy5Mi1atKBfv36kpaWRkJBAtWrVcHFx4dq1a/naMDU1VZJ0gCpVqpCSkgLA3bt3SU5OxsvLS9lvYGBA48aNNaa/dO3alXbt2nHo0CGOHTtGXFwc8+bN47PPPiMwMFCp93g7edt5q7GcOXOGK1euYGFhoVEnIyODxMRE/vnnH65fv87gwYMZMmSIsj8rK0t5OPbixYvUq1dPI8l9ss82bdrwySefMHz4cPr164eRkRFTp07l8OHD6OvrA4+S7jlz5vDFF1/w559/Kle+zczMNNp6/IuIvr4+NjY21KlTRymztbUFUOL5pNDQUIKDg5Xt1NRUHB0dMbi9BcMHBR4iXlCuypCsCv0w+Hd9iS/P6NvvqxLtv7ip1Wri4+Px9fXVqVeGa5vEVXskttqjq7HNuyNeGJKo6xBXV1ccHBw4ePAgt2/fpkWLFgDY2dnh7OzMkSNHOHjwoDJNpSBP/kNSqVS8yE0ZY2NjfH198fX1Zdq0aQQFBTF9+nSNRL0geVfPc3JyaNSokTLl5nGVKlUiIyMDeHQX4fHpJ4CSYBd23MHBwUyYMIHk5GTKly9PUlISoaGhODs7A4+m+yxcuJBFixZRp04dzMzMGD9+PA8fPtRop6DYPV72+LkVxMjIqMCpQqpcNSq5L6YVj2Jbsol6Wf3wMjQ0LLPnVpIkrtojsdUeXYttUc5VHibVMXkPiSYkJODt7a2Ut2jRgn379nH8+HF8fHxeqG0rKyuqVKnC8ePHlbKsrCzOnDnz3GNr1apFWlqaRtnj7eRte3h4ANCwYUN+/fVXKleujKurq8aPlZUVtra2VK1ald9++y3f/rwEu1atWvz44488ePDgqX3myVuu0sTEhM2bN+Po6EjDhg2BR6vndOzYkb59+1KvXj1cXFz49ddfCxExIYQQQoink0Rdx/j4+HD48GHOnTunXFGHR4n6mjVryMjIeOFEHWDcuHHMmTOHHTt28MsvvzBy5EiNFybdunVLeXjzp59+4urVq3z55ZfMmzePjh07arT15ZdfEhUVxeXLl5k+fTonT55k9OjRAPTp04eKFSvSsWNHDh06xNWrV/nvf//LuHHj+OOPP4BHc7pnz57N4sWLuXz5MufPnyc6OpoFCxYA0Lt3b/T09Bg8eDAXLlwgNjZWmVP+uE8++YTz58/zv//9j4iICObMmcOSJUuUK/Ourq7Ex8dz9OhRLl68yLBhw5Q5+0IIIYQQL0qmvugYHx8fHjx4gIeHhzInGh4l6vfu3aNGjRo4Ojq+cPsffPABycnJBAYGoqenx6BBg+jcuTN3794FHq360qRJExYuXEhiYiJqtRpHR0eGDBnClClTNNoKDw9ny5YtjBw5Ejs7OzZu3EitWrWAR3Plv//+eyZNmkSXLl24d+8eVatWpVWrVsqDGUFBQZiamvLJJ58QEhKCmZkZderUYfz48cpYdu3axfDhw2nQoAG1atVi7ty5dO3aVWMce/fuZebMmWRmZlKvXj2+/vpr3nvvPWX/1KlTuXr1Kn5+fpiamjJ06FA6deqknLMQQgghxIuQVV9EqaRSqdixYwedOnUq6aGUWqmpqVhZWXHz5k1sbGxKejhlilqtJjY2lrZt2+rUvMlXQWKrHRJX7ZHYao+uxjbv87swq77I1BchhBBCCCFKIUnUhRBCCCGEKIVkjroolWRGlhBCCCF0nSTqQrzmtm/tjalJSY+irDHEvPwQtm7sDJTeV1v3CdxX0kMQQgihRTL1RRQoISEBlUqlsbTiiwgMDHxtHghNSkpCpVIpbz8VQgghhChJkqjrgFWrVmFhYUFWVpZSdv/+fQwNDXn33Xc16h46dEh5uU9ycjJWVlbFOpaUlBSGDRtGtWrVMDIyws7ODj8/P44dO1as/RSHW7du4e/vj729PUZGRjg6OjJ69OgivfpXCCGEEOJFydQXHeDj48P9+/c5ffo0TZs2BR4l5HZ2dpw6dYr09HRMTU2BR1fS7e3tcXNz08pYunbtilqtZu3atbi4uPD333+zf/9+/v33X6309zL09PTo2LEjM2bMoFKlSly5coVRo0bx77//smnTppIenhBCCCHKOLmirgPc3d2xt7cnISFBKUtISKBjx47UqFGDo0ePapT7+Pjkm/oSExODtbU1+/btw9PTE3Nzc/z9/UlOTlaOzc7OJjg4GGtra2xsbAgJCdF4KPTOnTscPnyYuXPn4uPjQ/Xq1XnrrbcIDQ2lXbt2Sj2VSsXKlSt57733MDExwdnZmS+//FLjnP7880969uxJ+fLlsbGxoWPHjiQlJWnUiY6OxtPTE2NjYzw8PFixYoXG/pMnT9KgQQOMjY1p3LgxZ8+e1dhfvnx5RowYQePGjalevTqtWrVi5MiRHDp0SKmTF5edO3fi5uaGsbExvr6+XL9+XakTFhZG/fr1iYqKolq1apibmzNixAiys7OZN28ednZ2VK5cmZkzZz7nT1IIIYQQukSuqOsIb29vDh48yOTJkwE4ePAgISEh5OTkcPDgQVq3bs3Dhw85duwYS5cuLbCN9PR05s+fz/r169HT06Nv375MnDiRjRs3AhAZGUlUVBSff/45tWrVIjIykh07dtCyZUvg0ZtAzc3N2blzJ02bNsXIyOip4506dSpz5sxh8eLFrF+/noCAAN544w08PT1JT0/Hx8eHd999l++//x4DAwNmzJiBv78/P/30E+XKlWPNmjVMnz6dZcuW0aBBA86ePcuQIUMwMzNjwIABpKWl0b59e1q2bMmGDRu4evUq48aNe2YM//rrL7Zv306LFi3yxWXmzJmsXbuWcuXKMXLkSHr16sWRI0eUOomJiezdu5e4uDgSExPp1q0bV69exc3Njf/+978cPXqUQYMG0apVK+Wux5MyMzPJzMxUtv9vCo7uvCTi1TF84tfSSa0uvQ+6Pk3emF/HsZdmElftkdhqj67GtijnK4m6jvD29mbChAlkZWXx4MEDzp49S/PmzcnOzmbJkiUAHD9+nAcPHuDj48O1a9fytaFWq1m1ahU1atQAYPTo0Xz88cfK/kWLFhEaGkrXrl2BR3Pj9+37v1UpDAwMiImJYciQIaxatYqGDRvSokULevXqRd26dTX66t69O0FBQQBEREQQHx/P0qVLWbFiBVu2bEFPT4/PPvsMlUoFPLp6bm1tTUJCAm3atCEiIoLIyEi6dOkCgLOzMxcuXGD16tUMGDCAjRs3kp2dTVRUFKamptSuXZs//viDESNG5DvvgIAAvv76ax48eECHDh347LPP8sVl2bJlNGnSBIC1a9fi6enJyZMneeuttwDIyckhKioKCwsLatWqhY+PD5cuXSI2NhY9PT3c3d2ZO3cuCQkJT03UZ8+eTXh4eL5yc+s+ytQlUbzMyweW9BCeKTY2tqSH8MLi4+NLeghlksRVeyS22qNrsU1PTy90XUnUdYSPjw9paWmcOnWK27dv4+bmRuXKlWnRogX9+vUjLS2NhIQEqlWrhouLS4GJuqmpqZKkA1SpUoWUlBQA7t69S3JyMl5eXsp+AwMDGjdurDH9pWvXrrRr145Dhw5x7Ngx4uLimDdvHp999hmBgYFKvcfbydvOW43lzJkzXLlyBQsLC406GRkZJCYm8s8//3D9+nUGDx7MkCFDlP1ZWVnKw7EXL16kXr16Ggnuk33mWbhwIdOnT+fSpUtMmTKF4OBgjWk0eeeZx8PDA2tray5evKgk6k5OThrjtbW1RV9fHz09PY2yvHgWJDQ0lODgYGU7NTUVR0dH7t/ZSE7mUw8TL8QQ8/KB3L8dQ2lenrFHnx0lPYQiU6vVxMfH4+vrq1OvDNc2iav2SGy1R1djW5RFKSRR1xGurq44ODhw8OBBbt++rUzfsLOzw9nZmSNHjnDw4EFlmkpBnvxHpFKpXujFRHnzuH19fZk2bRpBQUFMnz5dI1EvSN7V85ycHBo1aqRMuXlcpUqVyMjIAGDNmjXKVe48+vr6QNFeqGRnZ4ednR0eHh7Y2Njw7rvvMnXqVKpUqZJvbAWNFwqOXUFlOTk5Tx2HkZHRU6YLld5E8vWnpjTH93X+YDM0NHytx19aSVy1R2KrPboW26KcqzxMqkPyHhJNSEjA29tbKW/RogX79u3j+PHj+Pj4vFDbVlZWVKlShePHjytlWVlZnDlz5rnH1qpVi7S0NI2yx9vJ2/bw8ACgYcOG/Prrr1SuXBlXV1eNHysrK2xtbalatSq//fZbvv3Ozs5Knz/++CMPHjx4ap8FyUvwH58rnpWVxenTp5XtS5cucefOHWW8QgghhBAvQhJ1HeLj48Phw4c5d+6cxgORLVq0YM2aNWRkZLxwog4wbtw45syZw44dO/jll18YOXKkxguTbt26pTy8+dNPP3H16lW+/PJL5s2bR8eOHTXa+vLLL4mKiuLy5ctMnz6dkydPMnr0aAD69OlDxYoV6dixI4cOHeLq1av897//Zdy4cfzxxx/Ao5VWZs+ezeLFi7l8+TLnz58nOjqaBQsWANC7d2/09PQYPHgwFy5cIDY2lvnz52uMITY2lujoaH7++WeSkpKIjY1lxIgRNGvWDCcnJ6WeoaEhY8aM4cSJE/zwww8MHDiQpk2bKtNehBBCCCFehEx90SE+Pj48ePAADw8PbG1tlfIWLVpw7949atSogaOj4wu3/8EHH5CcnExgYCB6enoMGjSIzp07c/fuXeDRqi9NmjRh4cKFJCYmolarcXR0ZMiQIUyZMkWjrfDwcLZs2cLIkSOxs7Nj48aN1KpVC3g0V/77779n0qRJdOnShXv37lG1alVatWqFpaUlAEFBQZiamvLJJ58QEhKCmZkZderUYfz48cpYdu3axfDhw2nQoAG1atVi7ty5yoOwACYmJqxZs4YJEyaQmZmJo6MjXbp0UVbOyWNqasqkSZPo3bs3f/zxB++88w5RUVEvHEchhBBCCABV7otMMhZCi1QqFTt27KBTp04lPZTniomJYfz48Rp3Dl6V1NRUrKysuHnzJjY2Nq+8/7JMrVYTGxtL27ZtdWre5KsgsdUOiav2SGy1R1djm/f5fffuXeUC49PI1BchhBBCCCFKIUnUhRBCCCGEKIUkURelTm5u7msx7QUgMDCwRKa9CCGEEKLsk4dJhXjNRW/vjbFJSY+ibFFhiIPFED79ojO5pXgd9dfR82I7uu++Ao4SQgjdJFfURamXlJSESqVS3kxakISEBFQqlXJ1OyYmBmtr61cyPiGEEEIIbZBEXRRKYGBggdNRnkyQtcHR0ZHk5GTeeOONQh/Ts2dPLl++rGyHhYVRv379Ivd97949xo8fT/Xq1TExMeHtt9/m1KlTRW5HCCGEEKKoJFEXpZ6+vj52dnYYGBR+ppaJiQmVK1d+6b6DgoKIj49n/fr1nD9/njZt2tC6dWv+/PPPl25bCCGEEOJZJFEXxaagq9aLFi3SeItn3pX5WbNmYWtri7W1NeHh4WRlZfHhhx9SoUIFHBwcNF4YVNDUl9jYWNzc3DAxMcHHx4ekpCSNfh+f+hITE0N4eDg//vgjKpUKlUpFTEwMgwYNon379hrHZWVlYWdnR1RUFA8ePGDbtm3MmzeP5s2b4+rqSlhYGM7OzqxcuVI5ZsOGDTRu3BgLCwvs7Ozo3bs3KSkpyv68uw779u2jQYMGmJiY0LJlS1JSUti7dy+enp5YWloSEBBAenr6iwVfCCGEEGWOPEwqXrkDBw7g4ODA999/z5EjRxg8eDDHjh2jefPmnDhxgi+++ILhw4fj6+tb4JtSr1+/TpcuXRg+fDgjRozg9OnTfPDBB0/tr2fPnvz888/ExcXx3XffAWBlZYWbmxvNmzcnOTmZKlWqAI++ANy/f58ePXqQlZVFdnY2xsbGGu2ZmJhw+PBhZfvhw4dERETg7u5OSkoKEyZMIDAwkNjYWI3jwsLCWLZsGaampvTo0YMePXpgZGTEpk2buH//Pp07d2bp0qVMmjSpwPPIzMwkMzNT2U5NTQUePZynelbARZGpMNT4VRSf58VWrZaHd19EXtwkfsVPYqs9uhrbopyvJOqi0Hbv3o25ublGWXZ2dpHbqVChAkuWLEFPTw93d3fmzZtHeno6U6ZMASA0NJQ5c+Zw5MgRevXqle/4lStX4uLiwsKFC1GpVLi7u3P+/Hnmzp1bYH8mJiaYm5tjYGCAnZ2dUv7222/j7u7O+vXrCQkJASA6Opru3bsr5+nl5UVERASenp7Y2tqyefNmTpw4Qc2aNZV2Bg0apPzexcWFJUuW8NZbb3H//n2NeM2YMYNmzZoBMHjwYEJDQ0lMTMTFxQWAbt26cfDgwacm6rNnzyY8PDxfub15H0xNTQs8RrycqhaBJT2EMutpsX3yC64omvj4+JIeQpklsdUeXYttUe6eS6IuCs3Hx0djygfAiRMn6Nu3b5HaqV27Nnp6/zfrytbWVuNBUX19fWxsbDSmjzzu4sWLNG3aFJXq/64je3l5FWkMeYKCgvj0008JCQkhJSWFPXv2sH//fmX/+vXrGTRoEFWrVkVfX5+GDRvSu3dvfvjhB6XO2bNnCQsL49y5c/z777/k5OQAcO3aNWrVqqXUq1u3rsY5m5qaKkl6XtnJkyefOtbQ0FCCg4OV7dTUVBwdHfnr/kaMi/59STyDCkOqWgTy570YWZ6xmD0vtkN77iiBUb3+1Go18fHx+Pr66tSr2F8Fia326Gps8+6IF4Yk6qLQzMzMcHV11Sj7448/lN/r6emRm5ursb+g2ztP/mNUqVQFluUlvE96so+X0b9/fyZPnsyxY8c4duwYTk5OvPvuu8r+GjVq8N///pe0tDRSU1OpUqUKPXv2xNnZGYC0tDTatGlDmzZt2LBhA5UqVeLatWv4+fnx8OFDjb4eP8einjOAkZERRkZG+cpzUVN8ERGPexRbSdS14Wmx1aUPa20wNDSUGGqJxFZ7dC22RTlXSdRFsalUqRI3btwgNzdXudr9rLXPX1StWrXYuXOnRtnx48efeUy5cuUKnKZjY2NDp06diI6O5tixYwwcOLDA483MzDAzM+P27dvs27ePefPmAfDLL79w8+ZN5syZo8ynP3369AuclRBCCCGEJln1RRQbb29v/vnnH+bNm0diYiLLly9n7969xd7P8OHDSUxMJDg4mEuXLrFp0yZiYmKeeYyTkxNXr17l3Llz3Lx5U+OhzKCgINauXcvFixcZMGCAxnH79u0jLi6Oq1evEh8fj4+PD+7u7kpCX61aNcqVK8fSpUv57bff+Oabb4iIiCj2cxZCCCGE7pFEXRQbT09PVqxYwfLly6lXrx4nT55k4sSJxd5PtWrV2LZtG7t27aJevXqsWrWKWbNmPfOYrl274u/vj4+PD5UqVWLz5s3KvtatW1OlShX8/Pywt7fXOO7u3buMGjUKDw8P+vfvzzvvvMO3336r3LaqVKkSMTExfPnll9SqVYs5c+Ywf/78Yj9nIYQQQugeVW5xTvgV4jWUnp6Ovb09UVFRdOnSpaSHU2ipqalYWVnxyadtMDYp6dGULSoMcbAYwh/31sgc9WL2vNiO7ruvBEb1+lOr1cTGxtK2bVudmuv7KkhstUdXY5v3+X337l0sLS2fWVfmqAudlZOTw40bN4iMjMTKyor333+/pIf0QgZ22YSNjU1JD6NMyfvwGNpzh059eLwKElshhCg8SdSFzrp27RrOzs44ODgQExODgYH8cxBCCCFE6SGZidBZTk5OxbrUoxBCCCFEcZI56kK8pvLmuE2K9sNQXkxarPQwpKFRED9kfkaOzFEvVhJb7ZC4ao/EVntKe2wjesRppd2izFGXVV9EqZeUlIRKpXrmmuwJCQmoVCru3LkDQExMDNbW1q9kfEIIIYQQ2iCJuiiUwMBAOnXqlK/8yQRZGxwdHUlOTuaNN94o9DE9e/bk8uXLynZYWBj169cvct8rV66kbt26WFpaYmlpiZeXl1bWhhdCCCGEeJLMURelnr6+PnZ2dkU6xsTEBBOTl1+z0MHBgTlz5uDq6grA2rVr6dixI2fPnqV27dov3b4QQgghxNPIFXVRbAq6ar1o0SKcnJyU7bwr87NmzcLW1hZra2vCw8PJysriww8/pEKFCjg4OBAVFaUcU9DUl9jYWNzc3DAxMcHHx4ekpCSNfh+f+hITE0N4eDg//vgjKpUKlUpFTEwMgwYNon379hrHZWVlYWdnp/TfoUMH2rZti5ubG25ubsycORNzc3OOHz+uHOPk5ERERAS9e/fG3Nwce3t7li5dqtGuSqVi9erVtG/fHlNTUzw9PTl27BhXrlzB29sbMzMzvLy8SExMLGLUhRBCCFFWyRV18codOHAABwcHvv/+e44cOcLgwYM5duwYzZs358SJE3zxxRcMHz4cX19fHB0d8x1//fp1unTpwvDhwxkxYgSnT5/mgw8+eGp/PXv25OeffyYuLo7vvvsOACsrK9zc3GjevDnJyclUqVIFePQF4P79+/To0SNfO9nZ2Xz55ZekpaXh5eWlse+TTz5hypQphIWFsW/fPiZMmICHhwe+vr5KnYiICBYsWMCCBQuYNGkSvXv3xsXFhdDQUKpVq8agQYMYPXr0U6fWZGZmkpmZqWynpqYCj14gI9+4i5cehhq/iuIjsdUOiav2SGy1p7THVq3WzgOuRWlXEnVRaLt378bc3FyjLDs7u8jtVKhQgSVLlqCnp4e7uzvz5s0jPT2dKVOmABAaGsqcOXM4cuQIvXr1ynf8ypUrcXFxYeHChahUKtzd3Tl//jxz584tsD8TExPMzc0xMDDQmELz9ttv4+7uzvr16wkJCQEgOjqa7t27a5zn+fPn8fLyIiMjA3Nzc3bs2EGtWrU0+mjWrBmTJ08GwM3NjSNHjrBw4UKNRH3gwIHKF4BJkybh5eXF1KlT8fPzA2DcuHEMHDjwqXGbPXs24eHh+crrGvXG1EiWfdGG+kYDSnoIZZbEVjskrtojsdWe0hrb2NhYrbSbnp5e6LqSqItC8/HxYeXKlRplJ06coG/fvkVqp3bt2ujp/d81YFtbW40HRfX19bGxsSElJaXA4y9evEjTpk1RqVRK2ZNXuAsrKCiITz/9lJCQEFJSUtizZw/79+/XqOPu7s65c+e4c+cO27ZtY8CAAfz3v//VSNaf7N/Ly4tFixZplNWtW1f5va2tLQB16tTRKMvIyCA1NbXA5ZpCQ0MJDg5WtlNTU3F0dOSnzE2U0y/6uYun08OQ+kYDOJe5tlQuGfY6k9hqh8RVeyS22lPaY/tR5+1aaTfvjnhhSKIuCs3MzEx5qDLPH3/8ofxeT08v3wuECrq98+Rrw1UqVYFlOTk5BY6jOJf+79+/P5MnT+bYsWMcO3YMJycn3n33XY065cqVU867cePGnDp1isWLF7N69epntv34FwnQPO+8fQWVPe28jYyMMDIyyleei5qCjxAvKwd1qfzwKAskttohcdUeia32lNbYPpmblES7kqiLYlOpUiVu3LhBbm6uknQ+a+3zF1WrVi127typUfb4w50FKVeuXIHTdGxsbOjUqRPR0dEcO3bsmVNP8uTm5mrMFS+o/+PHj+Ph4fHctoQQQgghnkYSdVFsvL29+eeff5g3bx7dunUjLi6OvXv3PvetW0U1fPhwIiMjCQ4OZtiwYZw5c4aYmJhnHuPk5MTVq1c5d+4cDg4OWFhYKFeng4KCaN++PdnZ2QwYoDlPbsqUKbz33ns4Ojpy7949tmzZQkJCAnFxmm8rO3LkCPPmzaNTp07Ex8fz5ZdfsmfPnmI9byGEEELoFlksQhQbT09PVqxYwfLly6lXrx4nT55k4sSJxd5PtWrV2LZtG7t27aJevXqsWrWKWbNmPfOYrl274u/vj4+PD5UqVWLz5s3KvtatW1OlShX8/Pywt7fXOO7vv/+mX79+uLu706pVK06cOEFcXJzGQ6IAH3zwAWfOnKFBgwZEREQQGRmpPCQqhBBCCPEiVLnFOeFXiNdQeno69vb2REVF0aVLlyIf7+TkxPjx4xk/fnzxD+4ZUlNTsbKyYlK0H4ay6Eux0sOQhkZB/JD5WamcN/k6k9hqh8RVeyS22lPaYxvRI+75lV5A3uf33bt3nzvrQKa+CJ2Vk5PDjRs3iIyMxMrKivfff7+kh/RCPuywERsbm5IeRpmiVquJjY3lo87btfYwka6S2GqHxFV7JLbaI7F9PknUhc66du0azs7OODg4EBMTg4GB/HMQQgghROkhmYnQWU5OTsWy1GNSUtLLD0YIIYQQ4gmSqAvxmuv77UAwK+lRlC2GuYYMpj9dY3uhVpW+eZOvs5KK7d73v3llfQkhRHGRVV+EEEIIIYQohSRRFy8kMDAQlUqlvFXUxcWFiRMnkpaWVtJDK3bLly/H09MTExMT3N3dWbduXUkPSQghhBA6QKa+iBfm7+9PdHQ0arWaQ4cOERQURFpaGitXrtSop1arS93T3IUd08qVKwkNDWXNmjW8+eabnDx5kiFDhlC+fHk6dOjwCkYqhBBCCF0lV9TFCzMyMsLOzg5HR0d69+5Nnz592LlzJ2FhYdSvX5+oqChcXFwwMjIiNzeXu3fvMnToUCpXroylpSUtW7bkxx9/VNr78ccf8fHxwcLCAktLSxo1asTp06cB+P333+nQoQPly5fHzMyM2rVrExsbC0BMTAzW1tYaY9u5cycqlUrZftExrV+/nmHDhtGzZ09cXFzo1asXgwcPZu7cuUqdU6dO4evrS8WKFbGysqJFixb88MMPGuNRqVSsXr2a9u3bY2pqiqenJ8eOHePKlSt4e3tjZmaGl5cXiYmJxfbnI4QQQojXm1xRF8XGxMQEtfrRw2FXrlxh69atbNu2DX19fQDatWtHhQoViI2NxcrKitWrV9OqVSsuX75MhQoV6NOnDw0aNGDlypXo6+tz7tw55ar3qFGjePjwId9//z1mZmZcuHABc3PzIo3vRcaUmZmJsbFxvvM8efKkclX+3r17DBgwgCVLlgAQGRlJ27Zt+fXXX7GwsFCOi4iIYMGCBSxYsIBJkybRu3dvXFxcCA0NpVq1agwaNIjRo0ezd+/eAsefmZlJZmamsp2amgqAIYYgry0rVoYY/t+vEttiVVKxzfu/qazKO7+yfp4lQWKrPboa26KcryTqolicPHmSTZs20apVKwAePnzI+vXrqVSpEgAHDhzg/PnzpKSkYGRkBMD8+fPZuXMnX331FUOHDuXatWt8+OGHeHh4AFCzZk2l/WvXrtG1a1fq1KkDgIuLS5HH+CJj8vPz47PPPqNTp040bNiQM2fOEBUVhVqt5ubNm1SpUoWWLVtq9LN69WrKly/Pf//7X9q3b6+UDxw4kB49egAwadIkvLy8mDp1Kn5+fgCMGzeOgQMHPnX8s2fPJjw8PF95AN0wRV5Nqg39CSjpIZRZrzq2eXfgyrr4+PiSHkKZJbHVHl2LbXp6eqHrSqIuXtju3bsxNzcnKysLtVpNx44dWbp0KStWrKB69epKQgxw5swZ7t+/n+8Nmg8ePFCmewQHBxMUFMT69etp3bo13bt3p0aNGgCMHTuWESNG8O2339K6dWu6du1K3bp1izTeFxnT1KlTuXHjBk2bNiU3NxdbW1sCAwOZN2+eclU+JSWFadOmceDAAf7++2+ys7NJT0/n2rVrGu0+Pl5bW1sA5YtHXllGRgapqakFvlI4NDSU4OBgZTs1NRVHR0c281WR4iCezxBD+hPAOjajLoWvtX6dlVRst7Xd8sr6KglqtZr4+Hh8fX1L3TNBrzuJrfboamzz7ogXhiTq4oX5+PiwcuVKDA0Nsbe31/hHZmamubB3Tk4OVapUISEhIV87efPLw8LC6N27N3v27GHv3r1Mnz6dLVu20LlzZ4KCgvDz82PPnj18++23zJ49m8jISMaMGYOenl6+FxcVdFvpRcZkYmJCVFQUq1ev5u+//6ZKlSp8+umnWFhYULFiReDRCjj//PMPixYtonr16hgZGeHl5cXDhw812nw8Pnnz5wsqy8nJyTceePRMQN6Vf41zRQ2qAg4QL+7//3VSo5Z11ItbCcVWV5IAQ0NDnTnXV01iqz26FtuinKsk6uKFmZmZ4erqWqi6DRs25MaNGxgYGODk5PTUem5ubri5uTFhwgQCAgKIjo6mc+fOADg6OjJ8+HCGDx+urMQyZswYKlWqxL1790hLS1OS8XPnzhXbmODRPyoHBwcAtmzZQvv27dHTe/Qs9qFDh1ixYgVt27YF4Pr169y8efO5/QshhBBCPIus+iJeidatW+Pl5UWnTp3Yt28fSUlJHD16lI8++ojTp0/z4MEDRo8eTUJCAr///jtHjhzh1KlTeHp6AjB+/Hj27dvH1atX+eGHHzhw4ICyr0mTJpiamjJlyhSuXLnCpk2biImJeekxAVy+fJkNGzbw66+/cvLkSXr16sXPP//MrFmzlHZcXV1Zv349Fy9e5MSJE/Tp0wcTE5PiD6IQQgghdIok6uKVUKlUxMbG0rx5cwYNGoSbmxu9evUiKSkJW1tb9PX1uXXrFv3798fNzY0ePXrw3nvvKQ9PZmdnM2rUKDw9PfH398fd3Z0VK1YAUKFCBTZs2EBsbCx16tRh8+bNhIWFvfSY8vqNjIykXr16+Pr6kpGRwdGjRzWuwEdFRXH79m0aNGhAv379GDt2LJUrVy72GAohhBBCt6hyn5zcK4R4LaSmpmJlZYX/pg5g9vz6ovAMcw0ZTH8+Z53MUS9mJRXbve9/88r6KglqtZrY2Fjatm2rU3N9XwWJrfboamzzPr/v3r1b4OIRj5M56kK85ja0ic63co14OXkfHtvabtGpD49XQWIrhBCFJ1NfhBBCCCGEKIUkURdCCCGEEKIUkqkvQrzm+sXNB9NyJT2MMsUQPQbp1afb7lmoKXhde/FidCG2sZ3zv0FYCCFehFxRF0IIIYQQohSSRF28kMDAQFQqFSqVCkNDQ1xcXJg4cSJpaWklPbRidfjwYZo1a4aNjQ0mJiZ4eHiwcOHCkh6WEEIIIXSATH0RL8zf35/o6GjUajWHDh0iKCiItLQ0Vq5cqVFPrVaXutUdCjsmMzMzRo8eTd26dTEzM+Pw4cMMGzYMMzMzhg4d+gpGKoQQQghdJVfUxQszMjLCzs4OR0dHevfuTZ8+fdi5cydhYWHUr1+fqKgoXFxcMDIyIjc3l7t37zJ06FAqV66MpaUlLVu25Mcff1Ta+/HHH/Hx8cHCwgJLS0saNWqkvCH0999/p0OHDpQvXx4zMzNq165NbGwsADExMVhbW2uMbefOnahUKmX7RcfUoEEDAgICqF27Nk5OTvTt2xc/Pz8OHTqk1AkMDKRTp06Eh4cr7QwbNoyHDx8qdby9vRkzZgzjx4+nfPny2Nra8umnn5KWlsbAgQOxsLCgRo0a7N27t1j/jIQQQgjx+pIr6qLYmJiYoFY/eoHJlStX2Lp1K9u2bUNfXx+Adu3aUaFCBWJjY7GysmL16tW0atWKy5cvU6FCBfr06UODBg1YuXIl+vr6nDt3TrnqPWrUKB4+fMj333+PmZkZFy5cwNzcvEjje5ExPens2bMcPXqUGTNmaJTv378fY2NjDh48SFJSEgMHDqRixYrMnDlTqbN27VpCQkI4efIkX3zxBSNGjGDnzp107tyZKVOmsHDhQvr168e1a9cwNTXN13dmZiaZmZnKdmpqKvDo4Tz5zl28DP9/PA0lrsVOF2Kb9/9gSfRZEn2XdRJb7dHV2BblfCVRF8Xi5MmTbNq0iVatWgHw8OFD1q9fT6VKlQA4cOAA58+fJyUlBSMjIwDmz5/Pzp07+eqrrxg6dCjXrl3jww8/xMPDA4CaNWsq7V+7do2uXbtSp04dAFxcXIo8xhcZUx4HBwf++ecfsrKyCAsLIygoSKPtcuXKERUVhampKbVr1+bjjz/mww8/JCIiAj29RwlJvXr1+OijjwAIDQ1lzpw5VKxYkSFDhgAwbdo0Vq5cyU8//UTTpk3zjX/27NmEh+dfTaKX3huY6uVP7MXL66dXt6SHUGaV5djm3e0rCfHx8SXWd1knsdUeXYttenp6oetKoi5e2O7duzE3NycrKwu1Wk3Hjh1ZunQpK1asoHr16kpCDHDmzBnu37+f7w2aDx48IDExEYDg4GCCgoJYv349rVu3pnv37tSoUQOAsWPHMmLECL799ltat25N165dqVu3aB/0LzKmPIcOHeL+/fscP36cyZMn4+rqSkBAgLK/Xr16GlfBvby8uH//PtevX6d69eoAGuPV19fHxsZG+eIBYGtrC0BKSkqB4w8NDSU4OFjZTk1NxdHRkS05P0OOLM9YnAzRo59eXdbn/FRmlxAsKboQ26/aT3nlfarVauLj4/H19S11zwS97iS22qOrsc27I14YkqiLF+bj48PKlSsxNDTE3t5e4x+ZmZmZRt2cnByqVKlCQkJCvnby5peHhYXRu3dv9uzZw969e5k+fTpbtmyhc+fOBAUF4efnx549e/j222+ZPXs2kZGRjBkzBj09PXJzczXaLOi20ouMKY+zszMAderU4e+//yYsLEwjUX+ax+fJP/mfUN6KOU/WzckpOHkxMjJSrvw/7lGyUzYTnpKmJqfMJpMlrSzHtiQTDkNDQ51KeF4lia326Fpsi3KukqiLF2ZmZoarq2uh6jZs2JAbN25gYGCAk5PTU+u5ubnh5ubGhAkTCAgIIDo6ms6dOwPg6OjI8OHDGT58OKGhoaxZs4YxY8ZQqVIl7t27R1pampKMnzt3rtjG9KTc3FyNueLw6EHYBw8eYGJiAsDx48cxNzfHwcGh0O0KIYQQQjyu7D7NI0qV1q1b4+XlRadOndi3bx9JSUkcPXqUjz76iNOnT/PgwQNGjx5NQkICv//+O0eOHOHUqVN4enoCMH78ePbt28fVq1f54YcfOHDggLKvSZMmmJqaMmXKFK5cucKmTZuIiYl56TEBLF++nF27dvHrr7/y66+/Eh0dzfz58+nbt69GWw8fPmTw4MFcuHBBuRswevRoZX66EEIIIURRyRV18UqoVCpiY2P5z3/+w6BBg/jnn3+ws7OjefPm2Nraoq+vz61bt+jfvz9///03FStWpEuXLsrDk9nZ2YwaNYo//vgDS0tL/P39lRcPVahQgQ0bNvDhhx/y6aef0rp1a8LCwp67zvnzxgSPpqGEhoZy9epVDAwMqFGjBnPmzGHYsGEabbVq1YqaNWvSvHlzMjMz6dWrF2FhYcUfSCGEEELoDFXuk5N7hRBFEhgYyJ07d9i5c+cr7Tc1NRUrKyve2zAZTOVh0uJkiB6D9OoTlXOuzM6jLim6ENvYzvlXZ9I2tVpNbGwsbdu21am5vq+CxFZ7dDW2eZ/fd+/exdLS8pl15Yq6EK+59f4T861cI15O3ofHV+2n6NSHx6sgsRVCiMKTCbRCCCGEEEKUQnJFXYiXVJgHV4UQQgghikoSdSFec/33fg6mxiU9jNfGni5jS3oIQgghRKHI1Bfx2lCpVK/kgU0nJycWLVqk9X6EEEIIIZ5FEnVRaty4cYMxY8bg4uKCkZERjo6OdOjQgf3795fouBITE+ncuTOVKlXC0tKSHj168Pfff5fomIQQQghR9kmiLkqFpKQkGjVqxIEDB5g3bx7nz58nLi4OHx8fRo0aVWLjSktLo02bNqhUKg4cOMCRI0d4+PAhHTp0ICenbC4tJ4QQQojSQRJ1USqMHDkSlUrFyZMn6datG25ubtSuXZvg4GCOHz9e4DHnz5+nZcuWmJiYYGNjw9ChQ7l//76y39vbm/Hjx2sc06lTJwIDA5XtlJQUOnTogImJCc7OzmzcuFGj/pEjR0hKSiImJoY6depQp04doqOjOXXqFAcOHFDqTZo0CTc3N0xNTXFxcWHq1Kmo1Wplf1hYGPXr1ycqKopq1aphbm7OiBEjyM7OZt68edjZ2VG5cmVmzpz5ElEUQgghRFkiD5OKEvfvv/8SFxfHzJkzMTMzy7ff2to6X1l6ejr+/v40bdqUU6dOkZKSQlBQEKNHjy7SKiyBgYFcv36dAwcOUK5cOcaOHUtKSoqyPzMzE5VKhZGRkVJmbGyMnp4ehw8fpnXr1gBYWFgQExODvb0958+fZ8iQIVhYWBASEqIcl5iYyN69e4mLiyMxMZFu3bpx9epV3Nzc+O9//8vRo0cZNGgQrVq1omnTpvnGmpmZSWZmprKdmpoKgCEqQFXoc9Z1j3+Bel6dwtQVRSOx1Q6Jq/ZIbLVHV2NblPOVRF2UuCtXrpCbm4uHh0ehj9m4cSMPHjxg3bp1SnK/bNkyOnTowNy5c7G1tX1uG5cvX2bv3r0cP36cJk2aAPD555/j6emp1GnatClmZmZMmjSJWbNmkZuby6RJk8jJySE5OVmp99FHHym/d3Jy4oMPPuCLL77QSNRzcnKIiorCwsKCWrVq4ePjw6VLl4iNjUVPTw93d3fmzp1LQkJCgYn67NmzCQ/P/8bDnvoOmOqbFiJqAiA2NrbQdePj47U4Et0msdUOiav2SGy1R9dim56eXui6kqiLEpebmws8WtWlsC5evEi9evU0rsA3a9aMnJwcLl26VKhE/eLFixgYGNC4cWOlzMPDQ+MKfqVKlfjyyy8ZMWIES5YsQU9Pj4CAABo2bIi+vr5S76uvvmLRokVcuXKF+/fvk5WVle+1wE5OTlhYWCjbtra26Ovro6enp1H2+BX9x4WGhhIcHKxsp6am4ujoyBfZf0C2LM9YWF92GP7cOmq1mvj4eHx9feXtmcVMYqsdElftkdhqj67GNu+OeGFIoi5KXM2aNVGpVFy8eJFOnToV6pjc3NynJvZ55Xp6esqXgDyP324q7BeENm3akJiYyM2bNzEwMMDa2ho7OzucnZ0BOH78OL169SI8PBw/Pz+srKzYsmULkZGRGu08+Z+QSqUqsOxpD6kaGRlpTMFRzolcIDf/AaJARfkwMDQ01KkPj1dJYqsdElftkdhqj67FtijnKg+TihJXoUIF/Pz8WL58OWlpafn237lzJ19ZrVq1OHfunEb9I0eOoKenh5ubG/Doavjj01Oys7P5+eeflW1PT0+ysrI4ffq0Unbp0qUC+wOoWLEi1tbWHDhwgJSUFN5//32l3+rVq/Of//yHxo0bU7NmTX7//fcixUAIIYQQ4kmSqItSYcWKFWRnZ/PWW2+xbds2fv31Vy5evMiSJUvw8vLKV79Pnz4YGxszYMAAfv75Zw4ePMiYMWPo16+fMu2lZcuW7Nmzhz179vDLL78wcuRIjSTc3d0df39/hgwZwokTJzhz5gxBQUGYmJho9BUdHc3x48dJTExkw4YNdO/enQkTJuDu7g6Aq6sr165dY8uWLSQmJrJkyRJ27NihvWAJIYQQQidIoi5KBWdnZ3744Qd8fHz44IMPeOONN/D19WX//v2sXLkyX31TU1P27dvHv//+y5tvvkm3bt1o1aoVy5YtU+oMGjSIAQMG0L9/f1q0aIGzszM+Pj4a7URHR+Po6EiLFi3o0qULQ4cOpXLlyhp1Ll26RKdOnfD09OTjjz/mP//5D/Pnz1f2d+zYkQkTJjB69Gjq16/P0aNHmTp1ajFHSAghhBC6RpX75CReIcRrITU1FSsrK9qunwum8jBpYe3pMva5ddRqNbGxsbRt21an5k2+ChJb7ZC4ao/EVnt0NbZ5n993797Nt/DEk+RhUiFec+veG4yNjU1JD0MIIYQQxUymvgghhBBCCFEKSaIuhBBCCCFEKSRTX4R4zQ2I3QqmJs+vKArNEAg0KE+Pbzai7Rdb7+4aqOUehBBCvK7kirp4LahUKnbu3Kn1fpycnFi0aJHW+xFCCCGEeB5J1EWpcOPGDcaMGYOLiwtGRkY4OjrSoUMH9u/fX6LjGjZsGDVq1MDExIRKlSrRsWNHfvnllxIdkxBCCCF0gyTqosQlJSXRqFEjDhw4wLx58zh//jxxcXH4+PgwatSoEh1bo0aNiI6O5uLFi+zbt4/c3FzatGlDdnZ2iY5LCCGEEGWfJOqixI0cORKVSsXJkyfp1q0bbm5u1K5dm+DgYI4fP17gMefPn6dly5aYmJhgY2PD0KFDuX//vrLf29ub8ePHaxzTqVMnAgMDle2UlBQ6dOiAiYkJzs7ObNy4MV8/Q4cOpXnz5jg5OdGwYUNmzJjB9evXSUpKAh59yVCpVGzZsoW3334bY2NjateuTUJCgtJGQkICKpWKffv20aBBA0xMTGjZsiUpKSns3bsXT09PLC0tCQgIID09/YXjKIQQQoiyRR4mFSXq33//JS4ujpkzZ2JmZpZvv7W1db6y9PR0/P39adq0KadOnSIlJYWgoCBGjx5NTExMofsODAzk+vXrHDhwgHLlyjF27FhSUlKeWj8tLY3o6GicnZ1xdHTU2Pfhhx+yaNEiatWqxYIFC3j//fe5evWqxvrmYWFhLFu2DFNTU3r06EGPHj0wMjJi06ZN3L9/n86dO7N06VImTZpUYP+ZmZlkZmYq26mpqcCjBx9F8TJ84ldtUqu1/bhq6ZJ3vrp23tomcdUeia326Gpsi3K+kqiLEnXlyhVyc3Px8PAo9DEbN27kwYMHrFu3Tknuly1bRocOHZg7dy62trbPbePy5cvs3buX48eP06RJEwA+//xzPD0989VdsWIFISEhpKWl4eHhQXx8POXKldOoM3r0aLp27QrAypUriYuL4/PPPyckJESpM2PGDJo1awbA4MGDCQ0NJTExERcXFwC6devGwYMHn5qoz549m/Dw8HzlPQysMTUwfe45i6LrY1Be633ExsZqvY/SKD4+vqSHUCZJXLVHYqs9uhbbotw9l0RdlKjc3Fzg0aouhXXx4kXq1auncQW+WbNm5OTkcOnSpUIl6hcvXsTAwIDGjRsrZR4eHgVewe/Tpw++vr4kJyczf/58evTowZEjRzA2NlbqeHl5Kb/Pa/fixYsa7dStW1f5va2tLaampkqSnld28uTJp445NDSU4OBgZTs1NRVHR0e2Zt2BrMynHieKzpBHSfrGrNtaX55x6/t9tNxD6aJWq4mPj8fX11enXhmubRJX7ZHYao+uxjbvjnhhSKIuSlTNmjVRqVRcvHiRTp06FeqY3Nzcpyb2eeV6enrKl4A8j99qKsoXBCsrK6ysrKhZsyZNmzalfPny7Nixg4CAgGce92Tbj/8npFKp8v2npFKpyMnJeWp7RkZGGBkZ5SvXrRuGr5Ya7cdXlz6cHmdoaKiz565NElftkdhqj67FtijnKg+TihJVoUIF/Pz8WL58OWlpafn237lzJ19ZrVq1OHfunEb9I0eOoKenh5ubGwCVKlUiOTlZ2Z+dnc3PP/+sbHt6epKVlcXp06eVskuXLhXY35Nyc3M15ooDGg+9ZmVlcebMmSJN5xFCCCGEeJIk6qLErVixguzsbN566y22bdvGr7/+ysWLF1myZInGlJI8ffr0wdjYmAEDBvDzzz9z8OBBxowZQ79+/ZRpLy1btmTPnj3s2bOHX375hZEjR2ok4e7u7vj7+zNkyBBOnDjBmTNnCAoKwsTk/97w+dtvvzF79mzOnDnDtWvXOHbsGD169MDExIS2bdtqjGn58uXs2LGDX375hVGjRnH79m0GDRqknYAJIYQQQidIoi5KnLOzMz/88AM+Pj588MEHvPHGG/j6+rJ//35WrlyZr76pqSn79u3j33//5c0336Rbt260atWKZcuWKXUGDRrEgAED6N+/Py1atMDZ2RkfHx+NdqKjo3F0dKRFixZ06dKFoUOHUrlyZWW/sbExhw4dom3btri6utKjRw/MzMw4evSoRj2AOXPmMHfuXOrVq8ehQ4f4+uuvqVixYjFHSgghhBC6RJX75EReIUShJSUl4ezszNmzZ6lfv/4r7Ts1NRUrKyvarVsBpibPP0AUmiEQaFCemFfwMOnuroFa7qF0UavVxMbG0rZtW52ak6ptElftkdhqj67GNu/z++7du1haWj6zrjxMKsRrbm3bHhrrtYuXl/fhsfX9Pjr14SGEEKJ0kakvQgghhBBClEJyRV2Il+Dk5JRvGUghhBBCiOIgiboQr7kBe3aDqbyZtDgZAoGG5ejx9U5Zp/4F7O7WvaSHIIQQZYJMfRFCCCGEEKIUkkRdlAoqleqZP4GBgSUyLrVazccff0yNGjUwNjamXr16xMXFlchYhBBCCKFbZOqLKBUef4voF198wbRp07h06ZJS9viLiF6ljz76iA0bNrBmzRo8PDzYt28fnTt35ujRozRo0KBExiSEEEII3SBX1EWpYGdnp/xYWVmhUqk0yr7//nsaNWqEsbExLi4uhIeHk5WVpRyvUqlYvXo17du3x9TUFE9PT44dO8aVK1fw9vbGzMwMLy8vEhMTlWPCwsKoX78+q1evxtHREVNTU7p3767xBtP169czZcoU2rZti4uLCyNGjMDPz4/IyEilTlxcHO+88w7W1tbY2NjQvn17jX6SkpJQqVRs3bqVd999FxMTE958800uX77MqVOnaNy4Mebm5vj7+/PPP/9oN9BCCCGEeG1Ioi5KvX379tG3b1/Gjh3LhQsXWL16NTExMcycOVOjXkREBP379+fcuXN4eHjQu3dvhg0bRmhoKKdPnwZg9OjRGsdcuXKFrVu3smvXLuLi4jh37hyjRo1S9mdmZmJsbKxxjImJCYcPH1a209LSCA4O5tSpU+zfvx89PT06d+5MTk6OxnHTp0/no48+4ocffsDAwICAgABCQkJYvHgxhw4dIjExkWnTphVLzIQQQgjx+pOpL6LUmzlzJpMnT2bAgAEAuLi4EBERQUhICNOnT1fqDRw4kB49egAwadIkvLy8mDp1Kn5+fgCMGzeOgQMHarSdkZHB2rVrcXBwAGDp0qW0a9eOyMhI7Ozs8PPzY8GCBTRv3pwaNWqwf/9+vv76a7Kzs5U2unbtqtHm559/TuXKlblw4QJvvPGGUj5x4kSNsQQEBLB//36aNWsGwODBg4mJiXlqHDIzM8nMzFS2U1NTgUcrlIjiZfjEr6Jo1Oqnr5WTt+9ZdUTRSVy1R2KrPboa26KcryTqotQ7c+YMp06d0riCnp2dTUZGBunp6Zj+/6UJ69atq+y3tbUFoE6dOhplGRkZpKamKq/srVatmpKkA3h5eZGTk8OlS5ews7Nj8eLFDBkyBA8PD1QqFTVq1GDgwIFER0crxyQmJjJ16lSOHz/OzZs3lSvp165d00jUCzO+lJSUp8Zh9uzZhIeH5yvvYVgOU8NyTz1OvLg+EtcXEhsb+9w68fHxr2Akukfiqj0SW+3Rtdimp6cXuq4k6qLUy8nJITw8nC5duuTb9/i0lMdf9a5SqZ5a9uSUlMfl1cn7tVKlSuzcuZOMjAxu3bqFvb09kydPxtnZWTmmQ4cOODo6smbNGuzt7cnJyeGNN97g4cOHGm0XZnzPGltoaCjBwcHKdmpqKo6OjmxVPwS1/FMuToY8StI3qh/KOuovYGvHTk/dp1ariY+Px9fXV+Pvv3g5Elftkdhqj67GNu+OeGHIp7so9Ro2bMilS5dwdXUt9ravXbvGX3/9hb29PQDHjh1DT08PNzc3jXrGxsZUrVoVtVrNtm3blCk2t27d4uLFi6xevZp3330XQGP+enEyMjLCyMgoX7kkktqjRuL7IgrzgWtoaKhTH8yvisRVeyS22qNrsS3KuUqiLkq9adOm0b59exwdHenevTt6enr89NNPnD9/nhkzZrxU28bGxgwYMID58+eTmprK2LFj6dGjB3Z2dgCcOHGCP//8k/r16/Pnn38SFhZGTk4OISEhAJQvXx4bGxs+/fRTqlSpwrVr15g8efJLn7MQQgghhKz6Iko9Pz8/du/eTXx8PG+++SZNmzZlwYIFVK9e/aXbdnV1pUuXLrRt25Y2bdrwxhtvsGLFCmV/RkYGH330EbVq1aJz585UrVqVw4cPY21tDYCenh5btmzhzJkzvPHGG0yYMIFPPvnkpcclhBBCCCFX1EWpExgYmO9NpH5+fsqKKQXJzc3V2HZycspX5u3tna8MYMSIEYwYMaLAdlu0aMGFCxeeOd7WrVvnq/N4P4UdS0HnLYQQQgjdJYm6EK+5te3aY2NjU9LDKFPUajWxsbFs7dhJp+ZNCiGEKF1k6osQQgghhBClkCTqQmeFhYVx7ty5kh6GEEIIIUSBZOqLEK+5QXsSwNSspIdRphiSSz9DCPj6O9SoSno4r5Wvu/mX9BCEEKLMkCvqQgghhBBClEKSqItSQaVSPfOnpFZD2b59O40bN8ba2hozMzPq16/P+vXrS2QsQgghhNAtMvVFlArJycnK77/44gumTZvGpUuXlDITE5OSGBYVKlTgP//5Dx4eHpQrV47du3czcOBAKleu/MzlIoUQQgghXpZcURelgp2dnfJjZWWFSqXSKPv+++9p1KgRxsbGuLi4EB4eTlZWlnK8SqVi9erVtG/fHlNTUzw9PTl27BhXrlzB29sbMzMzvLy8SExMVI4JCwujfv36rF69GkdHR0xNTenevTt37txR6nh7e9O5c2c8PT2pUaMG48aNo27duhw+fFijzujRoxk9ejTW1tbY2Njw0Ucf5VtLfcaMGfTv3x9zc3OqV6/O119/zT///EPHjh0xNzenTp06nD59WruBFkIIIcRrQxJ1Uert27ePvn37MnbsWC5cuMDq1auJiYlh5syZGvUiIiLo378/586dw8PDg969ezNs2DBCQ0OVBHj06NEax1y5coWtW7eya9cu4uLiOHfuHKNGjSpwHLm5uezfv59Lly7RvHlzjX1r167FwMCAEydOsGTJEhYuXMhnn32mUWfhwoU0a9aMs2fP0q5dO/r160f//v3p27cvP/zwA66urvTv37/AlzIJIYQQQvfI1BdR6s2cOZPJkyczYMAAAFxcXIiIiCAkJITp06cr9QYOHEiPHj0AmDRpEl5eXkydOlWZojJu3DgGDhyo0XZGRgZr167FwcEBgKVLl9KuXTsiIyOxs7MD4O7du1StWpXMzEz09fVZsWIFvr6+Gu04OjqycOFCVCoV7u7unD9/noULFzJkyBClTtu2bRk2bBgA06ZNY+XKlbz55pt0795dY8x///230vfjMjMzyczMVLZTU1OBRyuUgCT3xcnw/8fTUOJaZGq1ulD7n1dPFI3EVXskttqjq7EtyvlKoi5KvTNnznDq1CmNK+jZ2dlkZGSQnp6OqakpAHXr1lX229raAlCnTh2NsoyMDFJTU7G0tASgWrVqSpIO4OXlRU5ODpcuXVKSZQsLC86dO8f9+/fZv38/wcHBuLi44O3trRzXtGlTVCqVRjuRkZFkZ2ejr69f6PEBpKSkFJioz549m/Dw8HzlXQ3VmBo+LDh44qX0MtStD4/iEBsbW6h68fHxWh6JbpK4ao/EVnt0Lbbp6emFriuJuij1cnJyCA8Pp0uXLvn2GRsbK79//FXveUlzQWU5OTlP7SuvzuNJt56eHq6urgDUr1+fixcvMnv2bI1EvTBednyhoaEEBwcr26mpqTg6OrJNbQjqckUai3g2Q3LpZahmi9pQ1lEvos0dWz9zv1qtJj4+Hl9fX42//+LlSFy1R2KrPboa27w74oUhiboo9Ro2bMilS5eUZLk4Xbt2jb/++gt7e3sAjh07hp6eHm5ubk89Jjc3V2MKCsDx48fzbdesWVO5ml4cjIyMMDIyylf+KJGUZFIb1KgkUS+iwn7YGhoa6tQH86sicdUeia326Fpsi3KukqiLUm/atGm0b98eR0dHunfvjp6eHj/99BPnz59nxowZL9W2sbExAwYMYP78+aSmpjJ27Fh69OihTD2ZPXs2jRs3pkaNGjx8+JDY2FjWrVvHypUrNdq5fv06wcHBDBs2jB9++IGlS5cSGRn5UmMTQgghhG6TRF2Uen5+fuzevZuPP/6YefPmYWhoiIeHB0FBQS/dtqurK126dKFt27b8+++/tG3blhUrVij709LSGDlyJH/88QcmJiZ4eHiwYcMGevbsqdFO//79efDgAW+99Rb6+vqMGTOGoUOHvvT4hBBCCKG7JFEXpU5gYGC+N5H6+fk98wVDTy5p6OTklK/M29u7wKUPR4wYwYgRIwpsd8aMGYW6am9oaMiiRYvyXWnPk5SU9EJjFkIIIYTukkRdiNdcVDtvbGxsSnoYZYparSY2NpbNHVvr1LxJIYQQpYu88EgIIYQQQohSSK6oC50VFhZGWFjYS7eTkJDw0m0IIYQQQjxJEnUhXnNDYs+AqUVJD6NMMSSH3gbQ95uTqF/gxuP2rl5aGJUQQghdI1NfhBBCCCGEKIUkURdlQmBgIJ06dSqx/hMSElCpVNy5c6fExiCEEEKIskUSdVHiAgMDUalUqFQqDAwMqFatGiNGjOD27duFbmPx4sXExMQUqm5eUv2sn8K2JYQQQgihLTJHXZQK/v7+REdHk5WVxYULFxg0aBB37txh8+bNhTreysqq0H29/fbbJCcnK9vjxo0jNTWV6OjoF2pPCCGEEEIb5Iq6KBWMjIyws7PDwcGBNm3a0LNnT7799lsAsrOzGTx4MM7OzpiYmODu7s7ixYs1jn9y6ou3tzdjx44lJCSEChUqYGdnp6zwUq5cOezs7JQfExMTpX87OzvKly/PpEmTqFy5MsbGxrzzzjucOnVKo7/Y2Fjc3NwwMTHBx8cn3wuNbt26RUBAAA4ODpiamlKnTh2NLx3r1q3DxsaGzMxMjeO6du1K//79XzKaQgghhCgL5Iq6KHV+++034uLilBfN5OTk4ODgwNatW6lYsSJHjx5l6NChVKlShR49ejy1nbVr1xIcHMyJEyc4duwYgYGBNGvWDF9f32f2HxISwrZt21i7di3Vq1dn3rx5+Pn5ceXKFSpUqMD169fp0qULw4cPZ8SIEZw+fZoPPvhAo42MjAwaNWrEpEmTsLS0ZM+ePfTr1w8XFxeaNGlC9+7dGTt2LN988w3du3cH4ObNm+zevZu4uLgCx5WZmamR2KempgJgQA4qcp4fWFFoBv8/ngYvGFe1Wl2cwylT8mIjMSpeElftkdhqj67Gtijnq8qVd5aLEhYYGMiGDRswNjYmOzubjIwMABYsWMCECRMKPGbUqFH8/ffffPXVV0obd+7cYefOncCjK+rZ2dkcOnRIOeatt96iZcuWzJkzJ1//ecempaVRvnx5YmJi6N27N/DoH5STkxPjx4/nww8/ZMqUKezcuZP//e9/qFQqACZPnszcuXO5ffs21tbWBY65Xbt2eHp6Mn/+fABGjhxJUlISsbGxwKN59kuWLOHKlStKu48LCwsjPDw8X/mmTZswNTUtsE8hhBBClC7p6en07t2bu3fvYmlp+cy6ckVdlAo+Pj6sXLmS9PR0PvvsMy5fvsyYMWOU/atWreKzzz7j999/58GDBzx8+JD69es/s826detqbFepUoWUlJRnHpOYmIharaZZs2ZKmaGhIW+99RYXL14E4OLFizRt2lQjmfby0lw3Ozs7mzlz5vDFF1/w559/KlfDzczMlDpDhgzhzTff5M8//6Rq1apER0crD9YWJDQ0lODgYGU7NTUVR0dHdmSVR5Ul66gXJwNy6GHwL1uzKpD1AjMEN7z/lhZGVTao1Wri4+Px9fVV7pqJlydx1R6Jrfboamzz7ogXhiTqolQwMzPD1dUVgCVLluDj40N4eDgRERFs3bqVCRMmEBkZiZeXFxYWFnzyySecOHHimW0++Y9epVKRk/PsqQx5N5ieTJZzc3OVssLchIqMjGThwoUsWrSIOnXqYGZmxvjx43n48KFSp0GDBtSrV49169bh5+fH+fPn2bVr11PbNDIywsjIKF/5o0RSHjfRhiz0XuiFR7r0gfOiDA0NJU5aIHHVHomt9uhabItyrvLpLkql6dOnM3/+fP766y8OHTrE22+/zciRI2nQoAGurq4kJiZqpV9XV1fKlSvH4cOHlTK1Ws3p06fx9PQEoFatWhw/flzjuCe3Dx06RMeOHenbty/16tXDxcWFX3/9NV9/QUFBREdHExUVRevWrXF0dNTCWQkhhBDidSSJuiiVvL29qV27NrNmzcLV1ZXTp0+zb98+Ll++zNSpU/OtwlJczMzMGDFiBB9++CFxcXFcuHCBIUOGkJ6ezuDBgwEYPnw4iYmJBAcHc+nSJTZt2pRv3XVXV1fi4+M5evQoFy9eZNiwYdy4cSNff3369OHPP/9kzZo1DBo0SCvnJIQQQojXkyTqotQKDg5mzZo1dOrUiS5dutCzZ0+aNGnCrVu3GDlypNb6nTNnDl27dqVfv340bNiQK1eusG/fPsqXLw9AtWrV2LZtG7t27aJevXqsWrWKWbNmabQxdepUGjZsiJ+fH97e3tjZ2RX45lRLS0u6du2Kubl5ib5ZVQghhBClj6z6IkQJ8/X1xdPTkyVLlhTpuNTUVKysrLh58yY2NjZaGp1uUqvVxMbG0rZtW52aN/kqSGy1Q+KqPRJb7dHV2OZ9fsuqL0KUYv/++y/ffvstBw4cYNmyZSU9HCGEEEKUMpKoC1FCGjZsyO3bt5k7dy7u7u4lPRwhhBBClDKSqAtRQpKSkoqlnRF7r6EyvVssbYlHDMimhz4E7koiC/2SHk6Zooux/aKLS0kPQQjxmpKHSYUQQgghhCiFSixRV6lUyuveAX755ReaNm2KsbGx8sbJgspKWlhY2HPHEhgYqLGCh7e3N+PHj9fquIQQQgghRNlS7Il63ivQVSoVhoaG2Nra4uvrS1RUlMZbIZOTk3nvvfeU7enTp2NmZsalS5fYv3//U8ueTPAf7/dVLG83ceJEZSyFtX37diIiIpRtJycnFi1aVOS+8+L6+M8777xT5HZeVlhYmNK/vr4+jo6OBAUF8c8//2i978fP3czMjJo1axIYGMiZM2eKva/Dhw/TrFkzbGxsMDExwcPDg4ULFxZ7P0IIIYQQBdHKHHV/f3+io6PJzs7m77//Ji4ujnHjxvHVV1/xzTffYGBggJ2dncYxiYmJtGvXjurVqz+zrKSZm5tjbm5epGMqVKhQbP1HR0fj7++vbJcrV67Aemq1WqtLHdWuXZvvvvuO7Oxszp49y+DBg/nzzz/Zu3dvvrrZ2dmoVCr09Irne2FeDDIyMrh8+TKffvopTZo0ISoqiv79+xdLH/Do5UejR4+mbt26mJmZcfjwYYYNG4aZmRlDhw4ttn6EEEIIIQqilakvRkZG2NnZUbVqVRo2bMiUKVP4+uuv2bt3r/IGx8evjKtUKs6cOcPHH3+MSqVSrtg+WVYUBV21rl+/vkY7KpWK1atX0759e0xNTfH09OTYsWNcuXIFb29vzMzM8PLy0nhd/ZNTX7KzswkODsba2hobGxtCQkJ4cmn6x6e+eHt78/vvvzNhwgTlynBaWhqWlpZ89dVXGsft2rULMzMz7t27p5RZW1tjZ2en/FSoUIGkpCRUKhVbt27F29sbY2NjNmzYQE5ODh9//DEODg4YGRlRv3594uLilLYeP+7dd9/FxMSEN998k8uXL3Pq1CkaN26Mubk5/v7++a6W533Zqlq1Ku3bt2fs2LF8++23PHjwgJiYGKytrdm9eze1atXCyMiI33//nYcPHxISEkLVqlUxMzOjSZMmJCQkAHD37l1MTEw0xgeP7kaYmZlx//79fDFwcnKiTZs2fPXVV/Tp04fRo0dz+/ZtAG7dukVAQAAODg6YmppSp04dNm/erLSxbt06bGxsyMzM1Oiva9euSrLfoEEDAgICqF27Nk5OTvTt2xc/Pz8OHTqk1M+7kxMeHk7lypWxtLRk2LBhPHz4UOPPf8yYMYwfP57y5ctja2vLp59+SlpaGgMHDsTCwoIaNWoU+CVHCCGEELrrla360rJlS+rVq8f27dsJCgrS2JecnEzr1q3x9/dn4sSJmJubM3z48Hxl2hAREcGCBQtYsGABkyZNonfv3ri4uBAaGkq1atUYNGgQo0ePfmoSFRkZSVRUFJ9//jm1atUiMjKSHTt20LJlywLrb9++nXr16jF06FCGDBkCPLpy26tXL6Kjo+nWrZtSN2/bwsKiUOcyadIkIiMjiY6OxsjIiMWLFxMZGcnq1atp0KABUVFRvP/++/zvf/+jZs2aynHTp09n0aJFyvkGBARgaWnJ4sWLMTU1pUePHkybNo2VK1c+tW8TExNycnLIysoCID09ndmzZ/PZZ59hY2ND5cqVGThwIElJSWzZsgV7e3t27NiBv78/58+fp2bNmrRr146NGzdq3DHYtGkTHTt2fO6f/4QJE1i3bh3x8fH06NGDjIwMGjVqxKRJk7C0tGTPnj3069cPFxcXmjRpQvfu3Rk7dizffPMN3bt3B+DmzZvs3r0735eFPGfPnuXo0aPMmDFDo3z//v0YGxtz8OBBkpKSGDhwIBUrVmTmzJlKnbVr1xISEsLJkyf54osvGDFiBDt37qRz585MmTKFhQsX0q9fP65du4apqWmB/WdmZmp8sUhNTQVAn2z0yH5mfETRGPz/eBpIXIudLsZWrVa/sj5eRV+6RmKrPboa26Kc7ytdntHDw4OffvopX7mdnR0GBgaYm5srU2LMzc3zleUJCAhAX19zWa/MzEzatWtX5DENHDiQHj16AI8SXS8vL6ZOnYqfnx8A48aNY+DAgU89ftGiRYSGhtK1a1cAVq1axb59+55av0KFCujr62NhYaFxXkFBQbz99tv89ddf2NvbK0ljfHy8xvFPnvuGDRuUK/zjx4+nS5cuyr758+czadIkevXqBcDcuXM5ePAgixYtYvny5Uq9iRMnapxvQEAA+/fvp1mzZgAMHjxYuRNSkF9++YWVK1fy1ltvKV8q1Go1K1asoF69esCjaUybN2/mjz/+wN7eXuk3Li6O6OhoZs2aRZ8+fejfvz/p6emYmpqSmprKnj172LZt21P7zuPh4QH835KHVatWZeLEicr+MWPGEBcXx5dffkmTJk0wMTGhd+/eREdHK4n6xo0bcXBwwNvbW6NtBwcH/vnnH7KysggLC8v3RbNcuXJERUVhampK7dq1+fjjj/nwww+JiIhQpvvUq1ePjz76CIDQ0FDmzJlDxYoVlS9reV+EfvrpJ5o2bVrgOc6ePZvw8PB85e/r/4qpfsHJvXg5XfQvlfQQyixdim1s7IVX1teTnxmi+EhstUfXYpuenl7ouq80Uc/NzUWlUr10OwsXLqR169YaZZMmTSI7u+hXaOrWrav83tbWFoA6depolGVkZJCamprvNa93794lOTkZLy8vpczAwIDGjRvnm/7yPG+99Ra1a9dm3bp1TJ48mfXr11OtWjWaN2+uUe/Jc69SpYoyLaVx48ZKeWpqKn/99ZeSbOdp1qwZP/74Y5FjkJKSonHM+fPnMTc3Jzs7m8zMTLy9vfn000+V/eXKldNo94cffiA3Nxc3NzeNdjIzM7GxsQGgXbt2GBgY8M0339CrVy+2bduGhYUFbdq0eVrYFHnxzvv7lZ2dzZw5c/jiiy/4888/lavRZmZmyjFDhgzhzTff5M8//6Rq1apER0crD0M/7tChQ9y/f5/jx48zefJkXF1dCQgIUPbXq1dP4yq4l5cX9+/f5/r168rzFY/HQl9fHxsbm3wxBvLF+XGhoaEEBwcr26mpqTg6OvJNdk30sq2eGyNReAZk00X/Etuz3XVmre9XRRdjG9PBSet9qNVq4uPj8fX11alXsb8KElvt0dXY5t0RL4xXmqhfvHgRZ2fnl27Hzs4OV1dXjTILCwvu3LmjbOvp6eVLlgu61fD4X4y8BK2gssdXrNGWoKAgli1bxuTJk4mOjmbgwIH5ksaCzj0vUX88Cc3z5PEFfVkqTAyePH93d3e++eYb9PX1sbe3x8jISGO/iYmJRj85OTno6+tz5syZfHdD8qa1lCtXjm7durFp0yZ69erFpk2b6NmzJwYGz/9revHiRQDl71dkZCQLFy5k0aJF1KlTBzMzM8aPH68xd7xBgwbUq1ePdevW4efnx/nz59m1a1e+tvParFOnDn///TdhYWEaifrTPH7+T/4HlLcq0pN1n/X3zMjIKF+cAbLRJ0dHEp5XLQt9nUkmXzVdiu2rTEAMDQ11KuF5lSS22qNrsS3Kub6yddQPHDjA+fPnlSki2lapUiWSk5OV7dTUVK5evVqsfVhZWVGlShWOHz+ulGVlZT13qcBy5coVePW/b9++XLt2jSVLlvC///2PAQMGvPDYLC0tsbe35/DhwxrlR48exdPT84XbzVOuXDlcXV1xdnYuMHl8UoMGDcjOziYlJQVXV1eNn8enAPXp04e4uDj+97//cfDgQfr06VOo8SxatAhLS0vlbsOhQ4fo2LEjffv2pV69eri4uPDrr7/mOy4oKIjo6GiioqJo3bo1jo6Oz+wnNzc33wOoP/74Iw8ePFC2jx8/jrm5OQ4ODoUauxBCCCFEQbRyRT0zM5MbN25oLM84e/Zs2rdvX6zL5z1Ly5YtiYmJoUOHDpQvX56pU6fmu5JbHMaNG8ecOXOoWbMmnp6eLFiwQOPKfkGcnJz4/vvv6dWrF0ZGRlSsWBGA8uXL06VLFz788EPatGnz0onehx9+yPTp06lRowb169cnOjqac+fOsXHjxpdq90W4ubkpc9AjIyNp0KABN2/e5MCBA9SpU4e2bdsC0KJFC2xtbenTpw9OTk4Fzte+c+cON27cIDMzk8uXL7N69Wp27tzJunXrsLa2BsDV1ZVt27Zx9OhRypcvz4IFC7hx40a+Lyl9+vRh4sSJrFmzhnXr1mnsW758OdWqVVPmvx8+fJj58+czZswYjXoPHz5k8ODBfPTRR/z+++9Mnz6d0aNHF9tylEIIIYTQTVpJ1OPi4qhSpQoGBgaUL1+eevXqsWTJEgYMGPDKkpfQ0FB+++032rdvj5WVFREREcV+RR3ggw8+IDk5mcDAQPT09Bg0aBCdO3fm7t27Tz3m448/ZtiwYdSoUYPMzEyNKTqDBw9m06ZNDBo06KXHNnbsWFJTU/nggw9ISUmhVq1afPPNNxorvrxK0dHRzJgxgw8++IA///wTGxsbvLy8lCQdHk0BCQgI4JNPPmHatGkFtpP3cK+xsTFVq1blnXfe4eTJkzRs2FCpM3XqVK5evYqfnx+mpqYMHTqUTp065ftzsbS0pGvXruzZsyffC7NycnIIDQ3l6tWrGBgYUKNGDebMmcOwYcM06rVq1YqaNWvSvHlzMjMz6dWrV5GXExVCCCGEeJIqt6hPPQqt2rhxI+PGjeOvv/566suMRPHy9fXF09OTJUuWFPnYwMBA7ty5U+DbcrUtNTUVKysrbt68qTyQK4qHWq0mNjaWtm3b6tS8yVdBYqsdElftkdhqj67GNu/z++7du/kWKnnSK32YVDxdeno6V69eZfbs2QwbNkyS9Ffg33//5dtvv+XAgQMsW7aspIcjhBBCCKFBJtGWEvPmzaN+/frY2toSGhpa0sPRCQ0bNmTYsGHMnTsXd3f3kh6OEEIIIYQGuaJeSoSFhcm85lcs7+VIL+NZL4J6VT6PS8HIVLfe6qZtKrKorgcrd/9Nrvw3ybjOds+vJIQQotjJFXUhhBBCCCFKoRJN1FUqlcZDeL/88gtNmzbF2NiY+vXrP7WspIWFhT13LIGBgRqriHh7ezN+/HitjksIIYQQQpQdWknU817Dnvf2RVtbW3x9fYmKitJ482JycjLvvfeesj19+nTMzMy4dOkS+/fvf2rZkwn+4/0+ucSeNkycOFEZS2Ft376diIgIZdvJyYlFixYVue+8uD7+88477xS5nZcVFham9K+vr4+joyNBQUHKW1K16fFzNzMzo2bNmgQGBj73RVMvavny5Xh6emJiYoK7u3u+9daFEEIIIbRBa1fU/f39SU5OJikpib179+Lj48O4ceNo3749WVlZANjZ2Wm81TIxMZF33nmH6tWrK8vNFVRW0szNzYs8lgoVKmBhYVEs/UdHR5OcnKz8fPPNNwXWU6u1O2+5du3aJCcnc+3aNVauXMmuXbue+kKr7OxsjS9pLysvBv/73/9Yvnw59+/fp0mTJsWeRK9cuZLQ0FDCwsL43//+R3h4OKNGjWLXrl3F2o8QQgghxJO0lqgbGRlhZ2dH1apVadiwIVOmTOHrr79m7969ygN4j18ZV6lUnDlzho8//hiVSqVcsX2yrCgKumpdv359jXZUKhWrV6+mffv2mJqa4unpybFjx7hy5Qre3t6YmZnh5eVFYmKicsyTU1+ys7MJDg7G2toaGxsbQkJCeHJ5+senvnh7e/P7778zYcIE5cpwWloalpaWfPXVVxrH7dq1CzMzM+7du6eUWVtbY2dnp/xUqFCBpKQkVCoVW7duxdvbG2NjYzZs2EBOTg4ff/wxDg4OGBkZUb9+feLi4pS2Hj/u3XffxcTEhDfffJPLly9z6tQpGjdujLm5Of7+/vmulhsYGCh/xu3bt2fs2LF8++23PHjwgJiYGKytrdm9eze1atXCyMiI33//nYcPHxISEkLVqlUxMzOjSZMmJCQkAHD37l1MTEw0xgeP7kaYmZlx//79fDFwcnKiTZs2fPXVV/Tp04fRo0dz+/ZtAG7dukVAQAAODg6YmppSp04dNm/erLSxbt06bGxsyMzM1Oiva9euyheO9evXM2zYMHr27ImLiwu9evVi8ODBzJ07V6l/6tQpfH19qVixIlZWVrRo0YIffvhBo80X+XsmhBBCCN32SpczaNmyJfXq1WP79u0EBQVp7EtOTqZ169b4+/szceJEzM3NGT58eL4ybYiIiGDBggUsWLCASZMm0bt3b1xcXAgNDaVatWoMGjSI0aNHs3fv3gKPj4yMJCoqis8//5xatWoRGRnJjh07aNmyZYH1t2/fTr169Rg6dChDhgwBwMzMjF69ehEdHU23bt2Uunnbhb0aP2nSJCIjI4mOjsbIyIjFixcTGRnJ6tWradCgAVFRUbz//vv873//03hD6fTp01m0aJFyvgEBAVhaWrJ48WJMTU3p0aMH06ZNY+XKlU/t28TEhJycHOWOSXp6OrNnz+azzz7DxsaGypUrM3DgQJKSktiyZQv29vbs2LEDf39/zp8/T82aNWnXrh0bN27E399faXfTpk107NjxuX/+EyZMYN26dcTHx9OjRw8yMjJo1KgRkyZNwtLSkj179tCvXz9cXFxo0qQJ3bt3Z+zYsXzzzTd0794dgJs3b7J7927ly0JmZibGxsb5zvPkyZOo1WoMDQ25d+8eAwYMUF6YFBkZSdu2bfn11181/txe9u9ZZmamxpeK1NTU//+7bFRkPTM2omhUZGv8quuK8+5cXlvavuOnaySu2iOx1R5djW1RzveVrzvm4eHBTz/9lK/czs4OAwMDzM3NsbN7tBSYubl5vrI8AQEB6Ovra5RlZmbSrl27Io9p4MCB9OjRA3iU6Hp5eTF16lT8/PwAGDdunPLa+oIsWrSI0NBQunbtCsCqVavYt2/fU+tXqFABfX19LCwsNM4rKCiIt99+m7/++gt7e3slaYyPj9c4/slz37Bhg3KFf/z48XTp0kXZN3/+fCZNmkSvXr0AmDt3LgcPHmTRokUsX75cqTdx4kSN8w0ICGD//v00a9YMgMGDBz9zKcJffvmFlStX8tZbbynJqVqtZsWKFdSrVw94NI1p8+bN/PHHH9jb2yv9xsXFER0dzaxZs+jTpw/9+/cnPT0dU1NTUlNT2bNnD9u2bXtq33k8PDyA/1t2sWrVqkycOFHZP2bMGOLi4vjyyy9p0qQJJiYm9O7dm+joaCVR37hxIw4ODnh7ewPg5+fHZ599RqdOnWjYsCFnzpwhKioKtVrNzZs3qVKlSr4vZKtXr6Z8+fL8v/buPS7n83/g+OuudNaBjnRSbR0oSQ4JFdHW+BXbQkiEsZmajTDRMJpMYfsa2zoMYWYOI6eNMDlPZjTGkFlpbRSajvfvj759vm4VRTfR9Xw87gef63O6Pu/75n7f1+f6XNe+ffvo16+fVP64n7P58+fzwQcfVCu3VDmNtor2Q+Mj1J+VSubTrkKjkJbW8Me8//81oWGIuCqPiK3yNLXYFhUV1XnbJ56oy+VyZDLZYx8nPj4ePz8/hbKoqCjKy+vfAubq6ir93dTUFAAXFxeFsrt371JYWFhtqteCggJycnLw9PSUytTU1PDw8KjW/eVhOnfuTNu2bfnqq6+YOnUqK1euxMrKip49eypsd/+1m5ubS91SPDw8pPLCwkL+/PNPKdmu4uXlxalTp+odg7y8PIV9Tp8+ja6uLuXl5RQXF+Pj48OKFSuk9erq6grH/emnn5DL5bz44osKxykuLpb6/L/yyiuoqamxZcsWBg8ezIYNG2jevDl9+/atLWySqnhXfb7Ky8uJjY1l3bp1XLt2TWqR1tHRkfYZM2YMnTp14tq1a7Ru3ZqkpCTpYWiA6OhocnNz6dq1K3K5HFNTU8LCwliwYIH0YykvL4+ZM2eyZ88erl+/Tnl5OUVFRWRnZ9c7xrV9zgCmTZvGpEmTpOXCwkIsLS25WuGCZoXBQ+Mj1J2McqxUMsmucEOO6sN3eM6N72faYMcqLS1l9+7d9OnTp0lNGa5sIq7KI2KrPE01tv+7I/5wTzxRz8rKok2bNo99HDMzM+zt7RXKmjdvzs2bN6VlFRWVaslyTbcb7v1wVCVoNZU15MOQtRk9ejSffPIJU6dOJSkpiZEjR1b7YVPTtVcl6vcmoVXu37+mH0t1icH91+/g4MCWLVtQVVWlVatWCg8GQ2UXkXvPU1FRgaqqKidOnKh2N6SqW4u6ujqvvfYaqampDB48mNTUVAYNGoSa2sM/qllZWQDS5+vjjz8mPj6ehIQEXFxc0NHRITIykpKSEmmfDh060L59e7766iv8/f05ffq0woOiWlpaJCYmsnz5cq5fv465uTkrVqygefPmGBkZAZWjDf31118kJCRgbW2NhoYGnp6eCuepa4yr4lQTDQ2NajGupCom5VESuYgtgFK+QJs1a9akvpifFBFX5RGxVZ6mFtv6XOsTHUd9z549nD59WuoiomzGxsbk5ORIy4WFhVy6dKlBz6Gvr4+5uTmHDx+WysrKyh46VKC6unqNrf/Dhg0jOzubJUuWcObMGUaMGPHIddPT06NVq1b8+OOPCuUZGRk4OTk98nGrqKurY29vT5s2bWpJIBV16NCB8vJy8vLysLe3V3jd2wVo6NCh7NixgzNnzrB3716GDh1ap/okJCSgp6cn3W04cOAAgYGBDBs2jPbt22Nra8tvv/1Wbb/Ro0eTlJREYmIifn5+WFpaVtumWbNmWFhYoKqqytq1a+nXrx8qKirSeSZOnEhAQABt27ZFQ0OD/Pz8OtVZEARBEAShNkprKiouLiY3N5fy8nKuX7/Ojh07mD9/Pv369at1CL+G1qtXL5KTk+nfvz+GhoZER0dXa8ltCBEREcTGxvLCCy/g5OTEokWLFFr2a2JjY8P+/fsZPHgwGhoaUuusoaEhAwcOZPLkyfTt2xcLC4vHqtvkyZOZNWsWdnZ2uLm5kZSURGZmJqtXr36s4z6KF198UeqD/vHHH9OhQwfy8/PZs2cPLi4uBAQEAODt7Y2pqSlDhw7FxsaGrl27VjvWzZs3yc3Npbi4mPPnz7N8+XI2bdrEV199hYGBAQD29vZs2LCBjIwMDA0NWbRoEbm5udV+pAwdOpT33nuPzz//vNrwjufPn+fo0aN06dKFGzdusGjRIn755RdSUlKkbezt7Vm5ciUeHh4UFhYyefJktLS0Gjh6giAIgiA0NUprUd+xYwfm5ubY2Njw0ksvsXfvXpYsWcLmzZuVkizXZNq0afTs2ZN+/foREBBAUFAQdnZ2DX6ed999l9DQUMLCwvD09KR58+YMGDDggfvMnj2by5cvY2dnh7GxscK68PBwSkpKGDVq1GPXbeLEibz77ru8++67uLi4sGPHDrZs2aIw4suTlJSURGhoKO+++y4ODg783//9H0eOHFFoxZbJZAwZMoRTp07V2po+cuRIzM3NcXR0ZPz48ejq6nL06FFCQkKkbaKjo3F3d8ff3x8fHx/MzMxqnBBLT0+PV199FV1d3Wrry8vL+fjjj2nfvj19+vTh7t27ZGRkYGNjI22TmJjIjRs36NChA8OHD2fixImYmJg8VpwEQRAEQRBk8vo+8Sgo3erVq4mIiODPP/9EXV39aVenSejTpw9OTk7SEIvPgsLCQvT19cnPz280k4E9L0pLS0lLSyMgIKBJ9Zt8EkRslUPEVXlEbJWnqca26vu7oKCgxsEj7iWekmpEioqKuHTpEvPnz+eNN94QSfoT8M8//7Br1y727NnDJ5988rSrIwiCIAiCIHmiD5MKD7ZgwQLc3NwwNTVl2rRpT7s6TYK7uztvvPEGH330EQ4ODk+7OoIgCIIgCBLRot6IxMTEEBMT87Sr0aRUTY70LNu19R+0tUUPtoZVBuqQtulvxH+TDa1pxzbwdaOnXQVBEJ4hokVdEARBEARBEBohkagL1SQnJ0tDHNYmJiYGNzc3aTksLKzGEVUEQRAEQRCERyMS9UfUv39/aWKd+x06dAiZTMZPP/30SMe2sbEhISGhWvn9ybGyDBo0iPPnz9drn8WLF5OcnCwt+/j4EBkZWe9znzx5kn79+mFiYoKmpiY2NjYMGjSoUUwgFBMTg0wmQyaToaamhpGRET179iQhIYHi4uKnXT1BEARBEJ4zIlF/ROHh4ezZs4crV65UW5eYmIibmxvu7u71Oub9U84/LVpaWvUeB1xfX/+hrfAPk5eXh5+fH0ZGRuzcuZOsrCwSExMxNzenqKjosY7dUNq2bUtOTg7Z2dns3buX119/nfnz59OtWzdu3br1tKsnCIIgCMJzRCTqj6iq1ffeVmSoHGJx3bp1BAUFMWTIECwsLNDW1sbFxYU1a9YobOvj48OECROYNGkSRkZG9OnTp151qKnVOigoiLCwMGnZxsaGuXPnEhoaiq6uLtbW1mzevJm//vqLwMBAdHV1cXFx4fjx49I+NXV9iY2NxdTUlObNmxMeHs7du3cV1t/b9SUsLIx9+/axePFiqQX60qVL2Nvbs3DhQoX9fvnlF1RUVLh48SIZGRkUFhbyxRdf0KFDB9q0aUOvXr1ISEjAysoKqJyAKDw8nDZt2qClpYWDgwOLFy+usS7z5s3D1NQUAwMDPvjgA8rKypg8eTItWrTAwsKCxMREhf2uXbvGoEGDMDQ0pGXLlgQGBlZ72FRNTQ0zMzNatWqFi4sLb7/9Nvv27eOXX37ho48+krZbtWoVHh4eNG/eHDMzM0JCQsjLywNALpc/NBaCIAiCIAhN75H7BqKmpkZoaCjJycnMnDkTmUwGwPr16ykpKWH06NGsWbOGqKgo9PT02LZtG8OHD8fW1pYuXbpIx0lJSWH8+PEcPHgQZc09FR8fz7x584iOjiY+Pp7hw4fj5eXFqFGjiIuLIyoqitDQUM6cOSNdx72+/vprZs2axaeffkqPHj1YuXIlS5YswdbWtsbzLV68mPPnz9OuXTtmz54NgLGxMaNGjSIpKYn33ntP2jYxMZEePXpgZ2fHX3/9RVlZGRs3buS1116rsS4VFRVYWFjw9ddfY2RkREZGBmPHjsXc3Jzg4GBpuz179mBhYcH+/fs5ePAg4eHhHDp0iJ49e3LkyBHWrVvHuHHj6NOnD5aWlhQVFeHr60uPHj3Yv38/ampqzJ07l5deeomff/75gWPaOzo68vLLL/Ptt98yd+5coPLuyJw5c3BwcCAvL4933nmHsLAw0tLSkMlkD41FTYqLixW62BQWFv73b2X/fQkNp+y+P4WG07RjW1paqtTjKuv4TZmIrfI01djW53rFzKSP4ddff8XJyYk9e/bg6+sLgLe3N61btyY1NbXa9q+88gpOTk5SS6qPjw8FBQWcPHlSYTsbGxtycnKqzdJVUlKCs7MzmZmZ0v5ubm4K/dmDgoIwMDCQWvptbGyk5BogNzcXc3NzoqOjpST68OHDeHp6kpOTg5mZGcnJyURGRnLz5k0AunXrRvv27Vm2bJl0nq5du3L37l2pLmFhYdy8eZNNmzbVWrecnBwsLS3JyMigc+fOlJaW0rp1a+Li4hgxYgQA77//PgsWLEBPT4/OnTvTq1cvQkNDMTU1rfV9eOutt7h+/TrffPONVJf09HR+//13VFQqbxo5OjpiYmLC/v37gcqWeX19fb744gsGDx5MYmIiCxYsICsrS/qBUFJSgoGBAZs2baJv377ExMSwadMm6ZrvNXXqVJYsWVJrF51jx47RuXNnbt26ha6ubp1icb+YmBg++OCDauWpqaloa2vXGh9BEARBEBqPoqIiQkJCxMykyubo6Ei3bt1ITEzE19eXixcvcuDAAXbt2kV5eTmxsbGsW7eOa9euSa2hOjo6Csfw8PCo8diTJ09W6MICsGTJEinRrA9XV1fp71UJr4uLS7WyvLw8zMzMqu2flZXFuHHjFMo8PT3Zu3dvvephbm7OK6+8QmJiIp07d2br1q3cvXuX119/Xdrmww8/ZNKkSezZs4fDhw/z2WefMW/ePPbv3y/V+bPPPuOLL77gypUr/Pvvv5SUlFR7yLZt27ZSkl51je3atZOWVVVVadmypdQd5cSJE1y4cIHmzZsrHOfu3bt16ooil8sV7gCcPHmSmJgYMjMz+eeff6ioqAAgOzsbZ2fnOsXiftOmTWPSpEnScmFhIZaWllDiBmqGD62jUB9loH4CSjoi/ptsaE07tgFBLZVy3NLSUnbv3k2fPn2a1FTsT4KIrfI01dj+7474wzW9/yUbWHh4OBMmTODTTz8lKSkJa2trevfuTVxcHPHx8SQkJODi4oKOjg6RkZHVHhi9P3GvYmRkhL29vUJZixYtFJZVVFSqdZep6XbKvR/+qmSyprKqZFKZRo8ezfDhw4mPjycpKYlBgwZVaw1u2bIlr7/+uvSgZocOHVi4cCEpKSl8/fXXvPPOO3z88cd4enrSvHlz4uLiOHLkiMIx7v8HL5PJaiyruuaKigo6duzI6tWrq9XZ2Nj4odeVlZVFmzZtALhz5w59+/alb9++rFq1CmNjY7Kzs/H391d4/+sSi3tpaGigoaFRwxo1xD9lZRGxVZ6mGVtlJyPNmjVrUgnPkyRiqzxNLbb1udam979kAwsODiYiIoLU1FRSUlIYM2YMMpmMAwcOEBgYyLBhw4DKRPC3337Dycmpwc5tbGxMTk6OtFxeXs4vv/widcNpKE5OThw+fJjQ0FCp7PDhww/cR11dnfLy8mrlAQEB6OjosGzZMrZv3/7QOwTq6urY2dlx584dAA4cOEC3bt148803pW0a4uFLd3d31q1bh4mJyUNvQ93v119/ZceOHUybNk1azs/PJzY2trLFGxQe1q1S31gIgiAIgtC0iFFfHpOuri6DBg1i+vTp/Pnnn1J3FXt7e3bv3k1GRgZZWVm88cYb5ObmNui5e/XqxbZt29i2bRu//vorb775ptSvvCFFRESQmJhIYmIi58+fZ9asWZw5c+aB+9jY2HDkyBEuX75Mfn6+1HKtqqpKWFgY06ZNw97eHk9PT2mfrVu3MmzYMLZu3cr58+c5d+4cCxcuJC0tjcDAQKAyrsePH2fnzp2cP3+e6Ohojh079tjXOHToUIyMjAgMDOTAgQNcunSJffv2ERERwR9//CFtV1ZWRm5uLn/++SenT59m6dKleHt74+bmxuTJkwGwsrJCXV2dpUuX8vvvv7NlyxbmzJlT7ZwPioUgCIIgCIJI1BtAeHg4N27cwM/PTxpGMDo6Gnd3d/z9/fHx8cHMzKzBZ+4cNWoUI0aMIDQ0FG9vb9q0adPgrelQOQHSzJkziYqKomPHjly5coXx48c/cJ/33nsPVVVVnJ2dpa4fVcLDwykpKWHUqFEK+zg7O6Otrc27776Lm5sbXbt25euvv+aLL75g+PDhAIwbN46BAwcyaNAgunTpwt9//63Quv6otLW12b9/P1ZWVgwcOBAnJydGjRrFv//+q9DCfubMGczNzbGyssLHx4evv/6aadOmceDAAXR1dYHKOx3JycmsX78eZ2dnYmNjqw3F+LBYCIIgCIIgiFFfhCfu4MGD+Pj48McffzxwNJem4HFiUVhYiL6+Pvn5+bRsqZwH1Jqq0tJS0tLSCAgIaFL9Jp8EEVvlEHFVHhFb5Wmqsa36/hajvgiNSnFxMVevXiU6Oprg4OAmnaSLWAiCIAiC8DCi64vwxKxZswYHBwcKCgpYsGDB067OUyViIQiCIAjCw4hEXXhiwsLCKC8v58SJE7Ru3fppV+epErEQBEEQBOFhRNcXQXjGnVj/N821lD8GflNSQRkYwNHUfFTEf5MN6nmOreeIh8+5IAiCUB9KaVGXyWTSVPJQOa50165d0dTUlGaQrKlMeDxhYWENMrLM/e+fMvn4+BAZGflEziUIgiAIgvAsqVeiHhYWhkwmk2Z5NDU1pU+fPiQmJirMapmTk8PLL78sLc+aNQsdHR3OnTvHDz/8UGvZ3r178fX1pUWLFmhra/PCCy8wYsQIysrKAEhOTsbAwOBxr7lRqSm57tq1a7XhD5ctW4ZMJuPLL79UKA8PD6dbt24ALF68mOTk5AarW3JysvR+1/ZKT0+vcd97Pyu1vZRRT1VVVQwNDenSpQuzZ8+moKCgwc5zv9TUVFRVVRk3bpzSziEIgiAIQtNV7xb1l156iZycHC5fvsz27dvx9fUlIiKCfv36SQm1mZmZwlTnFy9epHv37lhbW0vDyN1fdubMGV5++WU6derE/v37pclkmjVrVu+p7e+dpv1Z5Ovry969exXK0tPTsbS0rLG8aux0fX39Bv0hM2jQIHJycqSXp6cnY8aMUSir+pFwv8WLFytsB5CUlFStrKHo6emRk5PDH3/8QUZGBmPHjuWrr77Czc2NP//8s0HPVSUxMZEpU6awdu1aioqKlHIOQRAEQRCarnon6hoaGpiZmdG6dWvc3d2ZPn06mzdvZvv27VJr7r1dJ2QyGSdOnGD27NnIZDJiYmJqLNu9ezfm5uYsWLCAdu3aYWdnx0svvcQXX3yBuro66enpjBw5koKCAqn1NCYmBqicBXPu3LmEhYWhr6/PmDFjANiwYQNt27ZFQ0MDGxsbPv74Y4VrsbGxYd68eYwaNYrmzZtjZWXFihUrFLbJyMjAzc0NTU1NPDw82LRpEzKZjMzMTGmbs2fPEhAQgK6uLqampgwfPpz8/Hxp/TfffIOLiwtaWlq0bNkSPz8/7ty5Q0xMDCkpKWzevFmhhdrX15dz584pJLP79u1j2rRpCi3YV69e5ffff5cS9ftb5318fJg4cSJTpkyhRYsWmJmZSTGr8ttvv9GzZ080NTVxdnZm9+7d0jotLS3MzMykl7q6Otra2tKyhoYGo0ePxtDQEG1tbV5++WV+++03oPJHw737AhgYGFQrA6ioqHhgHQsKChg7diwmJibo6enRq1cvTp06pbCNTCbDzMwMc3NznJycCA8PJyMjg9u3bzNlyhRpux07dtC9e3cMDAxo2bIl/fr14+LFi9L6Xr16MWHCBIVj//3332hoaLBnzx6p7PLly2RkZDB16lQcHR355ptvpGuxsLDgs88+UzjGTz/9hEwm4/fffwcqu351795divv333//RLscCYIgCILQ+DXIkzy9evWiffv2fPvtt4wePVphXU5ODn5+frz00ku899576OrqMm7cuGplW7duJScnh/3799OzZ89q5+jWrRsJCQnMnDmTc+fOAUgzQQLExcURHR3NjBkzADhx4gTBwcHExMQwaNAgMjIyePPNN2nZsiVhYWHSfh9//DFz5sxh+vTpfPPNN4wfP56ePXvi6OjIrVu36N+/PwEBAaSmpnLlypVq/alzcnLw9vZmzJgxLFq0iH///ZeoqCiCg4PZs2cPOTk5DBkyhAULFjBgwABu3brFgQMHkMvlvPfee2RlZVFYWEhSUhIALVq0oLS0lGbNmpGens6QIUM4e/Ys//77L6NGjSIqKorffvuNF154gb1796Kurl5rqzZASkoKkyZN4siRIxw6dIiwsDC8vLzo06cPFRUVDBw4ECMjIw4fPkxhYWG9+ouHhYXx22+/sWXLFvT09IiKiiIgIICzZ8/Wa+KCB9VRLpfzyiuv0KJFC9LS0tDX12f58uX07t2b8+fP06JFi1qPa2JiwtChQ0lMTKS8vBxVVVXu3LnDpEmTcHFx4c6dO8ycOZMBAwaQmZmJiooKo0ePZsKECXz88cfSXaHVq1fTqlUrhVlfExMTeeWVV9DX12fYsGF8+eWXhIaGoqKiwuDBg1m9erVCl5jU1FQ8PT2xtbWloqKCoKAgrKysOHLkCLdu3eLdd999aJyKi4spLi6WlgsLCwGooLzyAT2hwVRQrvCn0HCe59iWlpY+9XM/zTo8r0RslaepxrY+19tgj9w7Ojry888/Vys3MzNDTU0NXV1dqRVVV1e3Wtnrr7/Ozp078fb2xszMjK5du9K7d29CQ0PR09NDXV0dfX19qeX0fr169eK9996TlocOHUrv3r2Jjo4G4MUXX+Ts2bPExcUpJOoBAQHSFPRRUVHEx8eTnp6Oo6Mjq1evRiaT8fnnn0stn9euXZNa7KGy77i7uzvz5s2TyhITE7G0tOT8+fPcvn2bsrIyBg4ciLW1NQAuLi7StlpaWhQXFytck7q6Op06dZIS9fT0dLp3746GhgZeXl6kp6fzwgsvkJ6eTpcuXdDW1q71fXF1dWXWrFkAvPDCC3zyySf88MMP9OnTh++//56srCwuX76MhYUFAPPmzVN4vqA2VQn6wYMHpR8Kq1evxtLSkk2bNvH6668/9Bh1qePevXs5ffo0eXl5UuK8cOFCNm3axDfffMPYsWMfeOyqH1x///03JiYmvPrqqwrrv/zyS0xMTDh79izt2rXj1Vdf5e2332bz5s0EBwcDlV12qvrcQ2WreXJyMkuXLgVg8ODBTJo0iQsXLmBvb8/QoUNZtGgRV65cwdramoqKCtauXcv06dMB2LVrFxcvXiQ9PV163z/88EP69OnzwGuZP38+H3zwQbXyG/qZFD/gMyA8un8MTjztKjy3nsfYpqU97RqgcFdUaFgitsrT1GJbn+6yDZaoy+Xyx3pAUFVVlaSkJObOncuePXs4fPgwH374IR999BFHjx7F3Nz8gft7eHgoLGdlZREYGKhQ5uXlRUJCgtS6CpVJYpWqHwF5eXkAnDt3DldXVzQ1NaVtOnfurHDMEydOsHfvXoXW/SoXL16kb9++9O7dGxcXF/z9/enbty+vvfYahoaGD7weX19f1q9fD1T2Q/fx8QHA29ub9PR0xowZQ3p6OqGhoQ88zr3XB2Bubi5dX1ZWFlZWVlKSDuDp6fnA41XJyspCTU2NLl26SGUtW7bEwcGBrKysOh2jLnU8ceIEt2/flp5tqPLvv/8qdFmpjVwuB5A+mxcvXiQ6OprDhw+Tn58vPf+QnZ1Nu3bt0NDQYNiwYSQmJhIcHExmZianTp1S6JKya9cu7ty5I/2gMTIyom/fviQmJjJv3jw6dOiAo6Mja9asYerUqezbt4+8vDwp8T937hyWlpYKP87u/1zVZNq0aUyaNElaLiwsxNLSEsMCN5qXGDx0f6HuKijnH4MTtLjZERVUn3Z1nivPc2w7hxg9tXOXlpaye/du+vTp06SmYn8SRGyVp6nGtuqOeF00WKKelZVFmzZtHvs4rVu3Zvjw4QwfPpy5c+fy4osv8tlnn9XYkngvHR0dheWafjhUJW33uv+DIZPJpOStLseoqKigf//+fPTRR9WObW5ujqqqKrt37yYjI4Ndu3axdOlS3n//fY4cOfLAePn6+vLhhx9y7do19u3bJ90t8Pb2ZunSpWRnZ3Pp0iWF7hg1edj13a+uP7Zq2reqvL4/2B5Ux4qKCszNzWscXaYuD85mZWWhp6cnJfr9+/fH0tKSzz//nFatWlFRUUG7du0UHkAePXo0bm5u/PHHHyQmJtK7d2/pbghU3jH5559/FO5kVFRUcPLkSebMmYOqqipDhw4lNTWVqVOnkpqair+/P0ZGlV/ij/qjVkNDQ+Eh7SoqqD5341E3FiK2yvM8xrYxJBrNmjVrFPV4HonYKk9Ti219rrVBxlHfs2cPp0+frtat4HEZGhpibm7OnTt3gMouIeXldevX6OzszI8//qhQlpGRwYsvvii1pj9MVXeee/sFHz9+XGEbd3d3zpw5g42NDfb29gqvqh8PMpkMLy8vPvjgA06ePIm6ujobN2584DV169YNDQ0N/vOf//Dvv//SsWNHoPLOQUFBAcuXL0dTU5OuXbvW6Vpq4uzsTHZ2tsKoKIcOHarzvmVlZRw5ckQq+/vvvzl//jxOTk6PXKf7ubu7k5ubi5qaWrX4ViW+tcnLyyM1NZWgoCBUVFT4+++/ycrKYsaMGfTu3RsnJydu3LhRbT8XFxc8PDz4/PPPSU1NZdSoUQrXuHnzZtauXUtmZqbC6/bt22zfvh2AkJAQTp8+zYkTJ/jmm28YOnSodAxHR0eys7O5fv26VHbs2LHHDZUgCIIgCM+ZeifqxcXF5Obmcu3aNX766SfmzZtHYGAg/fr1e2g3jAdZvnw548ePl/rvnjlzhqioKM6cOUP//v2BylFabt++zQ8//EB+fv4D+/i8++67/PDDD8yZM4fz58+TkpLCJ598otCP/WFCQkKoqKhg7NixZGVlsXPnThYuXAj8r+X5rbfe4p9//mHIkCEcPXqU33//nV27djFq1CjKy8s5cuQI8+bN4/jx42RnZ/Ptt9/y119/ScmsjY0NP//8M+fOnSM/P196wEBLS4suXbqwdOlSvLy8pB8XzZo1w9PTk6VLl0rJ/KPy8/PDwcGB0NBQTp06xYEDB3j//ffrtO8LL7xAYGAgY8aM4ccff+TUqVMMGzaM1q1bV+ty9Dj8/Pzw9PQkKCiInTt3SqOtzJgxQ+FHk1wuJzc3l5ycHLKyskhMTKRbt27o6+sTGxsLVP7wa9myJStWrODChQvs2bNHoSvJvUaPHk1sbCzl5eUMGDBAKl+5ciUtW7bk9ddfp127dtLL1dWVfv36SePct2nThm7duhEeHk5ZWZlCTPr06YOdnR0jRozg559/5uDBg1LcG3J8eUEQBEEQnm31TtR37NiBubk5NjY2vPTSS+zdu5clS5awefPmOrdU16Rz587cvn2bcePG0bZtW7y9vTl8+DCbNm3C29sbqGxlHjduHIMGDcLY2JgFCxbUejx3d3e+/vpr1q5dS7t27Zg5cyazZ89WeJD0YfT09Pjuu+/IzMzEzc2N999/n5kzZwJI/dZbtWrFwYMHKS8vx9/fn3bt2hEREYG+vj4qKiro6emxf/9+AgICePHFF5kxYwYff/yx1L95zJgxODg44OHhgbGxMQcPHpTO7+vry61bt6T+6VW8vb25devWQ7u9PIyKigobN26kuLiYzp07M3r0aD788MM675+UlETHjh3p168fnp6eyOVy0tLSGvT2lUwmIy0tjZ49ezJq1ChefPFFBg8ezOXLlzE1NZW2KywsxNzcnNatW+Pp6cny5csZMWIEJ0+elJ5vUFFRYe3atZw4cYJ27drxzjvvEBcXV+N5hwwZgpqaGiEhIQrPKCQmJjJgwABUVKr/03n11VfZunWr1FI+dOhQTp06xcCBA9HS0pK2U1VVZdOmTdy+fZtOnToxevRoabSie88lCIIgCELTJpPX1tlYqNHq1aul8dzvTb6E58vVq1exsbHh2LFjuLu7K/18Bw8epHv37ly4cAE7O7s67VNYWIi+vj75+fnVHrYVHk9paSlpaWkEBAQ0qX6TT4KIrXKIuCqPiK3yNNXYVn1/FxQUoKen98Btn68neZTgq6++wtbWltatW3Pq1ClpjHSRpD+fSktLycnJYerUqXTt2lVpSfrGjRvR1dXlhRde4MKFC0RERODl5VXnJF0QBEEQhOefSNQfIjc3l5kzZ5Kbm4u5uTmvv/56vbqHCM+WgwcP4uvry4svvijNNqoMt27dYsqUKVy9ehUjIyP8/PyqzZwrCIIgCELTJhL1h5gyZYrCFPTC883Hx6fWoScbUmho6GM9fC0IgiAIwvNPJOqC8Iy7nPgXNzTLnnY1Gj37t00fvpEgCIIgNCINMo66INRVeno6MpmMmzdv1mu/sLAwgoKClFKne8XExODm5qb08wiCIAiCIDyMSNTv0b9/f/z8/Gpcd+jQIWQyGT/99NMjHdvGxgaZTKbwsrCweJzqPpLk5OQ6zej5JMnlclasWEGXLl3Q1dXFwMAADw8PEhISHjhW/pNQWlrK7NmzsbOzQ1NTk/bt27Njx46nWidBEARBEJoGkajfIzw8nD179nDlypVq6xITE3Fzc6v3KCD3Tk0/e/ZscnJypNfJkydr3Kdq0qOmYvjw4URGRhIYGMjevXvJzMwkOjqazZs3s2vXrqdatxkzZrB8+XKWLl3K2bNnGTduHAMGDKj1vRMEQRAEQWgoIlG/R79+/TAxMSE5OVmhvKioiHXr1hEUFMSQIUOwsLBAW1sbFxcX1qxZo7Ctj48PEyZMYNKkSRgZGdGnTx9pXfPmzTEzM5NexsbGQOWkPp999hmBgYHo6Ogwd+5cAJYtW4adnR3q6uo4ODiwcuVKhXPJZDKWL19Ov3790NbWxsnJiUOHDnHhwgV8fHzQ0dHB09OTixcv1jkG2dnZBAYGoquri56eHsHBwQpT3QNs2bIFDw8PNDU1MTIyYuDAgdK6VatW4eHhIV1rSEgIeXl5tZ7v66+/ZvXq1axZs4bp06fTqVMnbGxsCAwMZM+ePbVO6lRcXMzEiRMxMTFBU1OT7t27c+zYMWl9TXcONm3aVG3mz9jYWExNTWnevDnh4eHcvXtXYf3KlSuZPn06AQEB2NraMn78ePz9/RVGaNmxYwfdu3fHwMCAli1b0q9fP4WYX758GZlMxtdff02PHj3Q0tKiU6dOnD9/nmPHjuHh4YGuri4vvfQSf/31V62xEgRBEAShaREPk95DTU2N0NBQkpOTmTlzppTUrV+/npKSEkaPHs2aNWuIiopCT0+Pbdu2MXz4cGxtbenSpYt0nJSUFMaPH8/BgwfrPILIrFmzmD9/PvHx8aiqqrJx40YiIiJISEjAz8+PrVu3MnLkSCwsLBSS1zlz5rBo0SIWLVpEVFQUISEh2NraMm3aNKysrBg1ahQTJkxg+/btD62DXC4nKCgIHR0d9u3bR1lZGW+++SaDBg0iPT0dgG3btjFw4EDef/99Vq5cSUlJCdu2bZOOUVJSwpw5c3BwcCAvL4933nmHsLAw0tLSajzn6tWrcXBwIDAwsNo6mUyGvr5+jftNmTKFDRs2kJKSgrW1NQsWLMDf358LFy7QokWLh14rVP5ImDVrFp9++ik9evRg5cqVLFmyBFtbW2mb4uLiarOFamlp8eOPP0rLd+7cYdKkSbi4uHDnzh1mzpzJgAEDyMzMVJjBdNasWSQkJEjvy5AhQ9DT02Px4sVoa2sTHBzMzJkzWbZsWY31LS4upri4WFouLCwEoFxWTrlMPEz6MPW5U1W1bVO7u/UkiNgqh4ir8ojYKk9TjW19rlfMTHqfX3/9FScnJ4XWXG9vb1q3bk1qamq17V955RWcnJxYuHAhUNmiXlBQUK1rhI2NDTk5OQozb82bN4+JEycik8mIjIwkPj5eWufl5UXbtm1ZsWKFVBYcHMydO3ekxFgmkzFjxgzmzJkDwOHDh/H09OTLL79k1KhRAKxdu5aRI0fy77//ApUtzZGRkTU+zLl7925efvllLl26hKWlJQBnz56lbdu2HD16lE6dOtGtWzdsbW1ZtWpVneJ57NgxOnfuzK1bt9DV1SU9PR1fX19u3LiBgYEBzs7OvPDCC2zevPmBxwkLC+PmzZts2rSJO3fuYGhoSHJyMiEhIUDlh97GxobIyEgmT55c43Vu2rSJAQMGSD+eunXrRvv27RUS465du3L37l0yMzMBCAkJ4dSpU2zatAk7Ozt++OEHAgMDKS8vV0ia7/XXX39hYmLC6dOnadeuHZcvX6ZNmzZ88cUXhIeHA5Xvy5AhQ/jhhx/o1asXUNm6n5yczK+//lrjcWNiYvjggw+qlaempqKtrf3A+AmCIAiC0DgUFRUREhIiZiZ9FI6OjnTr1o3ExER8fX25ePEiBw4cYNeuXZSXlxMbG8u6deu4du2a1MKpo6OjcAwPD48ajz158mTCwsKkZSMjo1r3ycrKYuzYsQplXl5eLF68WKHM1dVV+rupaeXwcy4uLgpld+/epbCw8KEfhqysLCwtLaUkHcDZ2RkDAwOysrLo1KkTmZmZjBkzptZjnDx5kpiYGDIzM/nnn3+oqKgAKrvUODs7V9teLpdX647yMBcvXqS0tBQvLy+prFmzZnTu3JmsrKw6HycrK4tx48YplHl6erJ3715pefHixYwZMwZHR0dkMhl2dnaMHDmSpKQkhfpER0dz+PBh8vPzFa65Xbt20nZ1ea8e1E1o2rRpTJo0SVouLCzE0tISu2uu6Gsa1Pm6myrbN0zqvG1paSm7d++mT58+TWpa6ydBxFY5RFyVR8RWeZpqbKvuiNeFSNRrEB4ezoQJE/j0009JSkrC2tqa3r17ExcXR3x8PAkJCbi4uKCjo0NkZKTCA6NAtcS9ipGREfb29jWuq2mf+xPYmpLaez/YVetqKqtKHh+ktqT53nItLa1a979z5w59+/alb9++rFq1CmNjY7Kzs/H3968WoyovvvhivZLrqvrAg+OjoqJSrdvRo9xaMzY2ZtOmTdy9e5e///6bVq1aMXXqVNq0aSNt079/fywtLfn8889p1aoVFRUVtGvXrto11+W9etD7pKGhgYaGRrVyVbkqqnLxT/lhHuVLoFmzZk3qy+NJErFVDhFX5RGxVZ6mFtv6XKt4mLQGwcHBqKqqkpqaSkpKCiNHjkQmk3HgwAECAwMZNmwY7du3x9bWlt9++00pdXByclLoBw2QkZGBk5OTUs4Hla3n2dnZXL16VSo7e/YsBQUF0nldXV354Ycfatz/119/JT8/n9jYWHr06IGjo+MDW4ihsmvJ+fPna+z6IpfLKSgoqFZub2+Purq6QnxKS0s5fvy4VE9jY2Nu3brFnTt3pG2qurNUcXJy4vDhwwpl9y9X0dTUpHXr1pSVlbFhwwapT/3ff/9NVlYWM2bMoHfv3jg5OXHjxo0HXrMgCIIgCEJdiGa4Gujq6jJo0CCmT59OQUGB1F3F3t6eDRs2kJGRgaGhIYsWLSI3N1cpyfPkyZMJDg7G3d2d3r1789133/Htt9/y/fffP/axy8vLqyWt6urq+Pn54erqytChQ0lISJAeJvX29pa65syaNYvevXtjZ2fH4MGDKSsrY/v27UyZMgUrKyvU1dVZunQp48aN45dffpH6z9cmODiYjRs3MmTIEKKjo+nTpw/GxsacPn2a+Ph43n777WoTHeno6DB+/HgmT55MixYtsLKyYsGCBRQVFUl9wLt06YK2tjbTp0/n7bff5ujRo9VG84mIiGDEiBF4eHjQvXt3Vq9ezZkzZxQeJj1y5AjXrl3Dzc2Na9euERMTQ0VFBVOmTAHA0NCQli1bsmLFCszNzcnOzmbq1KmP8K4IgiAIgiAoEi3qtQgPD+fGjRv4+flhZWUFQHR0NO7u7vj7++Pj44OZmZnSZssMCgpi8eLFxMXF0bZtW5YvX05SUhI+Pj6Pfezbt2/ToUMHhVdAQAAymYxNmzZhaGhIz5498fPzw9bWlnXr1kn7+vj4sH79erZs2YKbmxu9evXiyJEjQGUrdnJyMuvXr8fZ2ZnY2FjpIdvayGQyUlNTWbRoERs3bsTb2xtXV1diYmIIDAzE39+/xv1iY2N59dVXGT58OO7u7ly4cIGdO3diaGgIQIsWLVi1ahVpaWnSMJoxMTEKxxg0aBAzZ84kKiqKjh07cuXKFcaPH6+wzd27d5kxYwbOzs4MGDCA1q1b8+OPP0pDP6qoqLB27VpOnDhBu3bteOedd4iLi6vP2yEIgiAIglAjMeqLIDyjCgsL0dfXJz8/n5YtWz7t6jxXSktLSUtLIyAgoEn1m3wSRGyVQ8RVeURslaepxrbq+7suo76IFnVBEARBEARBaIREoi4IgiAIgiAIjZBI1AVBEARBEAShERKjvgjCMy5v+SVKNf552tV4rpTJysEOri+9iJpcFbN3X3jaVRIEQRCaINGiLjwx6enpyGQybt68Wa/9wsLClDa6zr1iYmJwc3NT+nkEQRAEQRDqQiTq/9W/f3/8/PxqXHfo0CFkMhk//fTTIx3bxsYGmUym8LKwsHic6j6S5ORkaVjBxkIul7NixQq6dOmCrq4uBgYGeHh4kJCQQFFR0VOt27fffouHhwcGBgbo6Ojg5ubGypUrn2qdBEEQBEFoOkSi/l/h4eHs2bOHK1euVFuXmJiIm5sb7u7u9TrmvVPIz549m5ycHOl18uTJGvd5lGnun2XDhw8nMjKSwMBA9u7dS2ZmJtHR0WzevJldu3Y91bq1aNGC999/n0OHDvHzzz8zcuRIRo4cyc6dO59qvQRBEARBaBpEov5f/fr1w8TEpNrslUVFRaxbt46goCCGDBmChYUF2tra0iQ69/Lx8WHChAlMmjQJIyMj+vTpI61r3rw5ZmZm0svY2BionPDns88+IzAwEB0dHebOnQvAsmXLsLOzQ11dHQcHh2otuTKZjOXLl9OvXz+0tbVxcnLi0KFDXLhwAR8fH3R0dPD09OTixYt1jkF2djaBgYHo6uqip6dHcHAw169fV9hmy5YteHh4oKmpiZGREQMHDpTWrVq1Cg8PD+laQ0JCyMvLq/V8X3/9NatXr2bNmjVMnz6dTp06YWNjQ2BgIHv27MHX17fG/YqLi5k4cSImJiZoamrSvXt3jh07Jq2v6c7Bpk2bkMlkCmWxsbGYmprSvHlzwsPDuXv3rsJ6Hx8fBgwYgJOTE3Z2dkRERODq6sqPP/6osM2ECROYMGECBgYGtGzZkhkzZnDv9AQ2NjbMnTuX0NBQdHV1sba2ZvPmzfz1119SvF1cXDh+/HitsRIEQRAEoekRD5P+l5qaGqGhoSQnJzNz5kwpqVu/fj0lJSWMHj2aNWvWEBUVhZ6eHtu2bWP48OHY2trSpUsX6TgpKSmMHz+egwcPUte5pGbNmsX8+fOJj49HVVWVjRs3EhERQUJCAn5+fmzdupWRI0diYWGhkLzOmTOHRYsWsWjRIqKioggJCcHW1pZp06ZhZWXFqFGjmDBhAtu3b39oHeRyOUFBQejo6LBv3z7Kysp48803GTRoEOnp6QBs27aNgQMH8v7777Ny5UpKSkrYtm2bdIySkhLmzJmDg4MDeXl5vPPOO4SFhZGWllbjOVevXo2DgwOBgYHV1slkMvT19Wvcb8qUKWzYsIGUlBSsra1ZsGAB/v7+XLhwgRYtWjz0WqHyR8KsWbP49NNP6dGjBytXrmTJkiXY2trWGp89e/Zw7tw5PvroI4V1KSkphIeHc+TIEY4fP87YsWOxtrZmzJgx0jbx8fHMmzeP6Oho4uPjGT58OF5eXowaNYq4uDiioqIIDQ3lzJkz1X5QVCkuLqa4uFhaLiwsBKBcVl758KPQYMr/G8+qP5vanS5lqoqliGnDEnFVHhFb5Wmqsa3P9YqZSe/x66+/4uTkpNCa6+3tTevWrUlNTa22/SuvvIKTkxMLFy4EKltXCwoKqnVrsbGxIScnR2HWrXnz5jFx4kRkMhmRkZHEx8dL67y8vGjbti0rVqyQyoKDg7lz546UGMtkMmbMmMGcOXMAOHz4MJ6ennz55ZeMGjUKgLVr1zJy5Ej+/fdfoLKlOTIyssaHOXfv3s3LL7/MpUuXsLS0BODs2bO0bduWo0eP0qlTJ7p164atrS2rVq2qUzyPHTtG586duXXrFrq6uqSnp+Pr68uNGzcwMDDA2dmZF154gc2bNz/wOGFhYdy8eZNNmzZx584dDA0NSU5OJiQkBKj8wNvY2BAZGcnkyZNrvM5NmzYxYMAA6cdTt27daN++PcuWLZO26dq1K3fv3iUzM1MqKygooHXr1hQXF6Oqqsp//vMfKb5Q+Z7n5eUpJNhTp05ly5YtnD17Fqh8/6t+DADk5uZibm5OdHQ0s2fPBv73/uXk5GBmZlZjHGJiYvjggw+qlaempqKtrf3AGAqCIAiC0DgUFRUREhJSp5lJRYv6PRwdHenWrRuJiYn4+vpy8eJFDhw4wK5duygvLyc2NpZ169Zx7do1qXVTR0dH4RgeHh41Hnvy5MmEhYVJy0ZGRrXuk5WVxdixYxXKvLy8WLx4sUKZq6ur9HdTU1MAXFxcFMru3r1LYWHhQz8IWVlZWFpaSkk6gLOzMwYGBmRlZdGpUycyMzMVWonvd/LkSWJiYsjMzOSff/6hoqICqOxS4+zsXG17uVxea+txbS5evEhpaSleXl5SWbNmzejcuTNZWVl1Pk5WVhbjxo1TKPP09GTv3r0KZc2bNyczM5Pbt2/zww8/MGnSJGxtbfHx8ZG26dq1q8J1eHp68vHHH1NeXo6qqipQt/cKIC8vr9ZEfdq0aUyaNElaLiwsxNLSEpfLthho1Hz3QXg05bJyMm0v4Pa7PapyVUzftnvaVXpulJaWsnv3bvr06dOkpgxXNhFX5RGxVZ6mGtuqO+J1IRL1+4SHhzNhwgQ+/fRTkpKSsLa2pnfv3sTFxREfH09CQgIuLi7o6OgQGRmp8MAoUC1xr2JkZIS9vX2N62ra5/4Etqak9t4PddW6msqqEuYHqS1pvrdcS0ur1v3v3LlD37596du3L6tWrcLY2Jjs7Gz8/f2rxajKiy++WK/kuqo+8OD4qKioVOt29Ki31VRUVKT3zc3NjaysLObPn6+QqNdFQ7xXGhoaaGhoVCtXlauiJletV32EuqmKbVP6AnlSmjVrJuKqBCKuyiNiqzxNLbb1uVbxMOl9goODUVVVJTU1lZSUFEaOHIlMJuPAgQMEBgYybNgw2rdvj62tLb/99ptS6uDk5KTwwCJARkYGTk5OSjkfVLaeZ2dnc/XqVans7NmzFBQUSOd1dXXlhx9+qHH/X3/9lfz8fGJjY+nRoweOjo4PfJAUICQkhPPnz9fY9UUul1NQUFCt3N7eHnV1dYX4lJaWcvz4camexsbG3Lp1izt37kjb3NudBSpjfPjwYYWy+5drIpfLFfqJ17Tf4cOHeeGFF6TWdEEQBEEQhEchWtTvo6ury6BBg5g+fToFBQVSdxV7e3s2bNhARkYGhoaGLFq0iNzcXKUkz5MnTyY4OBh3d3d69+7Nd999x7fffsv333//2McuLy+vlrSqq6vj5+eHq6srQ4cOJSEhQXqY1NvbW+qaM2vWLHr37o2dnR2DBw+mrKyM7du3M2XKFKysrFBXV2fp0qWMGzeOX375Reo/X5vg4GA2btzIkCFDiI6Opk+fPhgbG3P69Gni4+N5++23q010pKOjw/jx45k8eTItWrTAysqKBQsWUFRURHh4OABdunRBW1ub6dOn8/bbb3P06NFqo/lEREQwYsQIPDw86N69O6tXr+bMmTMKD5POnz8fDw8P7OzsKCkpIS0tja+++kqhXzvA1atXmTRpEm+88QY//fQTS5cu5eOPP67HuyIIgiAIglCdaFGvQXh4ODdu3MDPzw8rKysAoqOjcXd3x9/fHx8fH8zMzJQ2W2ZQUBCLFy8mLi6Otm3bsnz5cpKSkurd3aImt2/fpkOHDgqvgIAAZDIZmzZtwtDQkJ49e+Ln54etrS3r1q2T9vXx8WH9+vVs2bIFNzc3evXqxZEjR4DKVuzk5GTWr1+Ps7MzsbGx0kO2tZHJZKSmprJo0SI2btyIt7c3rq6uxMTEEBgYiL+/f437xcbG8uqrrzJ8+HDc3d25cOECO3fuxNDQEKgc/3zVqlWkpaVJw2jGxMQoHGPQoEHMnDmTqKgoOnbsyJUrVxg/frzCNnfu3OHNN9+kbdu2dOvWjW+++YZVq1YxevRohe1CQ0P5999/6dy5M2+99RZvv/12tWcMBEEQBEEQ6kuM+iIIj8HHxwc3NzcSEhKe+LkLCwvR19fn7IfHMBQPkzaoMlk5J+zO0fGiA2pyVczefeFpV+m5UVpaSlpaGgEBAU2qT6qyibgqj4it8jTV2FZ9f4tRXwShCTB5ow0tW7Z82tV4rpSWlkLaOUzftmtSXx6CIAhC4yK6vgiCIAiCIAhCIyRa1AXhMVTN2ioIgiAIgtDQRKIuCM+4v778iTKN5k+7Gs+VMlkFWEPesmOoycWNx0dlGtH1aVdBEAThmSa+gQQF6enpyGQybt68+bSrIvHx8SEyMvKB29jY2Cg80Fk1io0gCIIgCMKz6plK1Pv374+fn1+N6w4dOoRMJuOnn356pGPb2Nggk8kUXhYWFo9T3UeSnJyMgYHBEz9vbR6UuN+fHCvLt99++9Ax2e+Xk5PDyy+/DMDly5eRyWTVxo+vi6+//ho3Nze0tbWxtrYmLi6u3scQBEEQBEF4FM9U15fw8HAGDhzIlStXsLa2VliXmJiIm5sb7u7u9TpmSUkJ6urqAMyePZsxY8ZI62qbWbK0tFSMBPEEtWjRot77mJmZPfZ5t2/fztChQ1m6dCl9+/YlKyuL0aNHo6WlxYQJEx77+IIgCIIgCA/yTLWo9+vXDxMTk2qzTBYVFbFu3TqCgoIYMmQIFhYWaGtrS5Pd3MvHx4cJEyYwadIkjIyM6NOnj7SuefPmmJmZSS9jY2OgshvFZ599RmBgIDo6OsydOxeAZcuWYWdnh7q6Og4ODqxcuVLhXDKZjOXLl9OvXz+0tbVxcnLi0KFDXLhwAR8fH3R0dPD09OTixYt1jkF2djaBgYHo6uqip6dHcHAw169fV9hmy5YteHh4oKmpiZGREQMHDpTWrVq1Cg8PD+laQ0JCyMvLq/P5a1NTq/XNmzeRyWTSA5dVrfM7d+6kQ4cOaGlp0atXL/Ly8ti+fTtOTk7o6ekxZMgQioqKpOPc3/UlLy+P/v37o6WlRZs2bVi9enW1+tzb9aVNmzYAdOjQAZlMho+PD/v376dZs2bk5uYq7Pfuu+/Ss2dPAFauXElQUBDjxo3D1taWV155haioKD766COqph+4ePEigYGBmJqaoqurS6dOnarNIGtjY8PcuXMJDQ1FV1cXa2trNm/ezF9//SW9ly4uLhw/fvyRYi8IgiAIwvPpmWpRV1NTIzQ0lOTkZGbOnIlMJgNg/fr1lJSUMHr0aNasWUNUVBR6enps27aN4cOHY2trS5cuXaTjpKSkMH78eA4ePEhd53uaNWsW8+fPJz4+HlVVVTZu3EhERAQJCQn4+fmxdetWRo4ciYWFBb6+vtJ+c+bMYdGiRSxatIioqChCQkKwtbVl2rRpWFlZMWrUKCZMmMD27dsfWge5XE5QUBA6Ojrs27ePsrIy3nzzTQYNGiQlw9u2bWPgwIG8//77rFy5kpKSErZt2yYdo6SkhDlz5uDg4EBeXh7vvPMOYWFhpKWl1SkODSEmJoZPPvkEbW1tgoODCQ4ORkNDg9TUVG7fvs2AAQNYunQpUVFRNe4fFhbG1atX2bNnD+rq6kycOPGBPzaOHj1K586d+f7772nbti3q6uq0aNECW1tbVq5cyeTJkwEoKytj1apVxMbGAlBcXIy2trbCsbS0tPjjjz+4cuUKNjY23L59m4CAAObOnYumpiYpKSn079+fc+fOSbPaAsTHxzNv3jyio6OJj49n+PDheHl5MWrUKOLi4oiKiiI0NJQzZ85In+v7FRcXU1xcLC0XFhYCUE5F5cOPQoMp/288y0VcH0tpaWmtZTWtEx6diKvyiNgqT1ONbX2u95lK1AEpsUlPT5cS4sTERAYOHEjr1q157733pG3ffvttduzYwfr16xUSdXt7exYsWFDt2FFRUcyYMUNanjdvHhMnTgQgJCSEUaNGSetCQkIICwvjzTffBGDSpEkcPnyYhQsXKiTqI0eOJDg4WDq+p6cn0dHR+Pv7AxAREcHIkSPrdO3ff/89P//8M5cuXcLS0hKobPVt27Ytx44do1OnTnz44YcMHjyYDz74QNqvffv2CvGrYmtry5IlS+jcuTO3b99GV1e31nPX1F//3lbv+pg7dy5eXl5AZXemadOmcfHiRWxtbQF47bXX2Lt3b42J+vnz59m+fTuHDx+W3tMvv/wSJyenWs9XdWekZcuWCl1iwsPDSUpKkhL1bdu2UVRUJL1f/v7+0g8ZX19fLly4IPXJz8nJwcbGhvbt2yvEd+7cuWzcuJEtW7YodI8JCAjgjTfeAGDmzJksW7aMTp068frrrwP/+2xcv3691m478+fPV3hfq/xs+Q/a2ndrvX7h0Z20+vtpV+HZ9oAGgN27dz/BijQdIq7KI2KrPE0ttvXJn565RN3R0ZFu3bqRmJiIr68vFy9e5MCBA+zatYvy8nJiY2NZt24d165dk1ogdXR0FI7h4eFR47EnT55MWFiYtGxkZFTrPllZWYwdO1ahzMvLi8WLFyuUubq6Sn83NTUFwMXFRaHs7t27FBYWPnQa2aysLCwtLaUkHcDZ2RkDAwOysrLo1KkTmZmZCv3s73fy5EliYmLIzMzkn3/+oaKissUwOzsbZ2fnWvc7cOAAzZsrDgHo4+PzwPrW5v6YaGtrS0l6VdnRo0dr3DcrKws1NTWF98PR0fGRHsANCwtjxowZHD58mK5du5KYmEhwcLD0eRkzZgwXL16kX79+lJaWoqenR0REBDExMdLzC3fu3OGDDz5g69at/Pnnn5SVlfHvv/+SnZ39wGuG6p8DqOzWU1uiPm3aNCZNmiQtFxYWYmlpievVFhhoiuEZG1K5rIKTVn/TIbslqmJ4xkdmMr5TtbLS0lJ2795Nnz59xLM+DUjEVXlEbJWnqca26o54XTxziTpUtoROmDCBTz/9lKSkJKytrenduzdxcXHEx8eTkJCAi4sLOjo6REZGUlJSorD//Yl7FSMjI+zt7WtcV9M+93dRkMvl1cru/eBVrauprCphfpCajn9/uZaWVq3737lzh759+9K3b19WrVqFsbEx2dnZ+Pv7V4vR/dq0aVMtGVZT+9/HR0VFRapLldpu7dx//ff/45TJZLXGo+r4tXUPqQ8TExP69+9PUlIStra2pKWlKUxgJJPJ+Oijj5g3bx65ubkYGxvzww8/AJX9zqHyx93OnTtZuHAh9vb2aGlp8dprr1WLZ0N8DjQ0NNDQ0KhWroqKGOtbSVTlIraP40FfvM2aNWtSX8xPioir8ojYKk9Ti219rvWZ/AYKDg5GVVWV1NRUUlJSGDlyJDKZjAMHDhAYGMiwYcNo3749tra2/Pbbb0qpg5OTEz/++KNCWUZGxgO7YDwuZ2dnsrOzuXr1qlR29uxZCgoKpPO6urpKyeT9fv31V/Lz84mNjaVHjx44Ojo2yIOk8L/uJTk5OVLZowyH+DBOTk6UlZUpPHh57ty5B477XjWqT3l5ebV1o0ePZu3atSxfvhw7OzupS869VFVVad26Nerq6qxZswZPT09MTEyAyjsNYWFhDBgwABcXF8zMzLh8+fLjXaQgCIIgCALPaIu6rq4ugwYNYvr06RQUFEjdVezt7dmwYQMZGRkYGhqyaNEicnNzlZI8T548meDgYNzd3enduzffffcd3377bbURPx5FeXl5tSRXXV0dPz8/XF1dGTp0KAkJCdLDpN7e3lJXkFmzZtG7d2/s7OwYPHgwZWVlbN++nSlTpmBlZYW6ujpLly5l3Lhx/PLLL/Uen7w2WlpadO3aldjYWGxsbMjPz1fo799QHBwceOmllxgzZgwrVqxATU2NyMjIB95JMDExQUtLix07dmBhYYGmpib6+vpAZT90fX195s6dy+zZsxX2y8/P55tvvsHHx4e7d++SlJTE+vXr2bdvn7SNvb093377Lf3790cmkxEdHV2nuyOCIAiCIAgP80y2qENl95cbN27g5+cnja4RHR2Nu7s7/v7++Pj4YGZmRlBQkFLOHxQUxOLFi4mLi6Nt27YsX76cpKSkR+63fa/bt2/ToUMHhVdAQIA05KChoSE9e/bEz88PW1tb1q1bJ+3r4+PD+vXr2bJlC25ubvTq1YsjR44Ala3eycnJrF+/HmdnZ2JjY1m4cOFj17dKYmIipaWleHh4EBERIQ1j2dCSkpKwtLTE29ubgQMHMnbsWKmFuyZqamosWbKE5cuX06pVKwIDA6V1KioqhIWFUV5eTmhoaLV9U1JS8PDwwMvLizNnzpCenk7nzp2l9fHx8RgaGtKtWzf69++Pv79/vcfyFwRBEARBqIlMXtfxCQXhOTVmzBiuX7/Oli1bnnZV6qWwsBB9fX2yPtqFoYZ4mLQhlckqOG79Fx5XjEUf9cdgGtG1WllpaSlpaWkEBAQ0qT6pyibiqjwitsrTVGNb9f1dUFDw0IFEnsmuL4LQEAoKCjh27BirV69m8+bNT7s6j8w43J2WLVs+7Wo8V0pLSyEtDZPxnZrUl4cgCILQuIhEXWiyAgMDOXr0KG+88YbCDLWCIAiCIAiNgUjUhSbr3qEYBUEQBEEQGhuRqAvCMy4/aS/lmjXPDSA8mjKZHCzgrxW7UZM//pj9wv+I2CqHiKvyiNgqT11iazLh5Sdcq8ZFPCUlKEhPT0cmkz1wXPInzcfHh8jIyAduY2NjQ0JCgrRcNUKOIAiCIAjCs+qZStT79++Pn59fjesOHTqETCbjp59+eqRj29jYIJPJFF4WFhaPU91HkpycXG0G0KfpQYn7/cmxsnz77bf1Hu89JyeHl1+u/BV++fJlZDJZvSdgOnfuHL6+vpiamqKpqYmtrS0zZsyodcZVQRAEQRCEhvRMdX0JDw9n4MCBXLlyBWtra4V1iYmJuLm51XsM65KSEmnmytmzZzNmzBhpnaqqao37lJaWipEgnqAWLVrUex8zM7PHPm+zZs0IDQ3F3d0dAwMDTp06xZgxY6ioqGDevHmPfXxBEARBEIQHeaZa1Pv164eJiQnJyckK5UVFRaxbt46goCCGDBmChYUF2trauLi4sGbNGoVtfXx8mDBhApMmTcLIyEhhtI/mzZtjZmYmvYyNjYHKbhSfffYZgYGB6OjoSBP5LFu2DDs7O9TV1XFwcGDlypUK55LJZCxfvpx+/fqhra2Nk5MThw4d4sKFC/j4+KCjo4OnpycXL16scwyys7MJDAxEV1cXPT09goODuX79usI2W7ZswcPDA01NTYyMjBg4cKC0btWqVXh4eEjXGhISQl5eXp3PX5uaWq1v3ryJTCaTHtqsap3fuXMnHTp0QEtLi169epGXl8f27dtxcnJCT0+PIUOGUFRUJB3n/q4veXl59O/fHy0tLdq0acPq1aur1eferi9t2rQBoEOHDshkMnx8fNi/fz/NmjUjNzdXYb93332Xnj17AmBra8vIkSNp37491tbW/N///R9Dhw7lwIED0vYxMTG4ubmxfPlyLC0t0dbW5vXXX1e4AxEWFkZQUBDz5s3D1NQUAwMDPvjgA8rKypg8eTItWrTAwsKCxMTERwm9IAiCIAjPqWeqRV1NTY3Q0FCSk5OZOXMmMlnlgwfr16+npKSE0aNHs2bNGqKiotDT02Pbtm0MHz4cW1tbunTpIh0nJSWF8ePHc/DgQeo639OsWbOYP38+8fHxqKqqsnHjRiIiIkhISMDPz4+tW7cycuRILCws8PX1lfabM2cOixYtYtGiRURFRRESEoKtrS3Tpk3DysqKUaNGMWHCBLZv3/7QOsjlcoKCgtDR0WHfvn2UlZXx5ptvMmjQICkZ3rZtGwMHDuT9999n5cqVlJSUsG3bNukYJSUlzJkzBwcHB/Ly8njnnXcICwsjLS2tTnFoCDExMXzyySdoa2sTHBxMcHAwGhoapKamcvv2bQYMGMDSpUuJioqqcf+wsDCuXr3Knj17UFdXZ+LEiQ/8sXH06FE6d+7M999/T9u2bVFXV6dFixbY2tqycuVKJk+eDEBZWRmrVq0iNja2xuNcuHCBHTt2KPzwqSr/+uuv+e677ygsLCQ8PJy33npL4QfEnj17sLCwYP/+/Rw8eJDw8HAOHTpEz549OXLkCOvWrWPcuHH06dMHS0vLGs9fXFxMcXGxtFxYWAhAuUxe+UCO0GDK/xvPchHXBidiqxwirsojYqs8dYnt89jdtD7X9Ewl6gCjRo0iLi6O9PR0KSFOTExk4MCBtG7dmvfee0/a9u2332bHjh2sX79eIVG3t7dnwYIF1Y4dFRXFjBkzpOV58+YxceJEAEJCQhg1apS0LiQkhLCwMN58800AJk2axOHDh1m4cKFCoj5y5EiCg4Ol43t6ehIdHY2/vz8AERERjBw5sk7X/v333/Pzzz9z6dIlKZlbuXIlbdu25dixY3Tq1IkPP/yQwYMH88EHH0j7tW/fXiF+VWxtbVmyZAmdO3fm9u3b6Orq1nrumvrr39vqXR9z587Fy8sLqOzONG3aNC5evIitrS0Ar732Gnv37q0xUT9//jzbt2/n8OHD0nv65Zdf4uTkVOv5qu6MtGzZUqFLTHh4OElJSVKivm3bNoqKiqT3q0q3bt346aefKC4uZuzYscyePVth/d27d0lJSZFitHTpUl555RU+/vhj6XwtWrRgyZIlqKio4ODgwIIFCygqKmL69OkATJs2jdjYWA4ePMjgwYNrvI758+crvK9VTrUqQ1v7+fuPrDH4qXXZ067Cc0vEVjlEXJVHxFZ5HhjbJ9iQ+KTUJ3965hJ1R0dHunXrRmJiIr6+vly8eJEDBw6wa9cuysvLiY2NZd26dVy7dk1qgdTRURy6zsPDo8ZjT548mbCwMGnZyMio1n2ysrIYO3asQpmXlxeLFy9WKHN1dZX+bmpqCoCLi4tC2d27dyksLHzoNLJZWVlYWloqtLg6OztjYGBAVlYWnTp1IjMzU6Gf/f1OnjxJTEwMmZmZ/PPPP1RUVACVXWqcnZ1r3e/AgQM0b644Tb2Pj88D61ub+2Oira0tJelVZUePHq1x36ysLNTU1BTeD0dHx0d6ADcsLIwZM2Zw+PBhunbtSmJiIsHBwdU+L+vWrePWrVucOnWKyZMns3DhQqZMmSKtt7KyUvgh4+npSUVFBefOnZMS9bZt26Ki8r+eZqamprRr105aVlVVpWXLlg+8MzBt2jQmTZokLRcWFmJpaUn7P9Uw0BTPTDSkcpmcn1qX4X5NDVUxHFuDErFVDhFX5RGxVZ66xNZ47PM3IWHVHfG6eOYSdahsCZ0wYQKffvopSUlJWFtb07t3b+Li4oiPjychIQEXFxd0dHSIjIykpKREYf/7E7EqRkZG2Nvb17iupn2qut5Ukcvl1crufei0al1NZVUJ84PUdPz7y7W0tGrd/86dO/Tt25e+ffuyatUqjI2Nyc7Oxt/fv1qM7temTZtqybCa2v8+PlVJ6L1diWq7tXP/9d//YK5MJqs1HlXHrykO9WViYkL//v1JSkrC1taWtLS0GidBqvph5OzsTHl5OWPHjuXdd9+t9WHjqrrdW8earrE+1w2goaGBhoZGtXJVuUyM7askIrbKI2KrHCKuyiNiqzwPiu3zOHhHfa7pmXqYtEpwcDCqqqqkpqaSkpLCyJEjkclkHDhwgMDAQIYNG0b79u2xtbXlt99+U0odnJyc+PHHHxXKMjIyHtgF43E5OzuTnZ3N1atXpbKzZ89SUFAgndfV1ZUffvihxv1//fVX8vPziY2NpUePHjg6OjbIg6Twv+4lOTk5Ull9h0OsCycnJ8rKyjh+/LhUdu7cuQeO+141qk95eXm1daNHj2bt2rUsX74cOzs7qUtObeRyOaWlpQo/SLKzs/nzzz+l5UOHDqGiosKLL75Y18sSBEEQBEGo5plsUdfV1WXQoEFMnz6dgoICqbuKvb09GzZsICMjA0NDQxYtWkRubq5SkufJkycTHByMu7s7vXv35rvvvuPbb7/l+++/f+xjl5eXV0ty1dXV8fPzw9XVlaFDh5KQkCA9TOrt7S11BZk1axa9e/fGzs6OwYMHU1ZWxvbt25kyZQpWVlaoq6uzdOlSxo0bxy+//FLv8clro6WlRdeuXYmNjcXGxob8/HyF/v4NxcHBgZdeeokxY8awYsUK1NTUiIyMfOCdBBMTE7S0tNixYwcWFhZoamqir68PgL+/P/r6+sydO7da3/PVq1fTrFkzXFxc0NDQ4MSJE0ybNo1BgwYp3E3Q1NRkxIgRLFy4kMLCQiZOnEhwcHCDDBEpCIIgCELT9Uy2qENl95cbN27g5+eHlZUVANHR0bi7u+Pv74+Pjw9mZmYEBQUp5fxBQUEsXryYuLg42rZty/Lly0lKSnrkftv3un37Nh06dFB4BQQESEMOGhoa0rNnT/z8/LC1tWXdunXSvj4+Pqxfv54tW7bg5uZGr169OHLkCFDZ6p2cnMz69etxdnYmNjaWhQsXPnZ9qyQmJlJaWoqHhwcRERHSMJYNLSkpCUtLS7y9vRk4cCBjx47FxMSk1u3V1NRYsmQJy5cvp1WrVgQGBkrrVFRUCAsLo7y8nNDQ0Gr7ffTRR3Tu3BlXV1diYmJ46623+OKLLxS2s7e3Z+DAgQQEBNC3b1/atWvHf/7zn4a9aEEQBEEQmhyZvK7jEwrCc2rMmDFcv36dLVu21HvfmJgYNm3apJRuPg9TWFiIvr4+v8atx1Cz5ucuhEdTJpNzzKKUTn80E31SG5iIrXKIuCqPiK3y1CW2JhNefsK1Ur6q7++CgoKHDiTyTHZ9EYSGUFBQwLFjx1i9ejWbN29+2tWpt6rf2BqveaD5CLO3CrUrLS2laNcuNAb3fS4fZHqaRGyVQ8RVeURslacusa3PCCnPiqprqktbuUjUhSYrMDCQo0eP8sYbbyjMUPus+Pvvv4H/zbwqCIIgCMKz49atW9Izc7URXV8E4Rl18+ZNDA0Nyc7Ofug/dKF+qsaov3r16kNvSwr1I2KrHCKuyiNiqzxNNbZyuZxbt27RqlUrhTlWaiJa1AXhGVX1j1tfX79J/Qf3JOnp6YnYKomIrXKIuCqPiK3yNMXY1rWB7Zkd9UUQBEEQBEEQnmciURcEQRAEQRCERkgk6oLwjNLQ0GDWrFloaGg87ao8d0RslUfEVjlEXJVHxFZ5RGwfTjxMKgiCIAiCIAiNkGhRFwRBEARBEIRGSCTqgiAIgiAIgtAIiURdEARBEARBEBohkagLgiAIgiAIQiMkEnVBaET+85//0KZNGzQ1NenYsSMHDhx44Pb79u2jY8eOaGpqYmtry2effVZtmw0bNuDs7IyGhgbOzs5s3LhRWdVvtBo6rp9//jk9evTA0NAQQ0ND/Pz8OHr0qDIvodFSxme2ytq1a5HJZAQFBTVwrZ8NyojtzZs3eeuttzA3N0dTUxMnJyfS0tKUdQmNkjLimpCQgIODA1paWlhaWvLOO+9w9+5dZV1Co1Wf2Obk5BASEoKDgwMqKipERkbWuF2T/w6TC4LQKKxdu1berFkz+eeffy4/e/asPCIiQq6joyO/cuVKjdv//vvvcm1tbXlERIT87Nmz8s8//1zerFkz+TfffCNtk5GRIVdVVZXPmzdPnpWVJZ83b55cTU1Nfvjw4Sd1WU+dMuIaEhIi//TTT+UnT56UZ2VlyUeOHCnX19eX//HHH0/qshoFZcS2yuXLl+WtW7eW9+jRQx4YGKjkK2l8lBHb4uJiuYeHhzwgIED+448/yi9fviw/cOCAPDMz80ld1lOnjLiuWrVKrqGhIV+9erX80qVL8p07d8rNzc3lkZGRT+qyGoX6xvbSpUvyiRMnylNSUuRubm7yiIiIatuI7zC5XCTqgtBIdO7cWT5u3DiFMkdHR/nUqVNr3H7KlClyR0dHhbI33nhD3rVrV2k5ODhY/tJLLyls4+/vLx88eHAD1brxU0Zc71dWViZv3ry5PCUl5fEr/AxRVmzLysrkXl5e8i+++EI+YsSIJpmoKyO2y5Ytk9va2spLSkoavsLPCGXE9a233pL36tVLYZtJkybJu3fv3kC1fjbUN7b38vb2rjFRF99hcrno+iIIjUBJSQknTpygb9++CuV9+/YlIyOjxn0OHTpUbXt/f3+OHz9OaWnpA7ep7ZjPG2XF9X5FRUWUlpbSokWLhqn4M0CZsZ09ezbGxsaEh4c3fMWfAcqK7ZYtW/D09OStt97C1NSUdu3aMW/ePMrLy5VzIY2MsuLavXt3Tpw4IXV/+/3330lLS+OVV15RwlU0To8S27po6t9hAGpPuwKCIEB+fj7l5eWYmpoqlJuampKbm1vjPrm5uTVuX1ZWRn5+Pubm5rVuU9sxnzfKiuv9pk6dSuvWrfHz82u4yjdyyortwYMH+fLLL8nMzFRW1Rs9ZcX2999/Z8+ePQwdOpS0tDR+++033nrrLcrKypg5c6bSrqexUFZcBw8ezF9//UX37t2Ry+WUlZUxfvx4pk6dqrRraWweJbZ10dS/w0Ak6oLQqMhkMoVluVxerexh299fXt9jPo+UEdcqCxYsYM2aNaSnp6OpqdkAtX22NGRsb926xbBhw/j8888xMjJq+Mo+Yxr6c1tRUYGJiQkrVqxAVVWVjh078ueffxIXF9ckEvUqDR3X9PR0PvzwQ/7zn//QpUsXLly4QEREBObm5kRHRzdw7Rs3ZXzfNPXvMJGoC0IjYGRkhKqqarVWgry8vGqtCVXMzMxq3F5NTY2WLVs+cJvajvm8UVZcqyxcuJB58+bx/fff4+rq2rCVb+SUEdszZ85w+fJl+vfvL62vqKgAQE1NjXPnzmFnZ9fAV9L4KOtza25uTrNmzVBVVZW2cXJyIjc3l5KSEtTV1Rv4ShoXZcU1Ojqa4cOHM3r0aABcXFy4c+cOY8eO5f3330dF5fnvZfwosa2Lpv4dBmJ4RkFoFNTV1enYsSO7d+9WKN+9ezfdunWrcR9PT89q2+/atQsPDw+aNWv2wG1qO+bzRllxBYiLi2POnDns2LEDDw+Phq98I6eM2Do6OnL69GkyMzOl1//93//h6+tLZmYmlpaWSruexkRZn1svLy8uXLgg/fgBOH/+PObm5s99kg7Ki2tRUVG1ZFxVVRV55YAdDXgFjdejxLYumvp3GCCGZxSExqJqaKsvv/xSfvbsWXlkZKRcR0dHfvnyZblcLpdPnTpVPnz4cGn7qmHD3nnnHfnZs2flX375ZbVhww4ePChXVVWVx8bGyrOysuSxsbFNbmgrZcT1o48+kqurq8u/+eYbeU5OjvS6devWE7++p0kZsb1fUx31RRmxzc7Oluvq6sonTJggP3funHzr1q1yExMT+dy5c5/49T0tyojrrFmz5M2bN5evWbNG/vvvv8t37dolt7OzkwcHBz/x63ua6htbuVwuP3nypPzkyZPyjh07ykNCQuQnT56UnzlzRlovvsPE8IyC0Kh8+umncmtra7m6urrc3d1dvm/fPmndiBEj5N7e3grbp6enyzt06CBXV1eX29jYyJctW1btmOvXr5c7ODjImzVrJnd0dJRv2LBB2ZfR6DR0XK2treVAtdesWbOewNU0Lsr4zN6rqSbqcrlyYpuRkSHv0qWLXENDQ25rayv/8MMP5WVlZcq+lEaloeNaWloqj4mJkdvZ2ck1NTXllpaW8jfffFN+48aNJ3A1jUt9Y1vT/6PW1tYK2zT17zCZXN5E7ssIgiAIgiAIwjNE9FEXBEEQBEEQhEZIJOqCIAiCIAiC0AiJRF0QBEEQBEEQGiGRqAuCIAiCIAhCIyQSdUEQBEEQBEFohESiLgiCIAiCIAiNkEjUBUEQBEEQBKEREom6IAiCIAiCIDRCIlEXBEEQBEEQhEZIJOqCIAiCIAiC0AiJRF0QBEEQBEEQGiGRqAuCIAiCIAhCI/T/EPrGRmYiuZUAAAAASUVORK5CYII=",
      "text/plain": [
       "<Figure size 640x480 with 1 Axes>"
      ]
     },
     "metadata": {},
     "output_type": "display_data"
    }
   ],
   "source": [
    "sns.barplot(x=selector.estimator_.feature_importances_, \n",
    "            y=data.drop('RainTomorrow', axis=1).columns.to_list())\n",
    "plt.grid()"
   ]
  },
  {
   "cell_type": "markdown",
   "id": "35cb30f9",
   "metadata": {
    "papermill": {
     "duration": 0.0117,
     "end_time": "2023-11-20T16:03:00.186061",
     "exception": false,
     "start_time": "2023-11-20T16:03:00.174361",
     "status": "completed"
    },
    "tags": []
   },
   "source": [
    "# Chosing Algorithm"
   ]
  },
  {
   "cell_type": "code",
   "execution_count": 13,
   "id": "1da8a2db",
   "metadata": {
    "execution": {
     "iopub.execute_input": "2023-11-20T16:03:00.212257Z",
     "iopub.status.busy": "2023-11-20T16:03:00.211415Z",
     "iopub.status.idle": "2023-11-20T16:03:00.223930Z",
     "shell.execute_reply": "2023-11-20T16:03:00.222852Z"
    },
    "papermill": {
     "duration": 0.028653,
     "end_time": "2023-11-20T16:03:00.226624",
     "exception": false,
     "start_time": "2023-11-20T16:03:00.197971",
     "status": "completed"
    },
    "tags": []
   },
   "outputs": [],
   "source": [
    "algorithms = []\n",
    "algorithms.append(['log_reg', LogisticRegression(max_iter=2000)])\n",
    "algorithms.append(['sgd_classif', SGDClassifier(loss='log_loss')])\n",
    "algorithms.append(['bagg_classif_log_reg', BaggingClassifier(base_estimator=LogisticRegression(max_iter=2000))])\n",
    "algorithms.append(['random_forest_classif', RandomForestClassifier(n_estimators=200)])\n",
    "algorithms.append(['ada', AdaBoostClassifier(base_estimator=SGDClassifier(loss='log_loss'))])\n",
    "algorithms.append(['h_grad_boost', HistGradientBoostingClassifier()])\n",
    "algorithms.append(['xg', XGBClassifier(n_estimators = 1000, tree_method='hist')]),\n",
    "algorithms.append(['cat', CatBoostClassifier(n_estimators = 1000, verbose=False)])\n",
    "algorithms.append(['lgbm', LGBMClassifier(n_estimators = 1000, verbose = 0)])"
   ]
  },
  {
   "cell_type": "code",
   "execution_count": 14,
   "id": "4de373f8",
   "metadata": {
    "execution": {
     "iopub.execute_input": "2023-11-20T16:03:00.252919Z",
     "iopub.status.busy": "2023-11-20T16:03:00.252335Z",
     "iopub.status.idle": "2023-11-20T16:32:45.671203Z",
     "shell.execute_reply": "2023-11-20T16:32:45.669999Z"
    },
    "papermill": {
     "duration": 1785.435031,
     "end_time": "2023-11-20T16:32:45.673786",
     "exception": false,
     "start_time": "2023-11-20T16:03:00.238755",
     "status": "completed"
    },
    "tags": []
   },
   "outputs": [
    {
     "name": "stderr",
     "output_type": "stream",
     "text": [
      "/opt/conda/lib/python3.10/site-packages/sklearn/ensemble/_base.py:166: FutureWarning: `base_estimator` was renamed to `estimator` in version 1.2 and will be removed in 1.4.\n",
      "  warnings.warn(\n",
      "/opt/conda/lib/python3.10/site-packages/sklearn/ensemble/_base.py:166: FutureWarning: `base_estimator` was renamed to `estimator` in version 1.2 and will be removed in 1.4.\n",
      "  warnings.warn(\n",
      "/opt/conda/lib/python3.10/site-packages/sklearn/ensemble/_base.py:166: FutureWarning: `base_estimator` was renamed to `estimator` in version 1.2 and will be removed in 1.4.\n",
      "  warnings.warn(\n",
      "/opt/conda/lib/python3.10/site-packages/sklearn/ensemble/_base.py:166: FutureWarning: `base_estimator` was renamed to `estimator` in version 1.2 and will be removed in 1.4.\n",
      "  warnings.warn(\n",
      "/opt/conda/lib/python3.10/site-packages/sklearn/ensemble/_base.py:166: FutureWarning: `base_estimator` was renamed to `estimator` in version 1.2 and will be removed in 1.4.\n",
      "  warnings.warn(\n",
      "/opt/conda/lib/python3.10/site-packages/sklearn/ensemble/_base.py:166: FutureWarning: `base_estimator` was renamed to `estimator` in version 1.2 and will be removed in 1.4.\n",
      "  warnings.warn(\n",
      "/opt/conda/lib/python3.10/site-packages/sklearn/ensemble/_base.py:166: FutureWarning: `base_estimator` was renamed to `estimator` in version 1.2 and will be removed in 1.4.\n",
      "  warnings.warn(\n",
      "/opt/conda/lib/python3.10/site-packages/sklearn/ensemble/_base.py:166: FutureWarning: `base_estimator` was renamed to `estimator` in version 1.2 and will be removed in 1.4.\n",
      "  warnings.warn(\n",
      "/opt/conda/lib/python3.10/site-packages/sklearn/ensemble/_base.py:166: FutureWarning: `base_estimator` was renamed to `estimator` in version 1.2 and will be removed in 1.4.\n",
      "  warnings.warn(\n",
      "/opt/conda/lib/python3.10/site-packages/sklearn/ensemble/_base.py:166: FutureWarning: `base_estimator` was renamed to `estimator` in version 1.2 and will be removed in 1.4.\n",
      "  warnings.warn(\n"
     ]
    },
    {
     "name": "stdout",
     "output_type": "stream",
     "text": [
      "[LightGBM] [Warning] Auto-choosing col-wise multi-threading, the overhead of testing was 0.019862 seconds.\n",
      "You can set `force_col_wise=true` to remove the overhead.\n",
      "[LightGBM] [Warning] Auto-choosing col-wise multi-threading, the overhead of testing was 0.011898 seconds.\n",
      "You can set `force_col_wise=true` to remove the overhead.\n",
      "[LightGBM] [Warning] Auto-choosing col-wise multi-threading, the overhead of testing was 0.011519 seconds.\n",
      "You can set `force_col_wise=true` to remove the overhead.\n",
      "[LightGBM] [Warning] Auto-choosing col-wise multi-threading, the overhead of testing was 0.011047 seconds.\n",
      "You can set `force_col_wise=true` to remove the overhead.\n",
      "[LightGBM] [Warning] Auto-choosing col-wise multi-threading, the overhead of testing was 0.011733 seconds.\n",
      "You can set `force_col_wise=true` to remove the overhead.\n"
     ]
    },
    {
     "data": {
      "text/plain": [
       "[('log_reg', 0.8565172198421234, 0.0019944725649502153, 137.926495552063),\n",
       " ('sgd_classif', 0.8331420403864547, 0.03076461020292637, 133.36426830291748),\n",
       " ('bagg_classif_log_reg',\n",
       "  0.856554106634755,\n",
       "  0.002025860847670207,\n",
       "  220.7834074497223),\n",
       " ('random_forest_classif',\n",
       "  0.8704975038988738,\n",
       "  0.0022669254805483983,\n",
       "  413.47460675239563),\n",
       " ('ada', 0.8498001254214166, 0.0021770815606232375, 190.75805640220642),\n",
       " ('h_grad_boost',\n",
       "  0.8727708460951521,\n",
       "  0.002167113199854641,\n",
       "  135.52677965164185),\n",
       " ('xg', 0.8611933398951997, 0.0031535558567319633, 158.68352222442627),\n",
       " ('cat', 0.8781240300227515, 0.0015759438391624422, 207.15153002738953),\n",
       " ('lgbm', 0.871618497319939, 0.001801227467829248, 187.73635983467102)]"
      ]
     },
     "execution_count": 14,
     "metadata": {},
     "output_type": "execute_result"
    }
   ],
   "source": [
    "results = []\n",
    "for key, algo in algorithms:\n",
    "    start_time = time()\n",
    "    pipe = Pipeline(steps=[('imputer', SimpleImputer(strategy='median')),\n",
    "                        ('scaler', RobustScaler()),\n",
    "                        ('selector', SelectFromModel(RandomForestClassifier(), threshold=0.035)),\n",
    "                         ('algo', algo)])\n",
    "    \n",
    "    scores = cross_val_score(pipe, X_train, y_train, cv = 5, scoring='roc_auc')\n",
    "    duration = time() - start_time\n",
    "    results.append((key, np.median(scores), scores.std(), duration))\n",
    "results"
   ]
  },
  {
   "cell_type": "code",
   "execution_count": 15,
   "id": "9b0eb449",
   "metadata": {
    "execution": {
     "iopub.execute_input": "2023-11-20T16:32:45.704018Z",
     "iopub.status.busy": "2023-11-20T16:32:45.702630Z",
     "iopub.status.idle": "2023-11-20T16:32:45.709571Z",
     "shell.execute_reply": "2023-11-20T16:32:45.708560Z"
    },
    "papermill": {
     "duration": 0.024826,
     "end_time": "2023-11-20T16:32:45.712113",
     "exception": false,
     "start_time": "2023-11-20T16:32:45.687287",
     "status": "completed"
    },
    "tags": []
   },
   "outputs": [],
   "source": [
    "results_df = pd.DataFrame(results, columns=['name', 'median', 'std', 'time'])"
   ]
  },
  {
   "cell_type": "code",
   "execution_count": 16,
   "id": "75904e06",
   "metadata": {
    "execution": {
     "iopub.execute_input": "2023-11-20T16:32:45.741390Z",
     "iopub.status.busy": "2023-11-20T16:32:45.740525Z",
     "iopub.status.idle": "2023-11-20T16:32:45.767053Z",
     "shell.execute_reply": "2023-11-20T16:32:45.765918Z"
    },
    "papermill": {
     "duration": 0.044017,
     "end_time": "2023-11-20T16:32:45.769524",
     "exception": false,
     "start_time": "2023-11-20T16:32:45.725507",
     "status": "completed"
    },
    "tags": []
   },
   "outputs": [
    {
     "data": {
      "text/html": [
       "<div>\n",
       "<style scoped>\n",
       "    .dataframe tbody tr th:only-of-type {\n",
       "        vertical-align: middle;\n",
       "    }\n",
       "\n",
       "    .dataframe tbody tr th {\n",
       "        vertical-align: top;\n",
       "    }\n",
       "\n",
       "    .dataframe thead th {\n",
       "        text-align: right;\n",
       "    }\n",
       "</style>\n",
       "<table border=\"1\" class=\"dataframe\">\n",
       "  <thead>\n",
       "    <tr style=\"text-align: right;\">\n",
       "      <th></th>\n",
       "      <th>name</th>\n",
       "      <th>median</th>\n",
       "      <th>std</th>\n",
       "      <th>time</th>\n",
       "    </tr>\n",
       "  </thead>\n",
       "  <tbody>\n",
       "    <tr>\n",
       "      <th>7</th>\n",
       "      <td>cat</td>\n",
       "      <td>0.878124</td>\n",
       "      <td>0.001576</td>\n",
       "      <td>207.151530</td>\n",
       "    </tr>\n",
       "    <tr>\n",
       "      <th>5</th>\n",
       "      <td>h_grad_boost</td>\n",
       "      <td>0.872771</td>\n",
       "      <td>0.002167</td>\n",
       "      <td>135.526780</td>\n",
       "    </tr>\n",
       "    <tr>\n",
       "      <th>8</th>\n",
       "      <td>lgbm</td>\n",
       "      <td>0.871618</td>\n",
       "      <td>0.001801</td>\n",
       "      <td>187.736360</td>\n",
       "    </tr>\n",
       "    <tr>\n",
       "      <th>3</th>\n",
       "      <td>random_forest_classif</td>\n",
       "      <td>0.870498</td>\n",
       "      <td>0.002267</td>\n",
       "      <td>413.474607</td>\n",
       "    </tr>\n",
       "    <tr>\n",
       "      <th>6</th>\n",
       "      <td>xg</td>\n",
       "      <td>0.861193</td>\n",
       "      <td>0.003154</td>\n",
       "      <td>158.683522</td>\n",
       "    </tr>\n",
       "    <tr>\n",
       "      <th>2</th>\n",
       "      <td>bagg_classif_log_reg</td>\n",
       "      <td>0.856554</td>\n",
       "      <td>0.002026</td>\n",
       "      <td>220.783407</td>\n",
       "    </tr>\n",
       "    <tr>\n",
       "      <th>0</th>\n",
       "      <td>log_reg</td>\n",
       "      <td>0.856517</td>\n",
       "      <td>0.001994</td>\n",
       "      <td>137.926496</td>\n",
       "    </tr>\n",
       "    <tr>\n",
       "      <th>4</th>\n",
       "      <td>ada</td>\n",
       "      <td>0.849800</td>\n",
       "      <td>0.002177</td>\n",
       "      <td>190.758056</td>\n",
       "    </tr>\n",
       "    <tr>\n",
       "      <th>1</th>\n",
       "      <td>sgd_classif</td>\n",
       "      <td>0.833142</td>\n",
       "      <td>0.030765</td>\n",
       "      <td>133.364268</td>\n",
       "    </tr>\n",
       "  </tbody>\n",
       "</table>\n",
       "</div>"
      ],
      "text/plain": [
       "                    name    median       std        time\n",
       "7                    cat  0.878124  0.001576  207.151530\n",
       "5           h_grad_boost  0.872771  0.002167  135.526780\n",
       "8                   lgbm  0.871618  0.001801  187.736360\n",
       "3  random_forest_classif  0.870498  0.002267  413.474607\n",
       "6                     xg  0.861193  0.003154  158.683522\n",
       "2   bagg_classif_log_reg  0.856554  0.002026  220.783407\n",
       "0                log_reg  0.856517  0.001994  137.926496\n",
       "4                    ada  0.849800  0.002177  190.758056\n",
       "1            sgd_classif  0.833142  0.030765  133.364268"
      ]
     },
     "execution_count": 16,
     "metadata": {},
     "output_type": "execute_result"
    }
   ],
   "source": [
    "results_df.sort_values(by='median', ascending=False)"
   ]
  },
  {
   "cell_type": "markdown",
   "id": "875b6196",
   "metadata": {
    "papermill": {
     "duration": 0.013365,
     "end_time": "2023-11-20T16:32:45.797146",
     "exception": false,
     "start_time": "2023-11-20T16:32:45.783781",
     "status": "completed"
    },
    "tags": []
   },
   "source": [
    "# Training"
   ]
  },
  {
   "cell_type": "code",
   "execution_count": 17,
   "id": "a4df5bb6",
   "metadata": {
    "execution": {
     "iopub.execute_input": "2023-11-20T16:32:45.828940Z",
     "iopub.status.busy": "2023-11-20T16:32:45.827499Z",
     "iopub.status.idle": "2023-11-20T16:32:45.834657Z",
     "shell.execute_reply": "2023-11-20T16:32:45.833429Z"
    },
    "papermill": {
     "duration": 0.025847,
     "end_time": "2023-11-20T16:32:45.837401",
     "exception": false,
     "start_time": "2023-11-20T16:32:45.811554",
     "status": "completed"
    },
    "tags": []
   },
   "outputs": [],
   "source": [
    "pipe = Pipeline(steps=[('imputer', SimpleImputer(strategy='median')),\n",
    "                    ('scaler', RobustScaler()),\n",
    "                    ('selector', SelectFromModel(RandomForestClassifier())),\n",
    "                       ('lgbm', LGBMClassifier(objective='binary', verbose=0))])"
   ]
  },
  {
   "cell_type": "code",
   "execution_count": 18,
   "id": "546b26d9",
   "metadata": {
    "execution": {
     "iopub.execute_input": "2023-11-20T16:32:45.867038Z",
     "iopub.status.busy": "2023-11-20T16:32:45.866627Z",
     "iopub.status.idle": "2023-11-20T16:32:45.875362Z",
     "shell.execute_reply": "2023-11-20T16:32:45.874186Z"
    },
    "papermill": {
     "duration": 0.026772,
     "end_time": "2023-11-20T16:32:45.877947",
     "exception": false,
     "start_time": "2023-11-20T16:32:45.851175",
     "status": "completed"
    },
    "tags": []
   },
   "outputs": [],
   "source": [
    "params_cat_bayes = {'cat__depth' : Integer(2, 16),\n",
    "    'cat__l2_leaf_reg' : Integer(1,50),\n",
    "    'selector__threshold' : Real(0.01, 0.06, 'log-uniform')\n",
    "}"
   ]
  },
  {
   "cell_type": "code",
   "execution_count": 19,
   "id": "15044a0c",
   "metadata": {
    "execution": {
     "iopub.execute_input": "2023-11-20T16:32:45.909677Z",
     "iopub.status.busy": "2023-11-20T16:32:45.909188Z",
     "iopub.status.idle": "2023-11-20T16:32:45.928926Z",
     "shell.execute_reply": "2023-11-20T16:32:45.927536Z"
    },
    "papermill": {
     "duration": 0.038574,
     "end_time": "2023-11-20T16:32:45.931930",
     "exception": false,
     "start_time": "2023-11-20T16:32:45.893356",
     "status": "completed"
    },
    "tags": []
   },
   "outputs": [],
   "source": [
    "params_lgbm_bayes = {\n",
    "    'selector__threshold' : Real(0.01, 0.06, 'log-uniform'),\n",
    "    'lgbm__learning_rate' : Real(0.01, 1, 'log-uniform'),\n",
    "    'lgbm__num_leaves' : Integer(10, 200),\n",
    "    'lgbm__max_depth': Integer(0, 500),\n",
    "    'lgbm__min_child_samples': Integer(0, 200),\n",
    "    'lgbm__boosting_type' : Categorical(['gbdt', 'dart']),\n",
    "    'lgbm__n_estimators' : Integer(10, 200),\n",
    "    'lgbm__reg_lambda': Real(1e-9, 1000, 'log-uniform'),\n",
    "    'lgbm__reg_alpha': Real(1e-9, 1.0, 'log-uniform'),\n",
    "}"
   ]
  },
  {
   "cell_type": "code",
   "execution_count": 20,
   "id": "4aefd6ce",
   "metadata": {
    "execution": {
     "iopub.execute_input": "2023-11-20T16:32:45.962738Z",
     "iopub.status.busy": "2023-11-20T16:32:45.961427Z",
     "iopub.status.idle": "2023-11-20T16:32:45.969075Z",
     "shell.execute_reply": "2023-11-20T16:32:45.967451Z"
    },
    "papermill": {
     "duration": 0.026179,
     "end_time": "2023-11-20T16:32:45.972019",
     "exception": false,
     "start_time": "2023-11-20T16:32:45.945840",
     "status": "completed"
    },
    "tags": []
   },
   "outputs": [],
   "source": [
    "grid = BayesSearchCV(pipe, \n",
    "                    search_spaces=params_lgbm_bayes,\n",
    "                    scoring = 'roc_auc',\n",
    "                     cv = 5,\n",
    "                    n_jobs=-1,\n",
    "                    verbose = 2,\n",
    "                    n_points = 3)"
   ]
  },
  {
   "cell_type": "code",
   "execution_count": 21,
   "id": "c8cdc697",
   "metadata": {
    "execution": {
     "iopub.execute_input": "2023-11-20T16:32:46.002937Z",
     "iopub.status.busy": "2023-11-20T16:32:46.001285Z",
     "iopub.status.idle": "2023-11-20T18:43:25.858541Z",
     "shell.execute_reply": "2023-11-20T18:43:25.857345Z"
    },
    "papermill": {
     "duration": 7839.874868,
     "end_time": "2023-11-20T18:43:25.861105",
     "exception": false,
     "start_time": "2023-11-20T16:32:45.986237",
     "status": "completed"
    },
    "tags": []
   },
   "outputs": [
    
     ]
    },
    {
     "data": {
      "text/html": [
       "<style>#sk-container-id-1 {color: black;background-color: white;}#sk-container-id-1 pre{padding: 0;}#sk-container-id-1 div.sk-toggleable {background-color: white;}#sk-container-id-1 label.sk-toggleable__label {cursor: pointer;display: block;width: 100%;margin-bottom: 0;padding: 0.3em;box-sizing: border-box;text-align: center;}#sk-container-id-1 label.sk-toggleable__label-arrow:before {content: \"▸\";float: left;margin-right: 0.25em;color: #696969;}#sk-container-id-1 label.sk-toggleable__label-arrow:hover:before {color: black;}#sk-container-id-1 div.sk-estimator:hover label.sk-toggleable__label-arrow:before {color: black;}#sk-container-id-1 div.sk-toggleable__content {max-height: 0;max-width: 0;overflow: hidden;text-align: left;background-color: #f0f8ff;}#sk-container-id-1 div.sk-toggleable__content pre {margin: 0.2em;color: black;border-radius: 0.25em;background-color: #f0f8ff;}#sk-container-id-1 input.sk-toggleable__control:checked~div.sk-toggleable__content {max-height: 200px;max-width: 100%;overflow: auto;}#sk-container-id-1 input.sk-toggleable__control:checked~label.sk-toggleable__label-arrow:before {content: \"▾\";}#sk-container-id-1 div.sk-estimator input.sk-toggleable__control:checked~label.sk-toggleable__label {background-color: #d4ebff;}#sk-container-id-1 div.sk-label input.sk-toggleable__control:checked~label.sk-toggleable__label {background-color: #d4ebff;}#sk-container-id-1 input.sk-hidden--visually {border: 0;clip: rect(1px 1px 1px 1px);clip: rect(1px, 1px, 1px, 1px);height: 1px;margin: -1px;overflow: hidden;padding: 0;position: absolute;width: 1px;}#sk-container-id-1 div.sk-estimator {font-family: monospace;background-color: #f0f8ff;border: 1px dotted black;border-radius: 0.25em;box-sizing: border-box;margin-bottom: 0.5em;}#sk-container-id-1 div.sk-estimator:hover {background-color: #d4ebff;}#sk-container-id-1 div.sk-parallel-item::after {content: \"\";width: 100%;border-bottom: 1px solid gray;flex-grow: 1;}#sk-container-id-1 div.sk-label:hover label.sk-toggleable__label {background-color: #d4ebff;}#sk-container-id-1 div.sk-serial::before {content: \"\";position: absolute;border-left: 1px solid gray;box-sizing: border-box;top: 0;bottom: 0;left: 50%;z-index: 0;}#sk-container-id-1 div.sk-serial {display: flex;flex-direction: column;align-items: center;background-color: white;padding-right: 0.2em;padding-left: 0.2em;position: relative;}#sk-container-id-1 div.sk-item {position: relative;z-index: 1;}#sk-container-id-1 div.sk-parallel {display: flex;align-items: stretch;justify-content: center;background-color: white;position: relative;}#sk-container-id-1 div.sk-item::before, #sk-container-id-1 div.sk-parallel-item::before {content: \"\";position: absolute;border-left: 1px solid gray;box-sizing: border-box;top: 0;bottom: 0;left: 50%;z-index: -1;}#sk-container-id-1 div.sk-parallel-item {display: flex;flex-direction: column;z-index: 1;position: relative;background-color: white;}#sk-container-id-1 div.sk-parallel-item:first-child::after {align-self: flex-end;width: 50%;}#sk-container-id-1 div.sk-parallel-item:last-child::after {align-self: flex-start;width: 50%;}#sk-container-id-1 div.sk-parallel-item:only-child::after {width: 0;}#sk-container-id-1 div.sk-dashed-wrapped {border: 1px dashed gray;margin: 0 0.4em 0.5em 0.4em;box-sizing: border-box;padding-bottom: 0.4em;background-color: white;}#sk-container-id-1 div.sk-label label {font-family: monospace;font-weight: bold;display: inline-block;line-height: 1.2em;}#sk-container-id-1 div.sk-label-container {text-align: center;}#sk-container-id-1 div.sk-container {/* jupyter's `normalize.less` sets `[hidden] { display: none; }` but bootstrap.min.css set `[hidden] { display: none !important; }` so we also need the `!important` here to be able to override the default hidden behavior on the sphinx rendered scikit-learn.org. See: https://github.com/scikit-learn/scikit-learn/issues/21755 */display: inline-block !important;position: relative;}#sk-container-id-1 div.sk-text-repr-fallback {display: none;}</style><div id=\"sk-container-id-1\" class=\"sk-top-container\"><div class=\"sk-text-repr-fallback\"><pre>BayesSearchCV(cv=5,\n",
       "              estimator=Pipeline(steps=[(&#x27;imputer&#x27;,\n",
       "                                         SimpleImputer(strategy=&#x27;median&#x27;)),\n",
       "                                        (&#x27;scaler&#x27;, RobustScaler()),\n",
       "                                        (&#x27;selector&#x27;,\n",
       "                                         SelectFromModel(estimator=RandomForestClassifier())),\n",
       "                                        (&#x27;lgbm&#x27;,\n",
       "                                         LGBMClassifier(objective=&#x27;binary&#x27;,\n",
       "                                                        verbose=0))]),\n",
       "              n_jobs=-1, n_points=3, scoring=&#x27;roc_auc&#x27;,\n",
       "              search_spaces={&#x27;lgbm__boosting_type&#x27;: Categorical(categories=(&#x27;gbdt&#x27;, &#x27;dart&#x27;...\n",
       "                             &#x27;lgbm__num_leaves&#x27;: Integer(low=10, high=200, prior=&#x27;uniform&#x27;, transform=&#x27;normalize&#x27;),\n",
       "                             &#x27;lgbm__reg_alpha&#x27;: Real(low=1e-09, high=1.0, prior=&#x27;log-uniform&#x27;, transform=&#x27;normalize&#x27;),\n",
       "                             &#x27;lgbm__reg_lambda&#x27;: Real(low=1e-09, high=1000, prior=&#x27;log-uniform&#x27;, transform=&#x27;normalize&#x27;),\n",
       "                             &#x27;selector__threshold&#x27;: Real(low=0.01, high=0.06, prior=&#x27;log-uniform&#x27;, transform=&#x27;normalize&#x27;)},\n",
       "              verbose=2)</pre><b>In a Jupyter environment, please rerun this cell to show the HTML representation or trust the notebook. <br />On GitHub, the HTML representation is unable to render, please try loading this page with nbviewer.org.</b></div><div class=\"sk-container\" hidden><div class=\"sk-item sk-dashed-wrapped\"><div class=\"sk-label-container\"><div class=\"sk-label sk-toggleable\"><input class=\"sk-toggleable__control sk-hidden--visually\" id=\"sk-estimator-id-1\" type=\"checkbox\" ><label for=\"sk-estimator-id-1\" class=\"sk-toggleable__label sk-toggleable__label-arrow\">BayesSearchCV</label><div class=\"sk-toggleable__content\"><pre>BayesSearchCV(cv=5,\n",
       "              estimator=Pipeline(steps=[(&#x27;imputer&#x27;,\n",
       "                                         SimpleImputer(strategy=&#x27;median&#x27;)),\n",
       "                                        (&#x27;scaler&#x27;, RobustScaler()),\n",
       "                                        (&#x27;selector&#x27;,\n",
       "                                         SelectFromModel(estimator=RandomForestClassifier())),\n",
       "                                        (&#x27;lgbm&#x27;,\n",
       "                                         LGBMClassifier(objective=&#x27;binary&#x27;,\n",
       "                                                        verbose=0))]),\n",
       "              n_jobs=-1, n_points=3, scoring=&#x27;roc_auc&#x27;,\n",
       "              search_spaces={&#x27;lgbm__boosting_type&#x27;: Categorical(categories=(&#x27;gbdt&#x27;, &#x27;dart&#x27;...\n",
       "                             &#x27;lgbm__num_leaves&#x27;: Integer(low=10, high=200, prior=&#x27;uniform&#x27;, transform=&#x27;normalize&#x27;),\n",
       "                             &#x27;lgbm__reg_alpha&#x27;: Real(low=1e-09, high=1.0, prior=&#x27;log-uniform&#x27;, transform=&#x27;normalize&#x27;),\n",
       "                             &#x27;lgbm__reg_lambda&#x27;: Real(low=1e-09, high=1000, prior=&#x27;log-uniform&#x27;, transform=&#x27;normalize&#x27;),\n",
       "                             &#x27;selector__threshold&#x27;: Real(low=0.01, high=0.06, prior=&#x27;log-uniform&#x27;, transform=&#x27;normalize&#x27;)},\n",
       "              verbose=2)</pre></div></div></div><div class=\"sk-parallel\"><div class=\"sk-parallel-item\"><div class=\"sk-item\"><div class=\"sk-label-container\"><div class=\"sk-label sk-toggleable\"><input class=\"sk-toggleable__control sk-hidden--visually\" id=\"sk-estimator-id-2\" type=\"checkbox\" ><label for=\"sk-estimator-id-2\" class=\"sk-toggleable__label sk-toggleable__label-arrow\">estimator: Pipeline</label><div class=\"sk-toggleable__content\"><pre>Pipeline(steps=[(&#x27;imputer&#x27;, SimpleImputer(strategy=&#x27;median&#x27;)),\n",
       "                (&#x27;scaler&#x27;, RobustScaler()),\n",
       "                (&#x27;selector&#x27;,\n",
       "                 SelectFromModel(estimator=RandomForestClassifier())),\n",
       "                (&#x27;lgbm&#x27;, LGBMClassifier(objective=&#x27;binary&#x27;, verbose=0))])</pre></div></div></div><div class=\"sk-serial\"><div class=\"sk-item\"><div class=\"sk-serial\"><div class=\"sk-item\"><div class=\"sk-estimator sk-toggleable\"><input class=\"sk-toggleable__control sk-hidden--visually\" id=\"sk-estimator-id-3\" type=\"checkbox\" ><label for=\"sk-estimator-id-3\" class=\"sk-toggleable__label sk-toggleable__label-arrow\">SimpleImputer</label><div class=\"sk-toggleable__content\"><pre>SimpleImputer(strategy=&#x27;median&#x27;)</pre></div></div></div><div class=\"sk-item\"><div class=\"sk-estimator sk-toggleable\"><input class=\"sk-toggleable__control sk-hidden--visually\" id=\"sk-estimator-id-4\" type=\"checkbox\" ><label for=\"sk-estimator-id-4\" class=\"sk-toggleable__label sk-toggleable__label-arrow\">RobustScaler</label><div class=\"sk-toggleable__content\"><pre>RobustScaler()</pre></div></div></div><div class=\"sk-item sk-dashed-wrapped\"><div class=\"sk-label-container\"><div class=\"sk-label sk-toggleable\"><input class=\"sk-toggleable__control sk-hidden--visually\" id=\"sk-estimator-id-5\" type=\"checkbox\" ><label for=\"sk-estimator-id-5\" class=\"sk-toggleable__label sk-toggleable__label-arrow\">selector: SelectFromModel</label><div class=\"sk-toggleable__content\"><pre>SelectFromModel(estimator=RandomForestClassifier())</pre></div></div></div><div class=\"sk-parallel\"><div class=\"sk-parallel-item\"><div class=\"sk-item\"><div class=\"sk-label-container\"><div class=\"sk-label sk-toggleable\"><input class=\"sk-toggleable__control sk-hidden--visually\" id=\"sk-estimator-id-6\" type=\"checkbox\" ><label for=\"sk-estimator-id-6\" class=\"sk-toggleable__label sk-toggleable__label-arrow\">estimator: RandomForestClassifier</label><div class=\"sk-toggleable__content\"><pre>RandomForestClassifier()</pre></div></div></div><div class=\"sk-serial\"><div class=\"sk-item\"><div class=\"sk-estimator sk-toggleable\"><input class=\"sk-toggleable__control sk-hidden--visually\" id=\"sk-estimator-id-7\" type=\"checkbox\" ><label for=\"sk-estimator-id-7\" class=\"sk-toggleable__label sk-toggleable__label-arrow\">RandomForestClassifier</label><div class=\"sk-toggleable__content\"><pre>RandomForestClassifier()</pre></div></div></div></div></div></div></div></div><div class=\"sk-item\"><div class=\"sk-estimator sk-toggleable\"><input class=\"sk-toggleable__control sk-hidden--visually\" id=\"sk-estimator-id-8\" type=\"checkbox\" ><label for=\"sk-estimator-id-8\" class=\"sk-toggleable__label sk-toggleable__label-arrow\">LGBMClassifier</label><div class=\"sk-toggleable__content\"><pre>LGBMClassifier(objective=&#x27;binary&#x27;, verbose=0)</pre></div></div></div></div></div></div></div></div></div></div></div></div>"
      ],
      "text/plain": [
       "BayesSearchCV(cv=5,\n",
       "              estimator=Pipeline(steps=[('imputer',\n",
       "                                         SimpleImputer(strategy='median')),\n",
       "                                        ('scaler', RobustScaler()),\n",
       "                                        ('selector',\n",
       "                                         SelectFromModel(estimator=RandomForestClassifier())),\n",
       "                                        ('lgbm',\n",
       "                                         LGBMClassifier(objective='binary',\n",
       "                                                        verbose=0))]),\n",
       "              n_jobs=-1, n_points=3, scoring='roc_auc',\n",
       "              search_spaces={'lgbm__boosting_type': Categorical(categories=('gbdt', 'dart'...\n",
       "                             'lgbm__num_leaves': Integer(low=10, high=200, prior='uniform', transform='normalize'),\n",
       "                             'lgbm__reg_alpha': Real(low=1e-09, high=1.0, prior='log-uniform', transform='normalize'),\n",
       "                             'lgbm__reg_lambda': Real(low=1e-09, high=1000, prior='log-uniform', transform='normalize'),\n",
       "                             'selector__threshold': Real(low=0.01, high=0.06, prior='log-uniform', transform='normalize')},\n",
       "              verbose=2)"
      ]
     },
     "execution_count": 21,
     "metadata": {},
     "output_type": "execute_result"
    }
   ],
   "source": [
    "grid.fit(X_train, y_train)"
   ]
  },
  {
   "cell_type": "markdown",
   "id": "5aade5da",
   "metadata": {
    "papermill": {
     "duration": 0.137673,
     "end_time": "2023-11-20T18:43:26.133677",
     "exception": false,
     "start_time": "2023-11-20T18:43:25.996004",
     "status": "completed"
    },
    "tags": []
   },
   "source": [
    "# Report"
   ]
  },
  {
   "cell_type": "code",
   "execution_count": 22,
   "id": "4a70cc17",
   "metadata": {
    "execution": {
     "iopub.execute_input": "2023-11-20T18:43:26.403963Z",
     "iopub.status.busy": "2023-11-20T18:43:26.403242Z",
     "iopub.status.idle": "2023-11-20T18:43:26.410864Z",
     "shell.execute_reply": "2023-11-20T18:43:26.409943Z"
    },
    "papermill": {
     "duration": 0.146398,
     "end_time": "2023-11-20T18:43:26.413340",
     "exception": false,
     "start_time": "2023-11-20T18:43:26.266942",
     "status": "completed"
    },
    "tags": []
   },
   "outputs": [],
   "source": [
    "def make_report(model, X_train_, y_train, X_test, y_test):\n",
    "    y_pred = model.predict(X_test)\n",
    "    print('Score:',model.score(X_test, y_test))\n",
    "    print('AUC:',roc_auc_score(y_test, y_pred))\n",
    "    print(classification_report(y_test, y_pred))\n",
    "    fpr, tpr, thresholds = roc_curve(y_test, y_pred)\n",
    "    plt.figure(figsize=(6,4))\n",
    "    plt.plot(fpr,tpr,'-g',linewidth=1)\n",
    "    plt.plot([0,1], [0,1], 'k--' )\n",
    "    plt.title('ROC curve for Logistic Regression Model')\n",
    "    plt.xlabel(\"False Positive Rate\")\n",
    "    plt.ylabel('True Positive Rate')\n",
    "    plt.show()"
   ]
  },
  {
   "cell_type": "code",
   "execution_count": 23,
   "id": "4fab3a99",
   "metadata": {
    "execution": {
     "iopub.execute_input": "2023-11-20T18:43:26.679097Z",
     "iopub.status.busy": "2023-11-20T18:43:26.678354Z",
     "iopub.status.idle": "2023-11-20T18:43:26.687746Z",
     "shell.execute_reply": "2023-11-20T18:43:26.686282Z"
    },
    "papermill": {
     "duration": 0.143659,
     "end_time": "2023-11-20T18:43:26.690412",
     "exception": false,
     "start_time": "2023-11-20T18:43:26.546753",
     "status": "completed"
    },
    "tags": []
   },
   "outputs": [
    {
     "data": {
      "text/plain": [
       "OrderedDict([('lgbm__boosting_type', 'gbdt'),\n",
       "             ('lgbm__learning_rate', 0.04315424690954627),\n",
       "             ('lgbm__max_depth', 207),\n",
       "             ('lgbm__min_child_samples', 186),\n",
       "             ('lgbm__n_estimators', 192),\n",
       "             ('lgbm__num_leaves', 200),\n",
       "             ('lgbm__reg_alpha', 1.0),\n",
       "             ('lgbm__reg_lambda', 1.9883149096230396e-06),\n",
       "             ('selector__threshold', 0.01)])"
      ]
     },
     "execution_count": 23,
     "metadata": {},
     "output_type": "execute_result"
    }
   ],
   "source": [
    "grid.best_params_"
   ]
  },
  {
   "cell_type": "code",
   "execution_count": 24,
   "id": "0dcce74f",
   "metadata": {
    "execution": {
     "iopub.execute_input": "2023-11-20T18:43:26.961175Z",
     "iopub.status.busy": "2023-11-20T18:43:26.960514Z",
     "iopub.status.idle": "2023-11-20T18:43:27.056866Z",
     "shell.execute_reply": "2023-11-20T18:43:27.055458Z"
    },
    "papermill": {
     "duration": 0.236958,
     "end_time": "2023-11-20T18:43:27.059488",
     "exception": false,
     "start_time": "2023-11-20T18:43:26.822530",
     "status": "completed"
    },
    "tags": []
   },
   "outputs": [
    {
     "data": {
      "text/plain": [
       "array(['x0', 'x1', 'x2', 'x3', 'x4', 'x5', 'x6', 'x7', 'x8', 'x9', 'x10',\n",
       "       'x11', 'x12', 'x13', 'x14', 'x15', 'x16', 'x17', 'x18', 'x19',\n",
       "       'x20', 'x21', 'x22'], dtype=object)"
      ]
     },
     "execution_count": 24,
     "metadata": {},
     "output_type": "execute_result"
    }
   ],
   "source": [
    "grid.best_estimator_[:-1].get_feature_names_out()"
   ]
  },
  {
   "cell_type": "code",
   "execution_count": 25,
   "id": "fc5891ce",
   "metadata": {
    "execution": {
     "iopub.execute_input": "2023-11-20T18:43:27.327175Z",
     "iopub.status.busy": "2023-11-20T18:43:27.326743Z",
     "iopub.status.idle": "2023-11-20T18:43:29.046834Z",
     "shell.execute_reply": "2023-11-20T18:43:29.045677Z"
    },
    "papermill": {
     "duration": 1.857865,
     "end_time": "2023-11-20T18:43:29.049804",
     "exception": false,
     "start_time": "2023-11-20T18:43:27.191939",
     "status": "completed"
    },
    "tags": []
   },
   "outputs": [
    {
     "name": "stderr",
     "output_type": "stream",
     "text": [
      "/opt/conda/lib/python3.10/site-packages/sklearn/base.py:432: UserWarning: X has feature names, but SimpleImputer was fitted without feature names\n",
      "  warnings.warn(\n",
      "/opt/conda/lib/python3.10/site-packages/sklearn/base.py:432: UserWarning: X has feature names, but SimpleImputer was fitted without feature names\n",
      "  warnings.warn(\n"
     ]
    },
    {
     "name": "stdout",
     "output_type": "stream",
     "text": [
      "Score: 0.8827378682880325\n",
      "AUC: 0.7474747996800557\n",
      "              precision    recall  f1-score   support\n",
      "\n",
      "           0       0.88      0.95      0.91     36466\n",
      "           1       0.75      0.55      0.63     10458\n",
      "\n",
      "    accuracy                           0.86     46924\n",
      "   macro avg       0.81      0.75      0.77     46924\n",
      "weighted avg       0.85      0.86      0.85     46924\n",
      "\n"
     ]
    },
    {
     "data": {
      "image/png": "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",
      "text/plain": [
       "<Figure size 600x400 with 1 Axes>"
      ]
     },
     "metadata": {},
     "output_type": "display_data"
    }
   ],
   "source": [
    "make_report(grid, X_train, y_train, X_test, y_test)"
   ]
  }
 ],
 "metadata": {
  "kaggle": {
   "accelerator": "none",
   "dataSources": [
    {
     "datasetId": 6012,
     "sourceId": 1733506,
     "sourceType": "datasetVersion"
    }
   ],
   "dockerImageVersionId": 30513,
   "isGpuEnabled": false,
   "isInternetEnabled": true,
   "language": "python",
   "sourceType": "notebook"
  },
  "kernelspec": {
   "display_name": "Python 3",
   "language": "python",
   "name": "python3"
  },
  "language_info": {
   "codemirror_mode": {
    "name": "ipython",
    "version": 3
   },
   "file_extension": ".py",
   "mimetype": "text/x-python",
   "name": "python",
   "nbconvert_exporter": "python",
   "pygments_lexer": "ipython3",
   "version": "3.10.10"
  },
  "papermill": {
   "default_parameters": {},
   "duration": 9713.795955,
   "end_time": "2023-11-20T18:43:31.395363",
   "environment_variables": {},
   "exception": null,
   "input_path": "__notebook__.ipynb",
   "output_path": "__notebook__.ipynb",
   "parameters": {},
   "start_time": "2023-11-20T16:01:37.599408",
   "version": "2.4.0"
  }
 },
 "nbformat": 4,
 "nbformat_minor": 5
}
