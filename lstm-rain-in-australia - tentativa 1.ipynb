{
 "cells": [
  {
   "cell_type": "code",
   "execution_count": 1,
   "id": "157ba33b",
   "metadata": {
    "_cell_guid": "b1076dfc-b9ad-4769-8c92-a6c4dae69d19",
    "_uuid": "8f2839f25d086af736a60e9eeb907d3b93b6e0e5",
    "execution": {
     "iopub.execute_input": "2023-11-24T18:12:49.381408Z",
     "iopub.status.busy": "2023-11-24T18:12:49.381046Z",
     "iopub.status.idle": "2023-11-24T18:13:02.721063Z",
     "shell.execute_reply": "2023-11-24T18:13:02.720207Z"
    },
    "papermill": {
     "duration": 13.349602,
     "end_time": "2023-11-24T18:13:02.723500",
     "exception": false,
     "start_time": "2023-11-24T18:12:49.373898",
     "status": "completed"
    },
    "tags": []
   },
   "outputs": [
    {
     "name": "stderr",
     "output_type": "stream",
     "text": [
      "/opt/conda/lib/python3.10/site-packages/scipy/__init__.py:146: UserWarning: A NumPy version >=1.16.5 and <1.23.0 is required for this version of SciPy (detected version 1.24.3\n",
      "  warnings.warn(f\"A NumPy version >={np_minversion} and <{np_maxversion}\"\n"
     ]
    }
   ],
   "source": [
    "import pandas as pd # data processing, CSV file I/O (e.g. pd.read_csv)\n",
    "import numpy as np\n",
    "import seaborn as sns\n",
    "import matplotlib.pyplot as plt\n",
    "from tensorflow.keras.models import Sequential\n",
    "from tensorflow.keras.layers import LSTM, Dense\n",
    "from tensorflow.keras.preprocessing.sequence import TimeseriesGenerator\n",
    "from tensorflow.keras.metrics import BinaryAccuracy\n",
    "from tensorflow.keras.callbacks import ModelCheckpoint\n",
    "from sklearn.preprocessing import MinMaxScaler\n",
    "from sklearn.model_selection import train_test_split\n",
    "from sklearn.metrics import classification_report\n",
    "from sklearn.impute import SimpleImputer"
   ]
  },
  {
   "cell_type": "code",
   "execution_count": 2,
   "id": "9a4b32ac",
   "metadata": {
    "execution": {
     "iopub.execute_input": "2023-11-24T18:13:02.736060Z",
     "iopub.status.busy": "2023-11-24T18:13:02.735497Z",
     "iopub.status.idle": "2023-11-24T18:13:03.287043Z",
     "shell.execute_reply": "2023-11-24T18:13:03.285952Z"
    },
    "papermill": {
     "duration": 0.560202,
     "end_time": "2023-11-24T18:13:03.289568",
     "exception": false,
     "start_time": "2023-11-24T18:13:02.729366",
     "status": "completed"
    },
    "tags": []
   },
   "outputs": [],
   "source": [
    "df = pd.read_csv('/kaggle/input/weather-dataset-rattle-package/weatherAUS.csv')"
   ]
  },
  {
   "cell_type": "code",
   "execution_count": 3,
   "id": "ba54cc74",
   "metadata": {
    "execution": {
     "iopub.execute_input": "2023-11-24T18:13:03.322799Z",
     "iopub.status.busy": "2023-11-24T18:13:03.321981Z",
     "iopub.status.idle": "2023-11-24T18:13:03.574335Z",
     "shell.execute_reply": "2023-11-24T18:13:03.573577Z"
    },
    "papermill": {
     "duration": 0.261866,
     "end_time": "2023-11-24T18:13:03.576648",
     "exception": false,
     "start_time": "2023-11-24T18:13:03.314782",
     "status": "completed"
    },
    "tags": []
   },
   "outputs": [],
   "source": [
    "df.RainTomorrow.replace({'Yes':1, 'No':0}, inplace=True)\n",
    "df.RainToday.replace({'Yes':1, 'No':0}, inplace=True)\n",
    "df.Date = pd.to_datetime(df.Date)\n",
    "df.dropna(subset='RainTomorrow', inplace=True)"
   ]
  },
  {
   "cell_type": "code",
   "execution_count": 4,
   "id": "f1886c7a",
   "metadata": {
    "execution": {
     "iopub.execute_input": "2023-11-24T18:13:03.589291Z",
     "iopub.status.busy": "2023-11-24T18:13:03.588480Z",
     "iopub.status.idle": "2023-11-24T18:13:03.671012Z",
     "shell.execute_reply": "2023-11-24T18:13:03.670091Z"
    },
    "papermill": {
     "duration": 0.091225,
     "end_time": "2023-11-24T18:13:03.673331",
     "exception": false,
     "start_time": "2023-11-24T18:13:03.582106",
     "status": "completed"
    },
    "tags": []
   },
   "outputs": [],
   "source": [
    "for col in df.select_dtypes('float64'):\n",
    "    df[col] = pd.to_numeric(df[col], downcast = 'float')"
   ]
  },
  {
   "cell_type": "code",
   "execution_count": 5,
   "id": "22e67210",
   "metadata": {
    "execution": {
     "iopub.execute_input": "2023-11-24T18:13:03.685664Z",
     "iopub.status.busy": "2023-11-24T18:13:03.684948Z",
     "iopub.status.idle": "2023-11-24T18:13:03.693112Z",
     "shell.execute_reply": "2023-11-24T18:13:03.692316Z"
    },
    "papermill": {
     "duration": 0.016146,
     "end_time": "2023-11-24T18:13:03.695023",
     "exception": false,
     "start_time": "2023-11-24T18:13:03.678877",
     "status": "completed"
    },
    "tags": []
   },
   "outputs": [
    {
     "data": {
      "text/plain": [
       "Date             datetime64[ns]\n",
       "Location                 object\n",
       "MinTemp                 float32\n",
       "MaxTemp                 float32\n",
       "Rainfall                float32\n",
       "Evaporation             float32\n",
       "Sunshine                float32\n",
       "WindGustDir              object\n",
       "WindGustSpeed           float32\n",
       "WindDir9am               object\n",
       "WindDir3pm               object\n",
       "WindSpeed9am            float32\n",
       "WindSpeed3pm            float32\n",
       "Humidity9am             float32\n",
       "Humidity3pm             float32\n",
       "Pressure9am             float32\n",
       "Pressure3pm             float32\n",
       "Cloud9am                float32\n",
       "Cloud3pm                float32\n",
       "Temp9am                 float32\n",
       "Temp3pm                 float32\n",
       "RainToday               float32\n",
       "RainTomorrow            float32\n",
       "dtype: object"
      ]
     },
     "execution_count": 5,
     "metadata": {},
     "output_type": "execute_result"
    }
   ],
   "source": [
    "df.dtypes"
   ]
  },
  {
   "cell_type": "code",
   "execution_count": 6,
   "id": "02e81bab",
   "metadata": {
    "execution": {
     "iopub.execute_input": "2023-11-24T18:13:03.707723Z",
     "iopub.status.busy": "2023-11-24T18:13:03.706822Z",
     "iopub.status.idle": "2023-11-24T18:13:03.717452Z",
     "shell.execute_reply": "2023-11-24T18:13:03.716729Z"
    },
    "papermill": {
     "duration": 0.018618,
     "end_time": "2023-11-24T18:13:03.719309",
     "exception": false,
     "start_time": "2023-11-24T18:13:03.700691",
     "status": "completed"
    },
    "tags": []
   },
   "outputs": [],
   "source": [
    "X = df.select_dtypes('float')\n",
    "y = df.RainTomorrow"
   ]
  },
  {
   "cell_type": "code",
   "execution_count": 7,
   "id": "343903d9",
   "metadata": {
    "execution": {
     "iopub.execute_input": "2023-11-24T18:13:03.731573Z",
     "iopub.status.busy": "2023-11-24T18:13:03.731043Z",
     "iopub.status.idle": "2023-11-24T18:13:03.750680Z",
     "shell.execute_reply": "2023-11-24T18:13:03.749965Z"
    },
    "papermill": {
     "duration": 0.02795,
     "end_time": "2023-11-24T18:13:03.752762",
     "exception": false,
     "start_time": "2023-11-24T18:13:03.724812",
     "status": "completed"
    },
    "tags": []
   },
   "outputs": [],
   "source": [
    "X_train, X_test, y_train, y_test = train_test_split(X, y, test_size=0.33, random_state=42)"
   ]
  },
  {
   "cell_type": "code",
   "execution_count": 8,
   "id": "ec84dcec",
   "metadata": {
    "execution": {
     "iopub.execute_input": "2023-11-24T18:13:03.764630Z",
     "iopub.status.busy": "2023-11-24T18:13:03.764085Z",
     "iopub.status.idle": "2023-11-24T18:13:04.043037Z",
     "shell.execute_reply": "2023-11-24T18:13:04.041998Z"
    },
    "papermill": {
     "duration": 0.287093,
     "end_time": "2023-11-24T18:13:04.045183",
     "exception": false,
     "start_time": "2023-11-24T18:13:03.758090",
     "status": "completed"
    },
    "tags": []
   },
   "outputs": [
    {
     "name": "stderr",
     "output_type": "stream",
     "text": [
      "/opt/conda/lib/python3.10/site-packages/sklearn/utils/validation.py:767: FutureWarning: is_sparse is deprecated and will be removed in a future version. Check `isinstance(dtype, pd.SparseDtype)` instead.\n",
      "  if not hasattr(array, \"sparse\") and array.dtypes.apply(is_sparse).any():\n",
      "/opt/conda/lib/python3.10/site-packages/sklearn/utils/validation.py:605: FutureWarning: is_sparse is deprecated and will be removed in a future version. Check `isinstance(dtype, pd.SparseDtype)` instead.\n",
      "  if is_sparse(pd_dtype):\n",
      "/opt/conda/lib/python3.10/site-packages/sklearn/utils/validation.py:614: FutureWarning: is_sparse is deprecated and will be removed in a future version. Check `isinstance(dtype, pd.SparseDtype)` instead.\n",
      "  if is_sparse(pd_dtype) or not is_extension_array_dtype(pd_dtype):\n",
      "/opt/conda/lib/python3.10/site-packages/sklearn/utils/validation.py:767: FutureWarning: is_sparse is deprecated and will be removed in a future version. Check `isinstance(dtype, pd.SparseDtype)` instead.\n",
      "  if not hasattr(array, \"sparse\") and array.dtypes.apply(is_sparse).any():\n",
      "/opt/conda/lib/python3.10/site-packages/sklearn/utils/validation.py:605: FutureWarning: is_sparse is deprecated and will be removed in a future version. Check `isinstance(dtype, pd.SparseDtype)` instead.\n",
      "  if is_sparse(pd_dtype):\n",
      "/opt/conda/lib/python3.10/site-packages/sklearn/utils/validation.py:614: FutureWarning: is_sparse is deprecated and will be removed in a future version. Check `isinstance(dtype, pd.SparseDtype)` instead.\n",
      "  if is_sparse(pd_dtype) or not is_extension_array_dtype(pd_dtype):\n",
      "/opt/conda/lib/python3.10/site-packages/sklearn/utils/validation.py:767: FutureWarning: is_sparse is deprecated and will be removed in a future version. Check `isinstance(dtype, pd.SparseDtype)` instead.\n",
      "  if not hasattr(array, \"sparse\") and array.dtypes.apply(is_sparse).any():\n",
      "/opt/conda/lib/python3.10/site-packages/sklearn/utils/validation.py:605: FutureWarning: is_sparse is deprecated and will be removed in a future version. Check `isinstance(dtype, pd.SparseDtype)` instead.\n",
      "  if is_sparse(pd_dtype):\n",
      "/opt/conda/lib/python3.10/site-packages/sklearn/utils/validation.py:614: FutureWarning: is_sparse is deprecated and will be removed in a future version. Check `isinstance(dtype, pd.SparseDtype)` instead.\n",
      "  if is_sparse(pd_dtype) or not is_extension_array_dtype(pd_dtype):\n",
      "/opt/conda/lib/python3.10/site-packages/sklearn/utils/validation.py:767: FutureWarning: is_sparse is deprecated and will be removed in a future version. Check `isinstance(dtype, pd.SparseDtype)` instead.\n",
      "  if not hasattr(array, \"sparse\") and array.dtypes.apply(is_sparse).any():\n",
      "/opt/conda/lib/python3.10/site-packages/sklearn/utils/validation.py:605: FutureWarning: is_sparse is deprecated and will be removed in a future version. Check `isinstance(dtype, pd.SparseDtype)` instead.\n",
      "  if is_sparse(pd_dtype):\n",
      "/opt/conda/lib/python3.10/site-packages/sklearn/utils/validation.py:614: FutureWarning: is_sparse is deprecated and will be removed in a future version. Check `isinstance(dtype, pd.SparseDtype)` instead.\n",
      "  if is_sparse(pd_dtype) or not is_extension_array_dtype(pd_dtype):\n"
     ]
    }
   ],
   "source": [
    "imputer = SimpleImputer(strategy='median')\n",
    "X_train = imputer.fit_transform(X_train)\n",
    "X_test = imputer.fit_transform(X_test)\n",
    "\n",
    "scaler = MinMaxScaler()\n",
    "X_train = scaler.fit_transform(X_train)\n",
    "X_test = scaler.fit_transform(X_test)"
   ]
  },
  {
   "cell_type": "code",
   "execution_count": 9,
   "id": "5199ee86",
   "metadata": {
    "execution": {
     "iopub.execute_input": "2023-11-24T18:13:04.058552Z",
     "iopub.status.busy": "2023-11-24T18:13:04.057785Z",
     "iopub.status.idle": "2023-11-24T18:13:04.062649Z",
     "shell.execute_reply": "2023-11-24T18:13:04.061829Z"
    },
    "papermill": {
     "duration": 0.01317,
     "end_time": "2023-11-24T18:13:04.064477",
     "exception": false,
     "start_time": "2023-11-24T18:13:04.051307",
     "status": "completed"
    },
    "tags": []
   },
   "outputs": [],
   "source": [
    "X_train = X_train.reshape((X_train.shape[0], X_train.shape[1], 1))\n",
    "X_test = X_test.reshape((X_test.shape[0], X_test.shape[1], 1))"
   ]
  },
  {
   "cell_type": "code",
   "execution_count": 10,
   "id": "139deb00",
   "metadata": {
    "execution": {
     "iopub.execute_input": "2023-11-24T18:13:04.076923Z",
     "iopub.status.busy": "2023-11-24T18:13:04.076641Z",
     "iopub.status.idle": "2023-11-24T18:13:04.080919Z",
     "shell.execute_reply": "2023-11-24T18:13:04.080150Z"
    },
    "papermill": {
     "duration": 0.012312,
     "end_time": "2023-11-24T18:13:04.082668",
     "exception": false,
     "start_time": "2023-11-24T18:13:04.070356",
     "status": "completed"
    },
    "tags": []
   },
   "outputs": [],
   "source": [
    "generator_train = TimeseriesGenerator(X_train, y_train, length=1, batch_size=1)\n",
    "generator_test = TimeseriesGenerator(X_test, y_test, length=1, batch_size=1)"
   ]
  },
  {
   "cell_type": "code",
   "execution_count": 11,
   "id": "6443174b",
   "metadata": {
    "execution": {
     "iopub.execute_input": "2023-11-24T18:13:04.094881Z",
     "iopub.status.busy": "2023-11-24T18:13:04.094618Z",
     "iopub.status.idle": "2023-11-24T18:13:07.218150Z",
     "shell.execute_reply": "2023-11-24T18:13:07.217287Z"
    },
    "papermill": {
     "duration": 3.131993,
     "end_time": "2023-11-24T18:13:07.220437",
     "exception": false,
     "start_time": "2023-11-24T18:13:04.088444",
     "status": "completed"
    },
    "tags": []
   },
   "outputs": [],
   "source": [
    "model = Sequential()\n",
    "model.add(LSTM(64, input_shape=X_train.shape[1:], return_sequences=True))\n",
    "model.add(Dense(1, activation='sigmoid'))"
   ]
  },
  {
   "cell_type": "code",
   "execution_count": 12,
   "id": "98727134",
   "metadata": {
    "execution": {
     "iopub.execute_input": "2023-11-24T18:13:07.233258Z",
     "iopub.status.busy": "2023-11-24T18:13:07.232965Z",
     "iopub.status.idle": "2023-11-24T18:13:07.251175Z",
     "shell.execute_reply": "2023-11-24T18:13:07.250360Z"
    },
    "papermill": {
     "duration": 0.026816,
     "end_time": "2023-11-24T18:13:07.253070",
     "exception": false,
     "start_time": "2023-11-24T18:13:07.226254",
     "status": "completed"
    },
    "tags": []
   },
   "outputs": [],
   "source": [
    "model.compile(loss='binary_crossentropy', optimizer='adam', metrics=[BinaryAccuracy()])"
   ]
  },
  {
   "cell_type": "code",
   "execution_count": 13,
   "id": "2028a974",
   "metadata": {
    "execution": {
     "iopub.execute_input": "2023-11-24T18:13:07.265548Z",
     "iopub.status.busy": "2023-11-24T18:13:07.265247Z",
     "iopub.status.idle": "2023-11-24T18:13:07.282181Z",
     "shell.execute_reply": "2023-11-24T18:13:07.281191Z"
    },
    "papermill": {
     "duration": 0.027519,
     "end_time": "2023-11-24T18:13:07.286298",
     "exception": false,
     "start_time": "2023-11-24T18:13:07.258779",
     "status": "completed"
    },
    "tags": []
   },
   "outputs": [
    {
     "name": "stdout",
     "output_type": "stream",
     "text": [
      "Model: \"sequential\"\n",
      "_________________________________________________________________\n",
      " Layer (type)                Output Shape              Param #   \n",
      "=================================================================\n",
      " lstm (LSTM)                 (None, 18, 64)            16896     \n",
      "                                                                 \n",
      " dense (Dense)               (None, 18, 1)             65        \n",
      "                                                                 \n",
      "=================================================================\n",
      "Total params: 16961 (66.25 KB)\n",
      "Trainable params: 16961 (66.25 KB)\n",
      "Non-trainable params: 0 (0.00 Byte)\n",
      "_________________________________________________________________\n"
     ]
    }
   ],
   "source": [
    "model.summary()"
   ]
  },
  {
   "cell_type": "code",
   "execution_count": 14,
   "id": "fced5626",
   "metadata": {
    "execution": {
     "iopub.execute_input": "2023-11-24T18:13:07.301040Z",
     "iopub.status.busy": "2023-11-24T18:13:07.300528Z",
     "iopub.status.idle": "2023-11-24T18:13:07.304961Z",
     "shell.execute_reply": "2023-11-24T18:13:07.304088Z"
    },
    "papermill": {
     "duration": 0.013955,
     "end_time": "2023-11-24T18:13:07.307129",
     "exception": false,
     "start_time": "2023-11-24T18:13:07.293174",
     "status": "completed"
    },
    "tags": []
   },
   "outputs": [],
   "source": [
    "filepath = \"weights_64.hdf5\"\n",
    "checkpoint = ModelCheckpoint(filepath, \n",
    "                             monitor='loss', \n",
    "                             verbose=1, \n",
    "                             save_best_only=True, \n",
    "                             mode='min')"
   ]
  },
  {
   "cell_type": "code",
   "execution_count": 15,
   "id": "4ce5d85c",
   "metadata": {
    "execution": {
     "iopub.execute_input": "2023-11-24T18:13:07.322989Z",
     "iopub.status.busy": "2023-11-24T18:13:07.322347Z",
     "iopub.status.idle": "2023-11-24T18:13:07.330016Z",
     "shell.execute_reply": "2023-11-24T18:13:07.329127Z"
    },
    "papermill": {
     "duration": 0.017188,
     "end_time": "2023-11-24T18:13:07.331940",
     "exception": false,
     "start_time": "2023-11-24T18:13:07.314752",
     "status": "completed"
    },
    "tags": []
   },
   "outputs": [
    {
     "name": "stdout",
     "output_type": "stream",
     "text": [
      "/device:GPU:0\n"
     ]
    }
   ],
   "source": [
    "import tensorflow as tf\n",
    "print(tf.test.gpu_device_name())\n",
    "# See https://www.tensorflow.org/tutorials/using_gpu#allowing_gpu_memory_growth\n",
    "config = tf.compat.v1.ConfigProto()\n",
    "config.gpu_options.allow_growth = True"
   ]
  },
  {
   "cell_type": "code",
   "execution_count": 16,
   "id": "02861799",
   "metadata": {
    "execution": {
     "iopub.execute_input": "2023-11-24T18:13:07.347990Z",
     "iopub.status.busy": "2023-11-24T18:13:07.347697Z",
     "iopub.status.idle": "2023-11-24T18:48:42.396188Z",
     "shell.execute_reply": "2023-11-24T18:48:42.395351Z"
    },
    "papermill": {
     "duration": 2135.05902,
     "end_time": "2023-11-24T18:48:42.398574",
     "exception": false,
     "start_time": "2023-11-24T18:13:07.339554",
     "status": "completed"
    },
    "tags": []
   },
   "outputs": [
    {
     "name": "stdout",
     "output_type": "stream",
     "text": [
      "\n",
      "Epoch 1: loss improved from inf to 0.50734, saving model to weights_64.hdf5\n"
     ]
    },
    {
     "name": "stderr",
     "output_type": "stream",
     "text": [
      "/opt/conda/lib/python3.10/site-packages/keras/src/engine/training.py:3000: UserWarning: You are saving your model as an HDF5 file via `model.save()`. This file format is considered legacy. We recommend using instead the native Keras format, e.g. `model.save('my_model.keras')`.\n",
      "  saving_api.save_model(\n"
     ]
    },
    {
     "name": "stdout",
     "output_type": "stream",
     "text": [
      "\n",
      "Epoch 2: loss improved from 0.50734 to 0.45790, saving model to weights_64.hdf5\n",
      "\n",
      "Epoch 3: loss improved from 0.45790 to 0.43050, saving model to weights_64.hdf5\n",
      "\n",
      "Epoch 4: loss improved from 0.43050 to 0.41123, saving model to weights_64.hdf5\n",
      "\n",
      "Epoch 5: loss improved from 0.41123 to 0.40225, saving model to weights_64.hdf5\n",
      "\n",
      "Epoch 6: loss improved from 0.40225 to 0.39780, saving model to weights_64.hdf5\n",
      "\n",
      "Epoch 7: loss improved from 0.39780 to 0.39396, saving model to weights_64.hdf5\n",
      "\n",
      "Epoch 8: loss improved from 0.39396 to 0.39097, saving model to weights_64.hdf5\n",
      "\n",
      "Epoch 9: loss improved from 0.39097 to 0.38900, saving model to weights_64.hdf5\n",
      "\n",
      "Epoch 10: loss improved from 0.38900 to 0.38778, saving model to weights_64.hdf5\n",
      "\n",
      "Epoch 11: loss improved from 0.38778 to 0.38677, saving model to weights_64.hdf5\n",
      "\n",
      "Epoch 12: loss improved from 0.38677 to 0.38553, saving model to weights_64.hdf5\n",
      "\n",
      "Epoch 13: loss improved from 0.38553 to 0.38492, saving model to weights_64.hdf5\n",
      "\n",
      "Epoch 14: loss improved from 0.38492 to 0.38424, saving model to weights_64.hdf5\n",
      "\n",
      "Epoch 15: loss improved from 0.38424 to 0.38329, saving model to weights_64.hdf5\n",
      "\n",
      "Epoch 16: loss improved from 0.38329 to 0.38316, saving model to weights_64.hdf5\n",
      "\n",
      "Epoch 17: loss improved from 0.38316 to 0.38250, saving model to weights_64.hdf5\n",
      "\n",
      "Epoch 18: loss improved from 0.38250 to 0.38195, saving model to weights_64.hdf5\n",
      "\n",
      "Epoch 19: loss improved from 0.38195 to 0.38186, saving model to weights_64.hdf5\n",
      "\n",
      "Epoch 20: loss improved from 0.38186 to 0.38136, saving model to weights_64.hdf5\n",
      "\n",
      "Epoch 21: loss improved from 0.38136 to 0.38112, saving model to weights_64.hdf5\n",
      "\n",
      "Epoch 22: loss improved from 0.38112 to 0.38035, saving model to weights_64.hdf5\n",
      "\n",
      "Epoch 23: loss improved from 0.38035 to 0.37990, saving model to weights_64.hdf5\n",
      "\n",
      "Epoch 24: loss improved from 0.37990 to 0.37958, saving model to weights_64.hdf5\n",
      "\n",
      "Epoch 25: loss improved from 0.37958 to 0.37933, saving model to weights_64.hdf5\n",
      "\n",
      "Epoch 26: loss improved from 0.37933 to 0.37903, saving model to weights_64.hdf5\n",
      "\n",
      "Epoch 27: loss improved from 0.37903 to 0.37889, saving model to weights_64.hdf5\n",
      "\n",
      "Epoch 28: loss improved from 0.37889 to 0.37829, saving model to weights_64.hdf5\n",
      "\n",
      "Epoch 29: loss improved from 0.37829 to 0.37782, saving model to weights_64.hdf5\n",
      "\n",
      "Epoch 30: loss did not improve from 0.37782\n",
      "\n",
      "Epoch 31: loss improved from 0.37782 to 0.37767, saving model to weights_64.hdf5\n",
      "\n",
      "Epoch 32: loss improved from 0.37767 to 0.37713, saving model to weights_64.hdf5\n",
      "\n",
      "Epoch 33: loss improved from 0.37713 to 0.37685, saving model to weights_64.hdf5\n",
      "\n",
      "Epoch 34: loss improved from 0.37685 to 0.37623, saving model to weights_64.hdf5\n",
      "\n",
      "Epoch 35: loss did not improve from 0.37623\n",
      "\n",
      "Epoch 36: loss improved from 0.37623 to 0.37601, saving model to weights_64.hdf5\n",
      "\n",
      "Epoch 37: loss improved from 0.37601 to 0.37517, saving model to weights_64.hdf5\n",
      "\n",
      "Epoch 38: loss did not improve from 0.37517\n",
      "\n",
      "Epoch 39: loss did not improve from 0.37517\n",
      "\n",
      "Epoch 40: loss improved from 0.37517 to 0.37488, saving model to weights_64.hdf5\n",
      "\n",
      "Epoch 41: loss improved from 0.37488 to 0.37463, saving model to weights_64.hdf5\n",
      "\n",
      "Epoch 42: loss improved from 0.37463 to 0.37449, saving model to weights_64.hdf5\n",
      "\n",
      "Epoch 43: loss improved from 0.37449 to 0.37442, saving model to weights_64.hdf5\n",
      "\n",
      "Epoch 44: loss improved from 0.37442 to 0.37423, saving model to weights_64.hdf5\n",
      "\n",
      "Epoch 45: loss improved from 0.37423 to 0.37366, saving model to weights_64.hdf5\n",
      "\n",
      "Epoch 46: loss did not improve from 0.37366\n",
      "\n",
      "Epoch 47: loss improved from 0.37366 to 0.37320, saving model to weights_64.hdf5\n",
      "\n",
      "Epoch 48: loss did not improve from 0.37320\n",
      "\n",
      "Epoch 49: loss improved from 0.37320 to 0.37313, saving model to weights_64.hdf5\n",
      "\n",
      "Epoch 50: loss improved from 0.37313 to 0.37283, saving model to weights_64.hdf5\n",
      "\n",
      "Epoch 51: loss improved from 0.37283 to 0.37254, saving model to weights_64.hdf5\n",
      "\n",
      "Epoch 52: loss improved from 0.37254 to 0.37230, saving model to weights_64.hdf5\n",
      "\n",
      "Epoch 53: loss improved from 0.37230 to 0.37217, saving model to weights_64.hdf5\n",
      "\n",
      "Epoch 54: loss did not improve from 0.37217\n",
      "\n",
      "Epoch 55: loss improved from 0.37217 to 0.37174, saving model to weights_64.hdf5\n",
      "\n",
      "Epoch 56: loss improved from 0.37174 to 0.37149, saving model to weights_64.hdf5\n",
      "\n",
      "Epoch 57: loss improved from 0.37149 to 0.37118, saving model to weights_64.hdf5\n",
      "\n",
      "Epoch 58: loss improved from 0.37118 to 0.37110, saving model to weights_64.hdf5\n",
      "\n",
      "Epoch 59: loss improved from 0.37110 to 0.37086, saving model to weights_64.hdf5\n",
      "\n",
      "Epoch 60: loss improved from 0.37086 to 0.37077, saving model to weights_64.hdf5\n",
      "\n",
      "Epoch 61: loss improved from 0.37077 to 0.37037, saving model to weights_64.hdf5\n",
      "\n",
      "Epoch 62: loss improved from 0.37037 to 0.37035, saving model to weights_64.hdf5\n",
      "\n",
      "Epoch 63: loss improved from 0.37035 to 0.37012, saving model to weights_64.hdf5\n",
      "\n",
      "Epoch 64: loss improved from 0.37012 to 0.36995, saving model to weights_64.hdf5\n",
      "\n",
      "Epoch 65: loss improved from 0.36995 to 0.36994, saving model to weights_64.hdf5\n",
      "\n",
      "Epoch 66: loss improved from 0.36994 to 0.36979, saving model to weights_64.hdf5\n",
      "\n",
      "Epoch 67: loss improved from 0.36979 to 0.36966, saving model to weights_64.hdf5\n",
      "\n",
      "Epoch 68: loss improved from 0.36966 to 0.36927, saving model to weights_64.hdf5\n",
      "\n",
      "Epoch 69: loss improved from 0.36927 to 0.36912, saving model to weights_64.hdf5\n",
      "\n",
      "Epoch 70: loss improved from 0.36912 to 0.36885, saving model to weights_64.hdf5\n",
      "\n",
      "Epoch 71: loss improved from 0.36885 to 0.36865, saving model to weights_64.hdf5\n",
      "\n",
      "Epoch 72: loss improved from 0.36865 to 0.36852, saving model to weights_64.hdf5\n",
      "\n",
      "Epoch 73: loss improved from 0.36852 to 0.36843, saving model to weights_64.hdf5\n",
      "\n",
      "Epoch 74: loss improved from 0.36843 to 0.36838, saving model to weights_64.hdf5\n",
      "\n",
      "Epoch 75: loss improved from 0.36838 to 0.36814, saving model to weights_64.hdf5\n",
      "\n",
      "Epoch 76: loss improved from 0.36814 to 0.36795, saving model to weights_64.hdf5\n",
      "\n",
      "Epoch 77: loss improved from 0.36795 to 0.36760, saving model to weights_64.hdf5\n",
      "\n",
      "Epoch 78: loss improved from 0.36760 to 0.36749, saving model to weights_64.hdf5\n",
      "\n",
      "Epoch 79: loss improved from 0.36749 to 0.36720, saving model to weights_64.hdf5\n",
      "\n",
      "Epoch 80: loss improved from 0.36720 to 0.36693, saving model to weights_64.hdf5\n",
      "\n",
      "Epoch 81: loss improved from 0.36693 to 0.36680, saving model to weights_64.hdf5\n",
      "\n",
      "Epoch 82: loss improved from 0.36680 to 0.36661, saving model to weights_64.hdf5\n",
      "\n",
      "Epoch 83: loss improved from 0.36661 to 0.36649, saving model to weights_64.hdf5\n",
      "\n",
      "Epoch 84: loss improved from 0.36649 to 0.36629, saving model to weights_64.hdf5\n",
      "\n",
      "Epoch 85: loss did not improve from 0.36629\n",
      "\n",
      "Epoch 86: loss improved from 0.36629 to 0.36578, saving model to weights_64.hdf5\n",
      "\n",
      "Epoch 87: loss improved from 0.36578 to 0.36558, saving model to weights_64.hdf5\n",
      "\n",
      "Epoch 88: loss improved from 0.36558 to 0.36555, saving model to weights_64.hdf5\n",
      "\n",
      "Epoch 89: loss improved from 0.36555 to 0.36511, saving model to weights_64.hdf5\n",
      "\n",
      "Epoch 90: loss improved from 0.36511 to 0.36507, saving model to weights_64.hdf5\n",
      "\n",
      "Epoch 91: loss improved from 0.36507 to 0.36486, saving model to weights_64.hdf5\n",
      "\n",
      "Epoch 92: loss improved from 0.36486 to 0.36483, saving model to weights_64.hdf5\n",
      "\n",
      "Epoch 93: loss improved from 0.36483 to 0.36481, saving model to weights_64.hdf5\n",
      "\n",
      "Epoch 94: loss improved from 0.36481 to 0.36434, saving model to weights_64.hdf5\n",
      "\n",
      "Epoch 95: loss improved from 0.36434 to 0.36414, saving model to weights_64.hdf5\n",
      "\n",
      "Epoch 96: loss improved from 0.36414 to 0.36397, saving model to weights_64.hdf5\n",
      "\n",
      "Epoch 97: loss improved from 0.36397 to 0.36386, saving model to weights_64.hdf5\n",
      "\n",
      "Epoch 98: loss improved from 0.36386 to 0.36364, saving model to weights_64.hdf5\n",
      "\n",
      "Epoch 99: loss improved from 0.36364 to 0.36342, saving model to weights_64.hdf5\n",
      "\n",
      "Epoch 100: loss improved from 0.36342 to 0.36318, saving model to weights_64.hdf5\n",
      "\n",
      "Epoch 101: loss improved from 0.36318 to 0.36301, saving model to weights_64.hdf5\n",
      "\n",
      "Epoch 102: loss improved from 0.36301 to 0.36260, saving model to weights_64.hdf5\n",
      "\n",
      "Epoch 103: loss improved from 0.36260 to 0.36254, saving model to weights_64.hdf5\n",
      "\n",
      "Epoch 104: loss improved from 0.36254 to 0.36248, saving model to weights_64.hdf5\n",
      "\n",
      "Epoch 105: loss improved from 0.36248 to 0.36228, saving model to weights_64.hdf5\n",
      "\n",
      "Epoch 106: loss improved from 0.36228 to 0.36186, saving model to weights_64.hdf5\n",
      "\n",
      "Epoch 107: loss improved from 0.36186 to 0.36138, saving model to weights_64.hdf5\n",
      "\n",
      "Epoch 108: loss did not improve from 0.36138\n",
      "\n",
      "Epoch 109: loss improved from 0.36138 to 0.36091, saving model to weights_64.hdf5\n",
      "\n",
      "Epoch 110: loss improved from 0.36091 to 0.36087, saving model to weights_64.hdf5\n",
      "\n",
      "Epoch 111: loss did not improve from 0.36087\n",
      "\n",
      "Epoch 112: loss improved from 0.36087 to 0.36021, saving model to weights_64.hdf5\n",
      "\n",
      "Epoch 113: loss did not improve from 0.36021\n",
      "\n",
      "Epoch 114: loss improved from 0.36021 to 0.36006, saving model to weights_64.hdf5\n",
      "\n",
      "Epoch 115: loss improved from 0.36006 to 0.35987, saving model to weights_64.hdf5\n",
      "\n",
      "Epoch 116: loss improved from 0.35987 to 0.35970, saving model to weights_64.hdf5\n",
      "\n",
      "Epoch 117: loss improved from 0.35970 to 0.35960, saving model to weights_64.hdf5\n",
      "\n",
      "Epoch 118: loss improved from 0.35960 to 0.35944, saving model to weights_64.hdf5\n",
      "\n",
      "Epoch 119: loss improved from 0.35944 to 0.35920, saving model to weights_64.hdf5\n",
      "\n",
      "Epoch 120: loss improved from 0.35920 to 0.35874, saving model to weights_64.hdf5\n",
      "\n",
      "Epoch 121: loss improved from 0.35874 to 0.35853, saving model to weights_64.hdf5\n",
      "\n",
      "Epoch 122: loss improved from 0.35853 to 0.35850, saving model to weights_64.hdf5\n",
      "\n",
      "Epoch 123: loss improved from 0.35850 to 0.35835, saving model to weights_64.hdf5\n",
      "\n",
      "Epoch 124: loss improved from 0.35835 to 0.35776, saving model to weights_64.hdf5\n",
      "\n",
      "Epoch 125: loss improved from 0.35776 to 0.35758, saving model to weights_64.hdf5\n",
      "\n",
      "Epoch 126: loss did not improve from 0.35758\n",
      "\n",
      "Epoch 127: loss improved from 0.35758 to 0.35721, saving model to weights_64.hdf5\n",
      "\n",
      "Epoch 128: loss did not improve from 0.35721\n",
      "\n",
      "Epoch 129: loss improved from 0.35721 to 0.35674, saving model to weights_64.hdf5\n",
      "\n",
      "Epoch 130: loss improved from 0.35674 to 0.35666, saving model to weights_64.hdf5\n",
      "\n",
      "Epoch 131: loss improved from 0.35666 to 0.35654, saving model to weights_64.hdf5\n",
      "\n",
      "Epoch 132: loss improved from 0.35654 to 0.35623, saving model to weights_64.hdf5\n",
      "\n",
      "Epoch 133: loss improved from 0.35623 to 0.35592, saving model to weights_64.hdf5\n",
      "\n",
      "Epoch 134: loss improved from 0.35592 to 0.35579, saving model to weights_64.hdf5\n",
      "\n",
      "Epoch 135: loss improved from 0.35579 to 0.35567, saving model to weights_64.hdf5\n",
      "\n",
      "Epoch 136: loss improved from 0.35567 to 0.35552, saving model to weights_64.hdf5\n",
      "\n",
      "Epoch 137: loss improved from 0.35552 to 0.35481, saving model to weights_64.hdf5\n",
      "\n",
      "Epoch 138: loss did not improve from 0.35481\n",
      "\n",
      "Epoch 139: loss improved from 0.35481 to 0.35465, saving model to weights_64.hdf5\n",
      "\n",
      "Epoch 140: loss improved from 0.35465 to 0.35457, saving model to weights_64.hdf5\n",
      "\n",
      "Epoch 141: loss improved from 0.35457 to 0.35427, saving model to weights_64.hdf5\n",
      "\n",
      "Epoch 142: loss improved from 0.35427 to 0.35377, saving model to weights_64.hdf5\n",
      "\n",
      "Epoch 143: loss did not improve from 0.35377\n",
      "\n",
      "Epoch 144: loss improved from 0.35377 to 0.35357, saving model to weights_64.hdf5\n",
      "\n",
      "Epoch 145: loss improved from 0.35357 to 0.35350, saving model to weights_64.hdf5\n",
      "\n",
      "Epoch 146: loss improved from 0.35350 to 0.35320, saving model to weights_64.hdf5\n",
      "\n",
      "Epoch 147: loss improved from 0.35320 to 0.35277, saving model to weights_64.hdf5\n",
      "\n",
      "Epoch 148: loss improved from 0.35277 to 0.35275, saving model to weights_64.hdf5\n",
      "\n",
      "Epoch 149: loss improved from 0.35275 to 0.35256, saving model to weights_64.hdf5\n",
      "\n",
      "Epoch 150: loss improved from 0.35256 to 0.35245, saving model to weights_64.hdf5\n",
      "\n",
      "Epoch 151: loss improved from 0.35245 to 0.35228, saving model to weights_64.hdf5\n",
      "\n",
      "Epoch 152: loss improved from 0.35228 to 0.35204, saving model to weights_64.hdf5\n",
      "\n",
      "Epoch 153: loss improved from 0.35204 to 0.35159, saving model to weights_64.hdf5\n",
      "\n",
      "Epoch 154: loss improved from 0.35159 to 0.35154, saving model to weights_64.hdf5\n",
      "\n",
      "Epoch 155: loss improved from 0.35154 to 0.35128, saving model to weights_64.hdf5\n",
      "\n",
      "Epoch 156: loss improved from 0.35128 to 0.35082, saving model to weights_64.hdf5\n",
      "\n",
      "Epoch 157: loss improved from 0.35082 to 0.35046, saving model to weights_64.hdf5\n",
      "\n",
      "Epoch 158: loss did not improve from 0.35046\n",
      "\n",
      "Epoch 159: loss improved from 0.35046 to 0.35042, saving model to weights_64.hdf5\n",
      "\n",
      "Epoch 160: loss improved from 0.35042 to 0.35002, saving model to weights_64.hdf5\n",
      "\n",
      "Epoch 161: loss did not improve from 0.35002\n",
      "\n",
      "Epoch 162: loss improved from 0.35002 to 0.34992, saving model to weights_64.hdf5\n",
      "\n",
      "Epoch 163: loss improved from 0.34992 to 0.34961, saving model to weights_64.hdf5\n",
      "\n",
      "Epoch 164: loss improved from 0.34961 to 0.34929, saving model to weights_64.hdf5\n",
      "\n",
      "Epoch 165: loss did not improve from 0.34929\n",
      "\n",
      "Epoch 166: loss improved from 0.34929 to 0.34910, saving model to weights_64.hdf5\n",
      "\n",
      "Epoch 167: loss did not improve from 0.34910\n",
      "\n",
      "Epoch 168: loss improved from 0.34910 to 0.34886, saving model to weights_64.hdf5\n",
      "\n",
      "Epoch 169: loss improved from 0.34886 to 0.34835, saving model to weights_64.hdf5\n",
      "\n",
      "Epoch 170: loss improved from 0.34835 to 0.34824, saving model to weights_64.hdf5\n",
      "\n",
      "Epoch 171: loss improved from 0.34824 to 0.34814, saving model to weights_64.hdf5\n",
      "\n",
      "Epoch 172: loss improved from 0.34814 to 0.34789, saving model to weights_64.hdf5\n",
      "\n",
      "Epoch 173: loss did not improve from 0.34789\n",
      "\n",
      "Epoch 174: loss improved from 0.34789 to 0.34727, saving model to weights_64.hdf5\n",
      "\n",
      "Epoch 175: loss did not improve from 0.34727\n",
      "\n",
      "Epoch 176: loss improved from 0.34727 to 0.34699, saving model to weights_64.hdf5\n",
      "\n",
      "Epoch 177: loss did not improve from 0.34699\n",
      "\n",
      "Epoch 178: loss did not improve from 0.34699\n",
      "\n",
      "Epoch 179: loss improved from 0.34699 to 0.34661, saving model to weights_64.hdf5\n",
      "\n",
      "Epoch 180: loss improved from 0.34661 to 0.34653, saving model to weights_64.hdf5\n",
      "\n",
      "Epoch 181: loss did not improve from 0.34653\n",
      "\n",
      "Epoch 182: loss improved from 0.34653 to 0.34614, saving model to weights_64.hdf5\n",
      "\n",
      "Epoch 183: loss did not improve from 0.34614\n",
      "\n",
      "Epoch 184: loss improved from 0.34614 to 0.34612, saving model to weights_64.hdf5\n",
      "\n",
      "Epoch 185: loss improved from 0.34612 to 0.34607, saving model to weights_64.hdf5\n",
      "\n",
      "Epoch 186: loss improved from 0.34607 to 0.34545, saving model to weights_64.hdf5\n",
      "\n",
      "Epoch 187: loss improved from 0.34545 to 0.34522, saving model to weights_64.hdf5\n",
      "\n",
      "Epoch 188: loss did not improve from 0.34522\n",
      "\n",
      "Epoch 189: loss improved from 0.34522 to 0.34456, saving model to weights_64.hdf5\n",
      "\n",
      "Epoch 190: loss did not improve from 0.34456\n",
      "\n",
      "Epoch 191: loss did not improve from 0.34456\n",
      "\n",
      "Epoch 192: loss improved from 0.34456 to 0.34423, saving model to weights_64.hdf5\n",
      "\n",
      "Epoch 193: loss improved from 0.34423 to 0.34415, saving model to weights_64.hdf5\n",
      "\n",
      "Epoch 194: loss improved from 0.34415 to 0.34388, saving model to weights_64.hdf5\n",
      "\n",
      "Epoch 195: loss improved from 0.34388 to 0.34352, saving model to weights_64.hdf5\n",
      "\n",
      "Epoch 196: loss did not improve from 0.34352\n",
      "\n",
      "Epoch 197: loss improved from 0.34352 to 0.34339, saving model to weights_64.hdf5\n",
      "\n",
      "Epoch 198: loss did not improve from 0.34339\n",
      "\n",
      "Epoch 199: loss improved from 0.34339 to 0.34304, saving model to weights_64.hdf5\n",
      "\n",
      "Epoch 200: loss improved from 0.34304 to 0.34291, saving model to weights_64.hdf5\n"
     ]
    }
   ],
   "source": [
    "with tf.device('/gpu:0'):\n",
    "    model.fit(X_train, y_train, batch_size=32, epochs=200, verbose=0, validation_split=0.2,\n",
    "             callbacks=[checkpoint])"
   ]
  },
  {
   "cell_type": "code",
   "execution_count": 17,
   "id": "276c0e2e",
   "metadata": {
    "execution": {
     "iopub.execute_input": "2023-11-24T18:48:42.448021Z",
     "iopub.status.busy": "2023-11-24T18:48:42.447251Z",
     "iopub.status.idle": "2023-11-24T18:48:46.937514Z",
     "shell.execute_reply": "2023-11-24T18:48:46.936483Z"
    },
    "papermill": {
     "duration": 4.517301,
     "end_time": "2023-11-24T18:48:46.939857",
     "exception": false,
     "start_time": "2023-11-24T18:48:42.422556",
     "status": "completed"
    },
    "tags": []
   },
   "outputs": [
    {
     "name": "stdout",
     "output_type": "stream",
     "text": [
      "1467/1467 [==============================] - 4s 3ms/step - loss: 0.4247 - binary_accuracy: 0.8263\n"
     ]
    }
   ],
   "source": [
    "loss, acc = model.evaluate(X_test, y_test)"
   ]
  },
  {
   "cell_type": "code",
   "execution_count": 18,
   "id": "f0a1c615",
   "metadata": {
    "execution": {
     "iopub.execute_input": "2023-11-24T18:48:47.000853Z",
     "iopub.status.busy": "2023-11-24T18:48:47.000508Z",
     "iopub.status.idle": "2023-11-24T18:48:47.006810Z",
     "shell.execute_reply": "2023-11-24T18:48:47.005869Z"
    },
    "papermill": {
     "duration": 0.038728,
     "end_time": "2023-11-24T18:48:47.008860",
     "exception": false,
     "start_time": "2023-11-24T18:48:46.970132",
     "status": "completed"
    },
    "tags": []
   },
   "outputs": [
    {
     "data": {
      "text/plain": [
       "(0.4246584177017212, 0.8263196349143982)"
      ]
     },
     "execution_count": 18,
     "metadata": {},
     "output_type": "execute_result"
    }
   ],
   "source": [
    "loss, acc"
   ]
  }
 ],
 "metadata": {
  "kaggle": {
   "accelerator": "gpu",
   "dataSources": [
    {
     "datasetId": 6012,
     "sourceId": 1733506,
     "sourceType": "datasetVersion"
    }
   ],
   "dockerImageVersionId": 30587,
   "isGpuEnabled": true,
   "isInternetEnabled": true,
   "language": "python",
   "sourceType": "notebook"
  },
  "kernelspec": {
   "display_name": "Python 3",
   "language": "python",
   "name": "python3"
  },
  "language_info": {
   "codemirror_mode": {
    "name": "ipython",
    "version": 3
   },
   "file_extension": ".py",
   "mimetype": "text/x-python",
   "name": "python",
   "nbconvert_exporter": "python",
   "pygments_lexer": "ipython3",
   "version": "3.10.12"
  },
  "papermill": {
   "default_parameters": {},
   "duration": 2164.34339,
   "end_time": "2023-11-24T18:48:50.326525",
   "environment_variables": {},
   "exception": null,
   "input_path": "__notebook__.ipynb",
   "output_path": "__notebook__.ipynb",
   "parameters": {},
   "start_time": "2023-11-24T18:12:45.983135",
   "version": "2.4.0"
  }
 },
 "nbformat": 4,
 "nbformat_minor": 5
}
